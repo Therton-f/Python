{
 "cells": [
  {
   "cell_type": "markdown",
   "id": "23bac8cc-7208-4c95-b44d-06e2aec76e42",
   "metadata": {
    "jp-MarkdownHeadingCollapsed": true
   },
   "source": [
    "# IF "
   ]
  },
  {
   "cell_type": "code",
   "execution_count": 1,
   "id": "4e953772-79b3-4276-ac25-35c75f0e8e6c",
   "metadata": {},
   "outputs": [
    {
     "name": "stdout",
     "output_type": "stream",
     "text": [
      "it worked\n"
     ]
    }
   ],
   "source": [
    "if 25 > 10:\n",
    "    print('it worked')"
   ]
  },
  {
   "cell_type": "code",
   "execution_count": 2,
   "id": "3f6b033a-47e2-4598-98df-0452870dd235",
   "metadata": {},
   "outputs": [
    {
     "name": "stdout",
     "output_type": "stream",
     "text": [
      "it did not worked...\n"
     ]
    }
   ],
   "source": [
    "if 25 <10:\n",
    "    print('it worked')\n",
    "else :\n",
    "    print('it did not worked...')"
   ]
  },
  {
   "cell_type": "code",
   "execution_count": 3,
   "id": "af1a4aba-0eb9-4273-9ac5-84c0dc7d8eb2",
   "metadata": {},
   "outputs": [
    {
     "name": "stdout",
     "output_type": "stream",
     "text": [
      "elif worked\n"
     ]
    }
   ],
   "source": [
    "if 25 <10:\n",
    "    print('it worked')\n",
    "elif 25<30:\n",
    "    print('elif worked')\n",
    "else :\n",
    "    print('it did not worked...')"
   ]
  },
  {
   "cell_type": "code",
   "execution_count": 4,
   "id": "83cccfa2-1aea-4a4f-8181-df782f8d79c6",
   "metadata": {},
   "outputs": [
    {
     "name": "stdout",
     "output_type": "stream",
     "text": [
      "it did not worked...\n"
     ]
    }
   ],
   "source": [
    "#one line format\n",
    "print('it worked') if 10>30 else print('it did not worked...') "
   ]
  },
  {
   "cell_type": "code",
   "execution_count": 5,
   "id": "15e631f8-bcea-44b8-8680-c38b06ad0001",
   "metadata": {},
   "outputs": [
    {
     "name": "stdout",
     "output_type": "stream",
     "text": [
      "it worked\n",
      "nested if worked\n"
     ]
    }
   ],
   "source": [
    "#nested if\n",
    "\n",
    "if (25<10) or (1<3):\n",
    "    print('it worked')\n",
    "    if (10>5):\n",
    "        print('nested if worked')\n",
    "elif (25 < 20) :\n",
    "    print('elif 1 worked')\n",
    "elif (25 < 21):\n",
    "    print('elif 2 worked')\n",
    "else:\n",
    "    print('it did not worked')"
   ]
  },
  {
   "cell_type": "code",
   "execution_count": null,
   "id": "02ce4ec9-956e-4114-88f8-833b3deeec80",
   "metadata": {},
   "outputs": [],
   "source": []
  },
  {
   "cell_type": "markdown",
   "id": "34292786-c897-41b0-87da-bb1b7c8f3a10",
   "metadata": {
    "jp-MarkdownHeadingCollapsed": true
   },
   "source": [
    "# For"
   ]
  },
  {
   "cell_type": "code",
   "execution_count": 6,
   "id": "9989b6cf-046e-48e1-bdef-9e71c6166a62",
   "metadata": {},
   "outputs": [
    {
     "name": "stdout",
     "output_type": "stream",
     "text": [
      "1\n",
      "4\n",
      "True\n",
      "High\n",
      "(2, 3, 4)\n"
     ]
    }
   ],
   "source": [
    "# range(start, stop, step)\n",
    "#only 1 argument in range by default take as stop value\n",
    "\n",
    "for i in [1,4,True, 'High', (2,3,4)]:\n",
    "    print(i)"
   ]
  },
  {
   "cell_type": "code",
   "execution_count": 1,
   "id": "bd29a9ff-e4ac-4dc6-9380-2c9b7527f8c4",
   "metadata": {},
   "outputs": [],
   "source": [
    "integers = [23,59,13,85,69]"
   ]
  },
  {
   "cell_type": "code",
   "execution_count": 2,
   "id": "eac71394-81ae-43e5-8437-34d9ace8bca8",
   "metadata": {},
   "outputs": [
    {
     "name": "stdout",
     "output_type": "stream",
     "text": [
      "23\n",
      "59\n",
      "13\n",
      "85\n",
      "69\n"
     ]
    }
   ],
   "source": [
    "for number in integers:\n",
    "    print(number)"
   ]
  },
  {
   "cell_type": "code",
   "execution_count": 3,
   "id": "b3c56952-8bd9-4b8a-aa11-24d2b4556908",
   "metadata": {},
   "outputs": [
    {
     "name": "stdout",
     "output_type": "stream",
     "text": [
      "0 23\n",
      "1 59\n",
      "2 13\n",
      "3 85\n",
      "4 69\n"
     ]
    }
   ],
   "source": [
    "#enumerate create index\n",
    "for i, element in enumerate(integers):\n",
    "    print(i, element)"
   ]
  },
  {
   "cell_type": "code",
   "execution_count": 4,
   "id": "75f95a14-4a0d-4a5f-8991-882e4c195913",
   "metadata": {},
   "outputs": [
    {
     "name": "stdout",
     "output_type": "stream",
     "text": [
      "yep!\n",
      "yep!\n",
      "yep!\n",
      "yep!\n",
      "yep!\n"
     ]
    }
   ],
   "source": [
    "for number in integers:\n",
    "    print('yep!')"
   ]
  },
  {
   "cell_type": "code",
   "execution_count": 11,
   "id": "f73e997f-f409-47f9-a9ed-221d4056be2f",
   "metadata": {},
   "outputs": [],
   "source": [
    "integers = [1,2,3,4,5]"
   ]
  },
  {
   "cell_type": "code",
   "execution_count": 5,
   "id": "e00dc4b4-4e26-4cd7-96b1-a7e0318c23e0",
   "metadata": {},
   "outputs": [
    {
     "name": "stdout",
     "output_type": "stream",
     "text": [
      "46\n",
      "118\n",
      "26\n",
      "170\n",
      "138\n"
     ]
    }
   ],
   "source": [
    "for jelly in integers:\n",
    "    print(jelly + jelly)"
   ]
  },
  {
   "cell_type": "code",
   "execution_count": 13,
   "id": "82b3e498-a452-4cbd-bef9-01e905dd0664",
   "metadata": {},
   "outputs": [],
   "source": [
    "ice_cream_dict = {'name':'alex freberg', 'weekly intake': 5, 'fav ice cream': ['MCC','Chocolate']}"
   ]
  },
  {
   "cell_type": "code",
   "execution_count": 14,
   "id": "57331261-a067-45e9-bc4c-87a3b5aa4295",
   "metadata": {},
   "outputs": [
    {
     "name": "stdout",
     "output_type": "stream",
     "text": [
      "alex freberg\n",
      "5\n",
      "['MCC', 'Chocolate']\n"
     ]
    }
   ],
   "source": [
    "for cream in ice_cream_dict.values():\n",
    "    print(cream)"
   ]
  },
  {
   "cell_type": "code",
   "execution_count": 15,
   "id": "4b7f51c1-ed9f-4d61-bf43-b8730fc1d17a",
   "metadata": {},
   "outputs": [
    {
     "name": "stdout",
     "output_type": "stream",
     "text": [
      "name -> alex freberg\n",
      "weekly intake -> 5\n",
      "fav ice cream -> ['MCC', 'Chocolate']\n"
     ]
    }
   ],
   "source": [
    "for key, value in ice_cream_dict.items():\n",
    "    print(key, '->', value)"
   ]
  },
  {
   "cell_type": "code",
   "execution_count": 16,
   "id": "e6a10671-f6b4-4a2e-8e4d-0595212fa5dd",
   "metadata": {},
   "outputs": [],
   "source": [
    "#nested for loop"
   ]
  },
  {
   "cell_type": "code",
   "execution_count": 18,
   "id": "8c980257-05a5-48d6-8f46-caff064303a7",
   "metadata": {},
   "outputs": [],
   "source": [
    "flavors = ['Vanilla','Chocolate','Cookie Dough']\n",
    "toppings = ['Hot Fudge','Oreos','Marshmallows']"
   ]
  },
  {
   "cell_type": "code",
   "execution_count": 19,
   "id": "f3fdfc78-7a3a-4bfe-8a74-82b6782140cf",
   "metadata": {},
   "outputs": [
    {
     "name": "stdout",
     "output_type": "stream",
     "text": [
      "Vanilla topped with Hot Fudge\n",
      "Vanilla topped with Oreos\n",
      "Vanilla topped with Marshmallows\n",
      "Chocolate topped with Hot Fudge\n",
      "Chocolate topped with Oreos\n",
      "Chocolate topped with Marshmallows\n",
      "Cookie Dough topped with Hot Fudge\n",
      "Cookie Dough topped with Oreos\n",
      "Cookie Dough topped with Marshmallows\n"
     ]
    }
   ],
   "source": [
    "for one in flavors:\n",
    "    for two in toppings:\n",
    "        print(one, 'topped with', two)"
   ]
  },
  {
   "cell_type": "code",
   "execution_count": null,
   "id": "e6036b2f-5afc-4347-b361-107c6f893828",
   "metadata": {},
   "outputs": [],
   "source": []
  },
  {
   "cell_type": "code",
   "execution_count": null,
   "id": "64462744-a752-4c39-9ae8-92f5297ba47b",
   "metadata": {},
   "outputs": [],
   "source": []
  },
  {
   "cell_type": "markdown",
   "id": "5ec7e005-6677-404e-a76b-88cdc13c9615",
   "metadata": {},
   "source": [
    "# While\n",
    "#while loop continue untill given condition will be true after that it will break\n",
    "#for loop is without condition run for all values"
   ]
  },
  {
   "cell_type": "code",
   "execution_count": null,
   "id": "40b5ccf6-0ed8-42a2-8393-164e19c78198",
   "metadata": {},
   "outputs": [],
   "source": []
  },
  {
   "cell_type": "code",
   "execution_count": 3,
   "id": "30223221-e6a4-45d9-bdb2-5c4a3b2180d0",
   "metadata": {},
   "outputs": [
    {
     "name": "stdout",
     "output_type": "stream",
     "text": [
      "0\n",
      "1\n",
      "2\n",
      "3\n",
      "4\n"
     ]
    }
   ],
   "source": [
    "number = 0\n",
    "\n",
    "while number < 5:\n",
    "    print(number)\n",
    "    number = number + 1"
   ]
  },
  {
   "cell_type": "code",
   "execution_count": 4,
   "id": "1d0da541-67db-4716-a4f0-36bf1038a3b2",
   "metadata": {},
   "outputs": [
    {
     "name": "stdout",
     "output_type": "stream",
     "text": [
      "0\n",
      "1\n",
      "2\n",
      "3\n"
     ]
    }
   ],
   "source": [
    "#with use of break, code below it never came to existence\n",
    "number = 0\n",
    "\n",
    "while number < 5:\n",
    "    print(number)\n",
    "    if number == 3:\n",
    "        break\n",
    "    number = number + 1"
   ]
  },
  {
   "cell_type": "code",
   "execution_count": null,
   "id": "ea87b762-cdd0-4660-9e33-e32870e957a9",
   "metadata": {},
   "outputs": [],
   "source": []
  },
  {
   "cell_type": "code",
   "execution_count": 10,
   "id": "576893e7-0790-4384-abd3-2219f2f1ba96",
   "metadata": {},
   "outputs": [
    {
     "name": "stdout",
     "output_type": "stream",
     "text": [
      "0\n",
      "1\n",
      "2\n",
      "3\n",
      "4\n",
      "no longer < 5\n"
     ]
    }
   ],
   "source": [
    "#here else statement is condition only if while loop no longer works\n",
    "\n",
    "number = 0\n",
    "\n",
    "while number < 5:\n",
    "    print(number)\n",
    "    number = number + 1\n",
    "else:\n",
    "    print('no longer < 5')"
   ]
  },
  {
   "cell_type": "code",
   "execution_count": 6,
   "id": "4ec6c071-a351-4d9e-8008-d0e2f88d8fb6",
   "metadata": {},
   "outputs": [
    {
     "name": "stdout",
     "output_type": "stream",
     "text": [
      "0\n",
      "1\n",
      "2\n",
      "3\n"
     ]
    }
   ],
   "source": [
    "#here while loop will it self stop due to breaking condition given in it, so else will not start\n",
    "#code below break never came into existence\n",
    "number = 0\n",
    "\n",
    "while number < 5:\n",
    "    print(number)\n",
    "    if number == 3:\n",
    "        break\n",
    "    number = number + 1\n",
    "else:\n",
    "    print('no longer < 5')"
   ]
  },
  {
   "cell_type": "code",
   "execution_count": null,
   "id": "55dab4f3-3188-4bd5-a311-af3fd04c3407",
   "metadata": {},
   "outputs": [],
   "source": []
  },
  {
   "cell_type": "code",
   "execution_count": null,
   "id": "f215454b-49f9-441e-9665-626f9b3db98f",
   "metadata": {},
   "outputs": [],
   "source": [
    "#infinite running- bcz continue fn sent values to while loop and code below continue never came to exist"
   ]
  },
  {
   "cell_type": "code",
   "execution_count": null,
   "id": "20979892-62dc-40b8-af6c-86b2b7670066",
   "metadata": {},
   "outputs": [],
   "source": [
    "number = 0\n",
    "\n",
    "while number < 5:\n",
    "    print(number)\n",
    "    if number == 3:\n",
    "        continue\n",
    "    number = number + 1\n",
    "else:\n",
    "    print('no longer < 5')"
   ]
  },
  {
   "cell_type": "code",
   "execution_count": null,
   "id": "f784e358-562d-41e0-9cc0-0e22dde95066",
   "metadata": {},
   "outputs": [],
   "source": []
  },
  {
   "cell_type": "code",
   "execution_count": 1,
   "id": "ab34f6a8-db72-4471-a7aa-5058a13c767e",
   "metadata": {},
   "outputs": [
    {
     "name": "stdout",
     "output_type": "stream",
     "text": [
      "0\n",
      "1\n",
      "2\n",
      "4\n",
      "5\n",
      "no longer < 5\n"
     ]
    }
   ],
   "source": [
    "number = -1\n",
    "\n",
    "while number < 5:\n",
    "    number = number + 1\n",
    "    if number == 3:\n",
    "        continue\n",
    "    print(number)    \n",
    "\n",
    "else:\n",
    "    print('no longer < 5')"
   ]
  },
  {
   "cell_type": "code",
   "execution_count": null,
   "id": "f2012fae-88b6-4744-b871-11860059d686",
   "metadata": {},
   "outputs": [],
   "source": []
  }
 ],
 "metadata": {
  "kernelspec": {
   "display_name": "Python 3 (ipykernel)",
   "language": "python",
   "name": "python3"
  },
  "language_info": {
   "codemirror_mode": {
    "name": "ipython",
    "version": 3
   },
   "file_extension": ".py",
   "mimetype": "text/x-python",
   "name": "python",
   "nbconvert_exporter": "python",
   "pygments_lexer": "ipython3",
   "version": "3.11.7"
  }
 },
 "nbformat": 4,
 "nbformat_minor": 5
}
