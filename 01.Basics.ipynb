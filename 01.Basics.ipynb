{
 "cells": [
  {
   "cell_type": "markdown",
   "metadata": {
    "jp-MarkdownHeadingCollapsed": true
   },
   "source": [
    "# Basics"
   ]
  },
  {
   "cell_type": "code",
   "execution_count": 1,
   "metadata": {
    "colab": {
     "base_uri": "https://localhost:8080/"
    },
    "executionInfo": {
     "elapsed": 425,
     "status": "ok",
     "timestamp": 1711166437780,
     "user": {
      "displayName": "Shubham Hadeeya",
      "userId": "09113901104055523562"
     },
     "user_tz": -330
    },
    "id": "JEPgn7audgDU",
    "outputId": "24608c12-ce4a-42ce-8078-ae741987100b"
   },
   "outputs": [
    {
     "name": "stdout",
     "output_type": "stream",
     "text": [
      "Hello World!\n"
     ]
    }
   ],
   "source": [
    "print(\"Hello World!\")"
   ]
  },
  {
   "cell_type": "code",
   "execution_count": null,
   "metadata": {},
   "outputs": [],
   "source": [
    "#by default end fn in print is \\n"
   ]
  },
  {
   "cell_type": "code",
   "execution_count": 4,
   "metadata": {},
   "outputs": [
    {
     "name": "stdout",
     "output_type": "stream",
     "text": [
      "Hello\n",
      "world\n"
     ]
    }
   ],
   "source": [
    "print('Hello', end='\\n')\n",
    "print('world')"
   ]
  },
  {
   "cell_type": "code",
   "execution_count": null,
   "metadata": {},
   "outputs": [],
   "source": [
    "#but we can change default setting"
   ]
  },
  {
   "cell_type": "code",
   "execution_count": 5,
   "metadata": {},
   "outputs": [
    {
     "name": "stdout",
     "output_type": "stream",
     "text": [
      "Hello|world\n"
     ]
    }
   ],
   "source": [
    "print('Hello', end='|')\n",
    "print('world')"
   ]
  },
  {
   "cell_type": "code",
   "execution_count": 2,
   "metadata": {
    "colab": {
     "base_uri": "https://localhost:8080/"
    },
    "executionInfo": {
     "elapsed": 412,
     "status": "ok",
     "timestamp": 1711166498426,
     "user": {
      "displayName": "Shubham Hadeeya",
      "userId": "09113901104055523562"
     },
     "user_tz": -330
    },
    "id": "QxNcngeEeIIk",
    "outputId": "effa2f60-a78e-41d7-90a4-51d6046ed998"
   },
   "outputs": [
    {
     "name": "stdout",
     "output_type": "stream",
     "text": [
      "13\n"
     ]
    }
   ],
   "source": [
    "print(10+3)"
   ]
  },
  {
   "cell_type": "code",
   "execution_count": 4,
   "metadata": {
    "colab": {
     "base_uri": "https://localhost:8080/"
    },
    "executionInfo": {
     "elapsed": 5,
     "status": "ok",
     "timestamp": 1711166559498,
     "user": {
      "displayName": "Shubham Hadeeya",
      "userId": "09113901104055523562"
     },
     "user_tz": -330
    },
    "id": "IiN4Z5uTeYcs",
    "outputId": "b3ed5209-7e1b-4c5e-b433-d4e09b76d657"
   },
   "outputs": [
    {
     "name": "stdout",
     "output_type": "stream",
     "text": [
      "True\n",
      "True\n"
     ]
    }
   ],
   "source": [
    "# demonstration of comparison operators\n",
    "# >, <, <=, >= , ==, !=(not equal to)\n",
    "\n",
    "print(3 == 3)\n",
    "print(2 != 3)"
   ]
  },
  {
   "cell_type": "code",
   "execution_count": null,
   "metadata": {},
   "outputs": [],
   "source": [
    "# // double division gives integer values of divisions\n",
    "# % gives remainder"
   ]
  },
  {
   "cell_type": "code",
   "execution_count": 7,
   "metadata": {},
   "outputs": [
    {
     "name": "stdout",
     "output_type": "stream",
     "text": [
      "3\n"
     ]
    }
   ],
   "source": [
    "x = 10\n",
    "y = 3\n",
    "z = x//y\n",
    "print(z)"
   ]
  },
  {
   "cell_type": "code",
   "execution_count": null,
   "metadata": {},
   "outputs": [],
   "source": []
  },
  {
   "cell_type": "code",
   "execution_count": null,
   "metadata": {},
   "outputs": [],
   "source": []
  },
  {
   "cell_type": "code",
   "execution_count": 5,
   "metadata": {
    "colab": {
     "base_uri": "https://localhost:8080/"
    },
    "executionInfo": {
     "elapsed": 427,
     "status": "ok",
     "timestamp": 1711166577029,
     "user": {
      "displayName": "Shubham Hadeeya",
      "userId": "09113901104055523562"
     },
     "user_tz": -330
    },
    "id": "eBPN79uPecct",
    "outputId": "c73fd239-d3b1-484f-dc60-0a5e7b4c8b01"
   },
   "outputs": [
    {
     "data": {
      "text/plain": [
       "False"
      ]
     },
     "execution_count": 5,
     "metadata": {},
     "output_type": "execute_result"
    }
   ],
   "source": [
    "# logical operators\n",
    "# and if both condition true then only give true else flase\n",
    "\n",
    "(3 < 2) and (5 < 10)"
   ]
  },
  {
   "cell_type": "code",
   "execution_count": 6,
   "metadata": {
    "colab": {
     "base_uri": "https://localhost:8080/"
    },
    "executionInfo": {
     "elapsed": 404,
     "status": "ok",
     "timestamp": 1711166618398,
     "user": {
      "displayName": "Shubham Hadeeya",
      "userId": "09113901104055523562"
     },
     "user_tz": -330
    },
    "id": "_RiYwT3Cem2F",
    "outputId": "9efb38c2-d565-48c2-91ea-f423fedf0e6d"
   },
   "outputs": [
    {
     "data": {
      "text/plain": [
       "True"
      ]
     },
     "execution_count": 6,
     "metadata": {},
     "output_type": "execute_result"
    }
   ],
   "source": [
    "(3 < 2) or (5 < 10)"
   ]
  },
  {
   "cell_type": "code",
   "execution_count": 7,
   "metadata": {
    "colab": {
     "base_uri": "https://localhost:8080/"
    },
    "executionInfo": {
     "elapsed": 390,
     "status": "ok",
     "timestamp": 1711166628838,
     "user": {
      "displayName": "Shubham Hadeeya",
      "userId": "09113901104055523562"
     },
     "user_tz": -330
    },
    "id": "s2XsVyaxepZT",
    "outputId": "b819271d-8e04-46a9-e29b-0ce44e8af0f4"
   },
   "outputs": [
    {
     "data": {
      "text/plain": [
       "False"
      ]
     },
     "execution_count": 7,
     "metadata": {},
     "output_type": "execute_result"
    }
   ],
   "source": [
    "#not changes values to opposites\n",
    "not (3 > 2)"
   ]
  },
  {
   "cell_type": "code",
   "execution_count": null,
   "metadata": {},
   "outputs": [],
   "source": [
    "#and or not execution order -> \"\"and>or>not\"\""
   ]
  },
  {
   "cell_type": "code",
   "execution_count": 6,
   "metadata": {},
   "outputs": [
    {
     "data": {
      "text/plain": [
       "True"
      ]
     },
     "execution_count": 6,
     "metadata": {},
     "output_type": "execute_result"
    }
   ],
   "source": [
    "True and False or True"
   ]
  },
  {
   "cell_type": "code",
   "execution_count": 8,
   "metadata": {
    "colab": {
     "base_uri": "https://localhost:8080/"
    },
    "executionInfo": {
     "elapsed": 5942,
     "status": "ok",
     "timestamp": 1711167011634,
     "user": {
      "displayName": "Shubham Hadeeya",
      "userId": "09113901104055523562"
     },
     "user_tz": -330
    },
    "id": "WocLMcqbe6S7",
    "outputId": "54a0d588-e2c8-43e2-e49c-1f9fb5dd48de"
   },
   "outputs": [
    {
     "name": "stdin",
     "output_type": "stream",
     "text": [
      "enter first number:  2\n",
      "enter second number:  3.5\n"
     ]
    },
    {
     "name": "stdout",
     "output_type": "stream",
     "text": [
      "Sum:  5\n"
     ]
    }
   ],
   "source": [
    "N1 = float(input(\"enter first number: \"))\n",
    "N2 = float(input(\"enter second number: \"))\n",
    "\n",
    "sum_result = N1 + N2\n",
    "print(\"Sum: \", int(sum_result))"
   ]
  },
  {
   "cell_type": "code",
   "execution_count": 9,
   "metadata": {
    "colab": {
     "base_uri": "https://localhost:8080/"
    },
    "executionInfo": {
     "elapsed": 7336,
     "status": "ok",
     "timestamp": 1711166999655,
     "user": {
      "displayName": "Shubham Hadeeya",
      "userId": "09113901104055523562"
     },
     "user_tz": -330
    },
    "id": "dKBrDrG7gBAq",
    "outputId": "1a0fadb3-eb6d-4cd0-de57-3d176df7cb70"
   },
   "outputs": [
    {
     "name": "stdin",
     "output_type": "stream",
     "text": [
      "enter first number:  2\n",
      "enter second number:  3.5\n"
     ]
    },
    {
     "name": "stdout",
     "output_type": "stream",
     "text": [
      "Sum:  5.5\n"
     ]
    }
   ],
   "source": [
    "N1 = float(input(\"enter first number: \"))\n",
    "N2 = float(input(\"enter second number: \"))\n",
    "\n",
    "sum_result = N1 + N2\n",
    "print(\"Sum: \", float(sum_result))"
   ]
  },
  {
   "cell_type": "code",
   "execution_count": 10,
   "metadata": {
    "colab": {
     "base_uri": "https://localhost:8080/"
    },
    "executionInfo": {
     "elapsed": 378,
     "status": "ok",
     "timestamp": 1711167989280,
     "user": {
      "displayName": "Shubham Hadeeya",
      "userId": "09113901104055523562"
     },
     "user_tz": -330
    },
    "id": "yut0om_Jik64",
    "outputId": "9de7d409-a61d-4dd2-c269-0ee2f8d24854"
   },
   "outputs": [
    {
     "name": "stdout",
     "output_type": "stream",
     "text": [
      "<class 'int'>\n",
      "<class 'str'>\n",
      "<class 'float'>\n"
     ]
    }
   ],
   "source": [
    "print(type(2))\n",
    "print(type('Shubham'))\n",
    "print(type(5.4))\n"
   ]
  },
  {
   "cell_type": "code",
   "execution_count": 11,
   "metadata": {
    "colab": {
     "base_uri": "https://localhost:8080/"
    },
    "executionInfo": {
     "elapsed": 640,
     "status": "ok",
     "timestamp": 1711167902461,
     "user": {
      "displayName": "Shubham Hadeeya",
      "userId": "09113901104055523562"
     },
     "user_tz": -330
    },
    "id": "FijX2d1tix0X",
    "outputId": "d55d49fe-5335-4891-858c-00a0d89cec01"
   },
   "outputs": [
    {
     "name": "stdout",
     "output_type": "stream",
     "text": [
      "<class 'bool'>\n",
      "<class 'bool'>\n"
     ]
    }
   ],
   "source": [
    "# true and false are boolean values in python\n",
    "print(type(True))\n",
    "print(type(False))"
   ]
  },
  {
   "cell_type": "code",
   "execution_count": 12,
   "metadata": {
    "id": "V-1jVhTzhItb"
   },
   "outputs": [],
   "source": [
    "# assigning values to variables\n",
    "\n",
    "height = 5.4\n",
    "weight = 65\n"
   ]
  },
  {
   "cell_type": "code",
   "execution_count": 13,
   "metadata": {
    "colab": {
     "base_uri": "https://localhost:8080/"
    },
    "executionInfo": {
     "elapsed": 393,
     "status": "ok",
     "timestamp": 1711167995215,
     "user": {
      "displayName": "Shubham Hadeeya",
      "userId": "09113901104055523562"
     },
     "user_tz": -330
    },
    "id": "YgQaf-vUigee",
    "outputId": "56210d49-f80e-4116-dda5-1307b7dd3259"
   },
   "outputs": [
    {
     "name": "stdout",
     "output_type": "stream",
     "text": [
      "<class 'float'>\n"
     ]
    }
   ],
   "source": [
    "print(type(height))"
   ]
  },
  {
   "cell_type": "markdown",
   "metadata": {
    "id": "-VBJK0rJj5rx"
   },
   "source": [
    "we have define the value of height as 5.4, so now its type will be float"
   ]
  },
  {
   "cell_type": "code",
   "execution_count": 14,
   "metadata": {
    "colab": {
     "base_uri": "https://localhost:8080/"
    },
    "executionInfo": {
     "elapsed": 439,
     "status": "ok",
     "timestamp": 1711170212359,
     "user": {
      "displayName": "Shubham Hadeeya",
      "userId": "09113901104055523562"
     },
     "user_tz": -330
    },
    "id": "kFqlfJrwjmsx",
    "outputId": "6850dc57-c2c5-4a78-b182-6167d942234a"
   },
   "outputs": [
    {
     "name": "stdout",
     "output_type": "stream",
     "text": [
      "5.4\n"
     ]
    }
   ],
   "source": [
    "print(height)"
   ]
  },
  {
   "cell_type": "code",
   "execution_count": 9,
   "metadata": {},
   "outputs": [
    {
     "data": {
      "text/plain": [
       "int"
      ]
     },
     "execution_count": 9,
     "metadata": {},
     "output_type": "execute_result"
    }
   ],
   "source": [
    "type(-12 + 100)"
   ]
  },
  {
   "cell_type": "code",
   "execution_count": 10,
   "metadata": {},
   "outputs": [
    {
     "data": {
      "text/plain": [
       "complex"
      ]
     },
     "execution_count": 10,
     "metadata": {},
     "output_type": "execute_result"
    }
   ],
   "source": [
    "#cpmplex values use j only, other alphabet will give error\n",
    "type(12 + 3j)"
   ]
  },
  {
   "cell_type": "code",
   "execution_count": null,
   "metadata": {},
   "outputs": [],
   "source": []
  },
  {
   "cell_type": "markdown",
   "metadata": {
    "id": "7FqqsfW2ybqH",
    "jp-MarkdownHeadingCollapsed": true
   },
   "source": [
    "# List\n",
    "ordered, mutable, heterogeneous, contains duplicate"
   ]
  },
  {
   "cell_type": "code",
   "execution_count": 15,
   "metadata": {
    "colab": {
     "base_uri": "https://localhost:8080/"
    },
    "executionInfo": {
     "elapsed": 428,
     "status": "ok",
     "timestamp": 1711169768279,
     "user": {
      "displayName": "Shubham Hadeeya",
      "userId": "09113901104055523562"
     },
     "user_tz": -330
    },
    "id": "BfM-rNjWlzRr",
    "outputId": "6a923cec-a23b-483a-8cb9-533692f201d0"
   },
   "outputs": [
    {
     "name": "stdout",
     "output_type": "stream",
     "text": [
      "<class 'list'>\n"
     ]
    }
   ],
   "source": [
    "# creating list with names of students\n",
    "\n",
    "print(type(['rahul', 'Ajay', 'Nilesh']))"
   ]
  },
  {
   "cell_type": "code",
   "execution_count": 16,
   "metadata": {
    "executionInfo": {
     "elapsed": 552,
     "status": "ok",
     "timestamp": 1712833169150,
     "user": {
      "displayName": "Shubham Hadeeya",
      "userId": "09113901104055523562"
     },
     "user_tz": -330
    },
    "id": "zdnFdeOKqxoF"
   },
   "outputs": [],
   "source": [
    "#assigning variable a value of list\n",
    "names_of_students = ['rahul', 'Ajay', 'Nilesh']"
   ]
  },
  {
   "cell_type": "code",
   "execution_count": 17,
   "metadata": {
    "colab": {
     "base_uri": "https://localhost:8080/"
    },
    "executionInfo": {
     "elapsed": 403,
     "status": "ok",
     "timestamp": 1711169857355,
     "user": {
      "displayName": "Shubham Hadeeya",
      "userId": "09113901104055523562"
     },
     "user_tz": -330
    },
    "id": "VuuYxI-2q3wm",
    "outputId": "205724b8-39aa-4fb1-fc5a-78add7740773"
   },
   "outputs": [
    {
     "name": "stdout",
     "output_type": "stream",
     "text": [
      "<class 'list'>\n"
     ]
    }
   ],
   "source": [
    "print(type(names_of_students))"
   ]
  },
  {
   "cell_type": "code",
   "execution_count": 18,
   "metadata": {
    "colab": {
     "base_uri": "https://localhost:8080/",
     "height": 35
    },
    "executionInfo": {
     "elapsed": 9,
     "status": "ok",
     "timestamp": 1711170046211,
     "user": {
      "displayName": "Shubham Hadeeya",
      "userId": "09113901104055523562"
     },
     "user_tz": -330
    },
    "id": "JhFc_VSkrHXM",
    "outputId": "17d8ac57-3fbb-4097-ef1e-df6cef791e94"
   },
   "outputs": [
    {
     "data": {
      "text/plain": [
       "'rahul'"
      ]
     },
     "execution_count": 18,
     "metadata": {},
     "output_type": "execute_result"
    }
   ],
   "source": [
    "#in list indexing start from 0, ex rahul have index 0 position\n",
    "names_of_students[0]\n"
   ]
  },
  {
   "cell_type": "code",
   "execution_count": 19,
   "metadata": {
    "colab": {
     "base_uri": "https://localhost:8080/",
     "height": 141
    },
    "executionInfo": {
     "elapsed": 13,
     "status": "error",
     "timestamp": 1711170055627,
     "user": {
      "displayName": "Shubham Hadeeya",
      "userId": "09113901104055523562"
     },
     "user_tz": -330
    },
    "id": "vgHgeM0brsmb",
    "outputId": "bc620cf1-a998-4d4e-a492-1784d778c9f7"
   },
   "outputs": [],
   "source": [
    "#names_of_students[3] wont work bcz index 3, means 4th element is out of range"
   ]
  },
  {
   "cell_type": "code",
   "execution_count": 20,
   "metadata": {
    "colab": {
     "base_uri": "https://localhost:8080/"
    },
    "executionInfo": {
     "elapsed": 9,
     "status": "ok",
     "timestamp": 1711170426336,
     "user": {
      "displayName": "Shubham Hadeeya",
      "userId": "09113901104055523562"
     },
     "user_tz": -330
    },
    "id": "19nyMd2stGNW",
    "outputId": "bcf67f01-6906-4074-ccd4-83e41d667499"
   },
   "outputs": [
    {
     "name": "stdout",
     "output_type": "stream",
     "text": [
      "['rahul', 'Ajay', 'Nilesh']\n"
     ]
    }
   ],
   "source": [
    "print(names_of_students)"
   ]
  },
  {
   "cell_type": "code",
   "execution_count": 21,
   "metadata": {
    "id": "S8S66AMNtJ3P"
   },
   "outputs": [],
   "source": [
    "names_of_students.append('geeta')"
   ]
  },
  {
   "cell_type": "code",
   "execution_count": 22,
   "metadata": {
    "colab": {
     "base_uri": "https://localhost:8080/"
    },
    "executionInfo": {
     "elapsed": 432,
     "status": "ok",
     "timestamp": 1711170542218,
     "user": {
      "displayName": "Shubham Hadeeya",
      "userId": "09113901104055523562"
     },
     "user_tz": -330
    },
    "id": "az4Bwx4ftdLh",
    "outputId": "9bd5ced3-bbf2-4811-f9f9-379d2fcee7d7"
   },
   "outputs": [
    {
     "name": "stdout",
     "output_type": "stream",
     "text": [
      "['rahul', 'Ajay', 'Nilesh', 'geeta']\n"
     ]
    }
   ],
   "source": [
    "print(names_of_students)"
   ]
  },
  {
   "cell_type": "code",
   "execution_count": 23,
   "metadata": {
    "id": "T3qBxf0PtmHb"
   },
   "outputs": [],
   "source": [
    "#append add values at the right end, insert allows us to add any fixed index value\n",
    "\n",
    "names_of_students.insert(3, 'sakshi')"
   ]
  },
  {
   "cell_type": "code",
   "execution_count": 24,
   "metadata": {
    "colab": {
     "base_uri": "https://localhost:8080/"
    },
    "executionInfo": {
     "elapsed": 831,
     "status": "ok",
     "timestamp": 1711186093277,
     "user": {
      "displayName": "Shubham Hadeeya",
      "userId": "09113901104055523562"
     },
     "user_tz": -330
    },
    "id": "kC6QOmZft1oD",
    "outputId": "c7578bce-f9a6-4992-8e9f-9afb1af0e0c9"
   },
   "outputs": [
    {
     "name": "stdout",
     "output_type": "stream",
     "text": [
      "['rahul', 'Ajay', 'Nilesh', 'sakshi', 'geeta']\n"
     ]
    }
   ],
   "source": [
    "print(names_of_students)"
   ]
  },
  {
   "cell_type": "code",
   "execution_count": 25,
   "metadata": {
    "id": "NewQIanbuDEr"
   },
   "outputs": [],
   "source": [
    "del(height)\n",
    "#now we have deleted variable height"
   ]
  },
  {
   "cell_type": "code",
   "execution_count": 26,
   "metadata": {
    "colab": {
     "base_uri": "https://localhost:8080/",
     "height": 141
    },
    "executionInfo": {
     "elapsed": 10,
     "status": "error",
     "timestamp": 1711170745636,
     "user": {
      "displayName": "Shubham Hadeeya",
      "userId": "09113901104055523562"
     },
     "user_tz": -330
    },
    "id": "jh4Rt0vKuVDL",
    "outputId": "0ee5e285-b837-477c-a350-a2567631f1e9"
   },
   "outputs": [],
   "source": [
    "#print(height) will give error bcz it deleted"
   ]
  },
  {
   "cell_type": "code",
   "execution_count": 27,
   "metadata": {
    "id": "KWyR2lPXud2M"
   },
   "outputs": [],
   "source": [
    "del(names_of_students[0])"
   ]
  },
  {
   "cell_type": "code",
   "execution_count": 28,
   "metadata": {
    "colab": {
     "base_uri": "https://localhost:8080/"
    },
    "executionInfo": {
     "elapsed": 11,
     "status": "ok",
     "timestamp": 1711186100851,
     "user": {
      "displayName": "Shubham Hadeeya",
      "userId": "09113901104055523562"
     },
     "user_tz": -330
    },
    "id": "zmY77VQiujoD",
    "outputId": "9be9a39f-b790-4e95-b1c3-8cfb3b551c6a"
   },
   "outputs": [
    {
     "name": "stdout",
     "output_type": "stream",
     "text": [
      "['Ajay', 'Nilesh', 'sakshi', 'geeta']\n"
     ]
    }
   ],
   "source": [
    "print(names_of_students)"
   ]
  },
  {
   "cell_type": "code",
   "execution_count": 29,
   "metadata": {
    "colab": {
     "base_uri": "https://localhost:8080/"
    },
    "executionInfo": {
     "elapsed": 437,
     "status": "ok",
     "timestamp": 1711171716610,
     "user": {
      "displayName": "Shubham Hadeeya",
      "userId": "09113901104055523562"
     },
     "user_tz": -330
    },
    "id": "bpYxjJDux7lg",
    "outputId": "44e719b5-e928-4ab3-80ce-42b2332ff34c"
   },
   "outputs": [
    {
     "data": {
      "text/plain": [
       "[1, 2.5, 'shubh', True]"
      ]
     },
     "execution_count": 29,
     "metadata": {},
     "output_type": "execute_result"
    }
   ],
   "source": [
    "[1 , 2.5, 'shubh', True]"
   ]
  },
  {
   "cell_type": "code",
   "execution_count": 30,
   "metadata": {
    "id": "GpMBsWcNyE4v"
   },
   "outputs": [],
   "source": [
    "all_ones = [1, 1, 1, 1]"
   ]
  },
  {
   "cell_type": "code",
   "execution_count": 31,
   "metadata": {},
   "outputs": [
    {
     "data": {
      "text/plain": [
       "[1, 1, 1, 1, 5, 5, 5, 5, 5]"
      ]
     },
     "execution_count": 31,
     "metadata": {},
     "output_type": "execute_result"
    }
   ],
   "source": [
    "# instead of append/insert we can use extend w/ another list\n",
    "all_ones.extend([5,5,5,5,5,])\n",
    "all_ones"
   ]
  },
  {
   "cell_type": "code",
   "execution_count": 32,
   "metadata": {},
   "outputs": [
    {
     "name": "stdout",
     "output_type": "stream",
     "text": [
      "5\n",
      "[1, 1, 1, 1, 5, 5, 5, 5]\n"
     ]
    }
   ],
   "source": [
    "# pop() will popout last element and remove it\n",
    "# pop(3) will remove 4th element\n",
    "print(all_ones.pop())\n",
    "print(all_ones)"
   ]
  },
  {
   "cell_type": "code",
   "execution_count": null,
   "metadata": {},
   "outputs": [],
   "source": []
  },
  {
   "cell_type": "code",
   "execution_count": 33,
   "metadata": {},
   "outputs": [
    {
     "name": "stdout",
     "output_type": "stream",
     "text": [
      "['hello', True, 'hi'] ['hello', True, 'hi']\n"
     ]
    }
   ],
   "source": [
    "x = [4, True, 'hi']\n",
    "y = x\n",
    "x[0] = 'hello'\n",
    "print(x,y)   \n",
    "# x does not store the values of list, it just made reference to it, thats why updating it after assigning y, affect y as well"
   ]
  },
  {
   "cell_type": "code",
   "execution_count": 34,
   "metadata": {},
   "outputs": [
    {
     "name": "stdout",
     "output_type": "stream",
     "text": [
      "['hello', True, 'hi'] [4, True, 'hi']\n"
     ]
    }
   ],
   "source": [
    "x = [4, True, 'hi']\n",
    "y = x[:]\n",
    "x[0] = 'hello'\n",
    "print(x,y)   \n",
    "#now y is storing output values of list of x, and now changing x wont affect it"
   ]
  },
  {
   "cell_type": "code",
   "execution_count": null,
   "metadata": {},
   "outputs": [],
   "source": []
  },
  {
   "cell_type": "code",
   "execution_count": 35,
   "metadata": {},
   "outputs": [],
   "source": [
    "#can have list,tuple within list\n",
    "x = [[1,2], (3,4), [[5,6],[7,8],[9,0]], True]"
   ]
  },
  {
   "cell_type": "code",
   "execution_count": 11,
   "metadata": {},
   "outputs": [],
   "source": [
    "nest_list = ['vanilla' , 3, ['scoops', 'spoon'], True]"
   ]
  },
  {
   "cell_type": "code",
   "execution_count": 12,
   "metadata": {},
   "outputs": [
    {
     "data": {
      "text/plain": [
       "['scoops', 'spoon']"
      ]
     },
     "execution_count": 12,
     "metadata": {},
     "output_type": "execute_result"
    }
   ],
   "source": [
    "nest_list[2]"
   ]
  },
  {
   "cell_type": "code",
   "execution_count": 13,
   "metadata": {},
   "outputs": [
    {
     "data": {
      "text/plain": [
       "'spoon'"
      ]
     },
     "execution_count": 13,
     "metadata": {},
     "output_type": "execute_result"
    }
   ],
   "source": [
    "nest_list[2][1]"
   ]
  },
  {
   "cell_type": "code",
   "execution_count": null,
   "metadata": {},
   "outputs": [],
   "source": []
  },
  {
   "cell_type": "markdown",
   "metadata": {
    "id": "DyoiQJOVzEFw",
    "jp-MarkdownHeadingCollapsed": true
   },
   "source": [
    "# Tuples\n",
    " ordered, unmutable, heterogeneous, contains duplicate"
   ]
  },
  {
   "cell_type": "code",
   "execution_count": 2,
   "metadata": {
    "id": "0F58Jq6tzJNg"
   },
   "outputs": [],
   "source": [
    "tuple_of_names = ('Ajay', 'Priyanka', 'Sakshi', 'Geeta')"
   ]
  },
  {
   "cell_type": "code",
   "execution_count": 37,
   "metadata": {
    "colab": {
     "base_uri": "https://localhost:8080/"
    },
    "executionInfo": {
     "elapsed": 583,
     "status": "ok",
     "timestamp": 1711185711170,
     "user": {
      "displayName": "Shubham Hadeeya",
      "userId": "09113901104055523562"
     },
     "user_tz": -330
    },
    "id": "Ir_733lDnXWX",
    "outputId": "70aa89fb-bf7c-4e98-e624-bee32c788af5"
   },
   "outputs": [
    {
     "name": "stdout",
     "output_type": "stream",
     "text": [
      "<class 'tuple'>\n"
     ]
    }
   ],
   "source": [
    "print(type(tuple_of_names))"
   ]
  },
  {
   "cell_type": "code",
   "execution_count": 38,
   "metadata": {
    "colab": {
     "base_uri": "https://localhost:8080/",
     "height": 35
    },
    "executionInfo": {
     "elapsed": 570,
     "status": "ok",
     "timestamp": 1711185739157,
     "user": {
      "displayName": "Shubham Hadeeya",
      "userId": "09113901104055523562"
     },
     "user_tz": -330
    },
    "id": "4XSwy7rxnemc",
    "outputId": "3f4912bd-f7fb-469e-eee1-751cc6ea54e6"
   },
   "outputs": [
    {
     "data": {
      "text/plain": [
       "'Ajay'"
      ]
     },
     "execution_count": 38,
     "metadata": {},
     "output_type": "execute_result"
    }
   ],
   "source": [
    "tuple_of_names[0]"
   ]
  },
  {
   "cell_type": "code",
   "execution_count": 56,
   "metadata": {
    "colab": {
     "base_uri": "https://localhost:8080/",
     "height": 141
    },
    "executionInfo": {
     "elapsed": 597,
     "status": "error",
     "timestamp": 1711185855709,
     "user": {
      "displayName": "Shubham Hadeeya",
      "userId": "09113901104055523562"
     },
     "user_tz": -330
    },
    "id": "sR2hhKYtn4lt",
    "outputId": "3019ec16-d3ba-44a8-f6d9-ea7fbddc7136"
   },
   "outputs": [
    {
     "ename": "TypeError",
     "evalue": "'tuple' object does not support item assignment",
     "output_type": "error",
     "traceback": [
      "\u001b[1;31m---------------------------------------------------------------------------\u001b[0m",
      "\u001b[1;31mTypeError\u001b[0m                                 Traceback (most recent call last)",
      "Cell \u001b[1;32mIn[56], line 1\u001b[0m\n\u001b[1;32m----> 1\u001b[0m tuple_of_names[\u001b[38;5;241m1\u001b[39m]\u001b[38;5;241m=\u001b[39m \u001b[38;5;124m\"\u001b[39m\u001b[38;5;124mAkshat\u001b[39m\u001b[38;5;124m\"\u001b[39m\n",
      "\u001b[1;31mTypeError\u001b[0m: 'tuple' object does not support item assignment"
     ]
    }
   ],
   "source": [
    "tuple_of_names[1]= \"Akshat\""
   ]
  },
  {
   "cell_type": "code",
   "execution_count": 40,
   "metadata": {
    "id": "I3kcgLXun4EX"
   },
   "outputs": [],
   "source": [
    "names_of_students[1]=\"Akshat\""
   ]
  },
  {
   "cell_type": "code",
   "execution_count": 41,
   "metadata": {
    "colab": {
     "base_uri": "https://localhost:8080/"
    },
    "executionInfo": {
     "elapsed": 543,
     "status": "ok",
     "timestamp": 1711186115683,
     "user": {
      "displayName": "Shubham Hadeeya",
      "userId": "09113901104055523562"
     },
     "user_tz": -330
    },
    "id": "m3moEPqyo-ia",
    "outputId": "dadce830-d9a0-434d-8ea1-28a9c5ab5576"
   },
   "outputs": [
    {
     "name": "stdout",
     "output_type": "stream",
     "text": [
      "['Ajay', 'Akshat', 'sakshi', 'geeta']\n"
     ]
    }
   ],
   "source": [
    "print(names_of_students)"
   ]
  },
  {
   "cell_type": "code",
   "execution_count": 57,
   "metadata": {
    "colab": {
     "base_uri": "https://localhost:8080/",
     "height": 141
    },
    "executionInfo": {
     "elapsed": 686,
     "status": "error",
     "timestamp": 1711186170939,
     "user": {
      "displayName": "Shubham Hadeeya",
      "userId": "09113901104055523562"
     },
     "user_tz": -330
    },
    "id": "s2hE05lDpIhs",
    "outputId": "9b5fcb7f-9389-4a2a-e0aa-0bd8952f3335"
   },
   "outputs": [
    {
     "ename": "TypeError",
     "evalue": "'tuple' object doesn't support item deletion",
     "output_type": "error",
     "traceback": [
      "\u001b[1;31m---------------------------------------------------------------------------\u001b[0m",
      "\u001b[1;31mTypeError\u001b[0m                                 Traceback (most recent call last)",
      "Cell \u001b[1;32mIn[57], line 1\u001b[0m\n\u001b[1;32m----> 1\u001b[0m \u001b[38;5;28;01mdel\u001b[39;00m(tuple_of_names[\u001b[38;5;241m1\u001b[39m])\n",
      "\u001b[1;31mTypeError\u001b[0m: 'tuple' object doesn't support item deletion"
     ]
    }
   ],
   "source": [
    "del(tuple_of_names[1])"
   ]
  },
  {
   "cell_type": "markdown",
   "metadata": {
    "jp-MarkdownHeadingCollapsed": true
   },
   "source": [
    "# Set\n",
    "cant have duplicate values and not ordered, \n",
    "on printing set only unique values will be returned"
   ]
  },
  {
   "cell_type": "code",
   "execution_count": 44,
   "metadata": {},
   "outputs": [],
   "source": [
    "daily_pints = {1,2,3}"
   ]
  },
  {
   "cell_type": "code",
   "execution_count": 15,
   "metadata": {},
   "outputs": [
    {
     "data": {
      "text/plain": [
       "set"
      ]
     },
     "execution_count": 15,
     "metadata": {},
     "output_type": "execute_result"
    }
   ],
   "source": [
    "type(daily_pints)"
   ]
  },
  {
   "cell_type": "code",
   "execution_count": 16,
   "metadata": {},
   "outputs": [],
   "source": [
    "daily_pints_log = {1,2,3,4,5,6,31,5,6}"
   ]
  },
  {
   "cell_type": "code",
   "execution_count": 17,
   "metadata": {},
   "outputs": [],
   "source": [
    "wifes_daily_pints_log = {1,3,5,7,3,24,5,7,3,2,0}"
   ]
  },
  {
   "cell_type": "code",
   "execution_count": 45,
   "metadata": {},
   "outputs": [
    {
     "name": "stdout",
     "output_type": "stream",
     "text": [
      "{0, 1, 2, 3, 4, 5, 6, 7, 24, 31}\n"
     ]
    }
   ],
   "source": [
    "#cobine unique values from either sets # just like union\n",
    "\n",
    "print(daily_pints_log | wifes_daily_pints_log )"
   ]
  },
  {
   "cell_type": "code",
   "execution_count": 19,
   "metadata": {},
   "outputs": [
    {
     "name": "stdout",
     "output_type": "stream",
     "text": [
      "{1, 2, 3, 5}\n"
     ]
    }
   ],
   "source": [
    "#cobine unique values from 2 sets # just like intersection\n",
    "\n",
    "print(daily_pints_log & wifes_daily_pints_log )"
   ]
  },
  {
   "cell_type": "code",
   "execution_count": 20,
   "metadata": {},
   "outputs": [
    {
     "name": "stdout",
     "output_type": "stream",
     "text": [
      "{4, 6, 31}\n"
     ]
    }
   ],
   "source": [
    "#values that are in daily pints but not in wifes daily pints i.e. non-commmon values from daily_pints_log\n",
    "\n",
    "print(daily_pints_log - wifes_daily_pints_log )"
   ]
  },
  {
   "cell_type": "code",
   "execution_count": 21,
   "metadata": {},
   "outputs": [
    {
     "name": "stdout",
     "output_type": "stream",
     "text": [
      "{0, 24, 7}\n"
     ]
    }
   ],
   "source": [
    "#values that are in daily pints but not in wifes daily pints i.e. non-commmon values from wifes_daily_pints_log\n",
    "\n",
    "\n",
    "print( wifes_daily_pints_log - daily_pints_log )"
   ]
  },
  {
   "cell_type": "code",
   "execution_count": 22,
   "metadata": {},
   "outputs": [
    {
     "name": "stdout",
     "output_type": "stream",
     "text": [
      "{0, 4, 6, 7, 24, 31}\n"
     ]
    }
   ],
   "source": [
    "#printing all values that are not coomon from both sets # works like difference\n",
    "\n",
    "print( wifes_daily_pints_log ^ daily_pints_log )"
   ]
  },
  {
   "cell_type": "code",
   "execution_count": 23,
   "metadata": {},
   "outputs": [],
   "source": [
    "#to create empty set do not use x= {}, it will create empty dictionary\n",
    "# for empty set use x = set()"
   ]
  },
  {
   "cell_type": "code",
   "execution_count": 24,
   "metadata": {},
   "outputs": [
    {
     "data": {
      "text/plain": [
       "{2, 3, 4, 5}"
      ]
     },
     "execution_count": 24,
     "metadata": {},
     "output_type": "execute_result"
    }
   ],
   "source": [
    "s = {2,5,4,3}\n",
    "s"
   ]
  },
  {
   "cell_type": "code",
   "execution_count": 25,
   "metadata": {},
   "outputs": [
    {
     "data": {
      "text/plain": [
       "{2, 3, 4, 5, 6}"
      ]
     },
     "execution_count": 25,
     "metadata": {},
     "output_type": "execute_result"
    }
   ],
   "source": [
    "s.add(6)\n",
    "s"
   ]
  },
  {
   "cell_type": "code",
   "execution_count": 26,
   "metadata": {},
   "outputs": [],
   "source": [
    "s.remove(5)"
   ]
  },
  {
   "cell_type": "code",
   "execution_count": 27,
   "metadata": {},
   "outputs": [
    {
     "name": "stdout",
     "output_type": "stream",
     "text": [
      "{2, 3, 4, 6}\n",
      "False\n"
     ]
    }
   ],
   "source": [
    "print(s)\n",
    "print(5 in s)"
   ]
  },
  {
   "cell_type": "code",
   "execution_count": null,
   "metadata": {},
   "outputs": [],
   "source": []
  },
  {
   "cell_type": "markdown",
   "metadata": {
    "jp-MarkdownHeadingCollapsed": true
   },
   "source": [
    "# Dictionaries"
   ]
  },
  {
   "cell_type": "code",
   "execution_count": 28,
   "metadata": {},
   "outputs": [],
   "source": [
    "dict_cream = {'name': 'Alex freberg', 'Weekly intake': 5, 'favourite ice creams': ['MCC','Chocolate']}"
   ]
  },
  {
   "cell_type": "code",
   "execution_count": 29,
   "metadata": {},
   "outputs": [
    {
     "data": {
      "text/plain": [
       "dict"
      ]
     },
     "execution_count": 29,
     "metadata": {},
     "output_type": "execute_result"
    }
   ],
   "source": [
    "type(dict_cream)"
   ]
  },
  {
   "cell_type": "code",
   "execution_count": 30,
   "metadata": {},
   "outputs": [
    {
     "data": {
      "text/plain": [
       "dict_values(['Alex freberg', 5, ['MCC', 'Chocolate']])"
      ]
     },
     "execution_count": 30,
     "metadata": {},
     "output_type": "execute_result"
    }
   ],
   "source": [
    "dict_cream.values()"
   ]
  },
  {
   "cell_type": "code",
   "execution_count": 31,
   "metadata": {},
   "outputs": [
    {
     "data": {
      "text/plain": [
       "dict_keys(['name', 'Weekly intake', 'favourite ice creams'])"
      ]
     },
     "execution_count": 31,
     "metadata": {},
     "output_type": "execute_result"
    }
   ],
   "source": [
    "dict_cream.keys()"
   ]
  },
  {
   "cell_type": "code",
   "execution_count": 32,
   "metadata": {},
   "outputs": [
    {
     "data": {
      "text/plain": [
       "dict_items([('name', 'Alex freberg'), ('Weekly intake', 5), ('favourite ice creams', ['MCC', 'Chocolate'])])"
      ]
     },
     "execution_count": 32,
     "metadata": {},
     "output_type": "execute_result"
    }
   ],
   "source": [
    "dict_cream.items()"
   ]
  },
  {
   "cell_type": "code",
   "execution_count": 33,
   "metadata": {},
   "outputs": [
    {
     "name": "stdout",
     "output_type": "stream",
     "text": [
      "['name', 'Weekly intake', 'favourite ice creams']\n"
     ]
    }
   ],
   "source": [
    "#printing keys in list format\n",
    "print(list(dict_cream.keys()))"
   ]
  },
  {
   "cell_type": "code",
   "execution_count": 34,
   "metadata": {},
   "outputs": [
    {
     "ename": "KeyError",
     "evalue": "0",
     "output_type": "error",
     "traceback": [
      "\u001b[1;31m---------------------------------------------------------------------------\u001b[0m",
      "\u001b[1;31mKeyError\u001b[0m                                  Traceback (most recent call last)",
      "Cell \u001b[1;32mIn[34], line 2\u001b[0m\n\u001b[0;32m      1\u001b[0m \u001b[38;5;66;03m#in dictionaries index type system not work\u001b[39;00m\n\u001b[1;32m----> 2\u001b[0m dict_cream[\u001b[38;5;241m0\u001b[39m]\n",
      "\u001b[1;31mKeyError\u001b[0m: 0"
     ]
    }
   ],
   "source": [
    "#in dictionaries index type system not work\n",
    "dict_cream[0]"
   ]
  },
  {
   "cell_type": "code",
   "execution_count": 35,
   "metadata": {},
   "outputs": [
    {
     "data": {
      "text/plain": [
       "'Alex freberg'"
      ]
     },
     "execution_count": 35,
     "metadata": {},
     "output_type": "execute_result"
    }
   ],
   "source": [
    "dict_cream['name']"
   ]
  },
  {
   "cell_type": "code",
   "execution_count": 36,
   "metadata": {},
   "outputs": [
    {
     "name": "stdout",
     "output_type": "stream",
     "text": [
      "{'name': 'chris freberg', 'Weekly intake': 5, 'favourite ice creams': ['MCC', 'Chocolate']}\n"
     ]
    }
   ],
   "source": [
    "dict_cream['name'] = 'chris freberg'\n",
    "print(dict_cream)"
   ]
  },
  {
   "cell_type": "code",
   "execution_count": 37,
   "metadata": {},
   "outputs": [
    {
     "name": "stdout",
     "output_type": "stream",
     "text": [
      "{'name': 'chris freberg', 'Weekly intake': 10, 'favourite ice creams': ['MCC', 'Chocolate'], 'weight': 300}\n"
     ]
    }
   ],
   "source": [
    "#update \n",
    "# using update you cant replace key/values just add the key/value pair at the end\n",
    "# but if you just change values for the same key then it will only update that value and not key\n",
    "\n",
    "dict_cream.update({'name': 'chris freberg', 'Weekly intake': 10, 'weight': 300})\n",
    "print(dict_cream)"
   ]
  },
  {
   "cell_type": "code",
   "execution_count": 38,
   "metadata": {},
   "outputs": [
    {
     "name": "stdout",
     "output_type": "stream",
     "text": [
      "{'name': 'chris freberg', 'Weekly intake': 10, 'favourite ice creams': ['MCC', 'Chocolate']}\n"
     ]
    }
   ],
   "source": [
    "del dict_cream['weight']\n",
    "print(dict_cream)"
   ]
  },
  {
   "cell_type": "code",
   "execution_count": null,
   "metadata": {},
   "outputs": [],
   "source": []
  },
  {
   "cell_type": "markdown",
   "metadata": {
    "jp-MarkdownHeadingCollapsed": true
   },
   "source": [
    "# Change datatype"
   ]
  },
  {
   "cell_type": "code",
   "execution_count": 46,
   "metadata": {},
   "outputs": [
    {
     "data": {
      "text/plain": [
       "list"
      ]
     },
     "execution_count": 46,
     "metadata": {},
     "output_type": "execute_result"
    }
   ],
   "source": [
    "list_type = [1,2,3]\n",
    "type(list_type)"
   ]
  },
  {
   "cell_type": "code",
   "execution_count": 47,
   "metadata": {},
   "outputs": [
    {
     "data": {
      "text/plain": [
       "tuple"
      ]
     },
     "execution_count": 47,
     "metadata": {},
     "output_type": "execute_result"
    }
   ],
   "source": [
    "type(tuple(list_type))"
   ]
  },
  {
   "cell_type": "code",
   "execution_count": 48,
   "metadata": {},
   "outputs": [],
   "source": [
    "list_type = [1,2,3,2,1,2,3,2,1,2]"
   ]
  },
  {
   "cell_type": "code",
   "execution_count": 49,
   "metadata": {},
   "outputs": [
    {
     "data": {
      "text/plain": [
       "{1, 2, 3}"
      ]
     },
     "execution_count": 49,
     "metadata": {},
     "output_type": "execute_result"
    }
   ],
   "source": [
    "#chnaging data type to set will only select unique values and thats why change data, so be carefull\n",
    "set(list_type)"
   ]
  },
  {
   "cell_type": "code",
   "execution_count": 50,
   "metadata": {},
   "outputs": [
    {
     "data": {
      "text/plain": [
       "['I', ' ', 'l', 'i', 'k', 'e', ' ', 't', 'o', ' ', 'p', 'a', 'r', 't', 'y']"
      ]
     },
     "execution_count": 50,
     "metadata": {},
     "output_type": "execute_result"
    }
   ],
   "source": [
    "long_str = 'I like to party'\n",
    "list(long_str)"
   ]
  },
  {
   "cell_type": "code",
   "execution_count": 51,
   "metadata": {},
   "outputs": [
    {
     "data": {
      "text/plain": [
       "{' ', 'I', 'a', 'e', 'i', 'k', 'l', 'o', 'p', 'r', 't', 'y'}"
      ]
     },
     "execution_count": 51,
     "metadata": {},
     "output_type": "execute_result"
    }
   ],
   "source": [
    "set(long_str)"
   ]
  },
  {
   "cell_type": "code",
   "execution_count": null,
   "metadata": {},
   "outputs": [],
   "source": []
  },
  {
   "cell_type": "code",
   "execution_count": null,
   "metadata": {},
   "outputs": [],
   "source": []
  },
  {
   "cell_type": "markdown",
   "metadata": {
    "jp-MarkdownHeadingCollapsed": true
   },
   "source": [
    "# membership operators\n",
    "values present in the object or not"
   ]
  },
  {
   "cell_type": "code",
   "execution_count": 40,
   "metadata": {},
   "outputs": [
    {
     "data": {
      "text/plain": [
       "True"
      ]
     },
     "execution_count": 40,
     "metadata": {},
     "output_type": "execute_result"
    }
   ],
   "source": [
    "\n",
    "\n",
    "ice_cream = 'i love chocolate ice cream'\n",
    "\n",
    "'love' in ice_cream"
   ]
  },
  {
   "cell_type": "code",
   "execution_count": 39,
   "metadata": {},
   "outputs": [],
   "source": [
    "scoops = [1,2,3,4,5]"
   ]
  },
  {
   "cell_type": "code",
   "execution_count": 41,
   "metadata": {},
   "outputs": [
    {
     "data": {
      "text/plain": [
       "True"
      ]
     },
     "execution_count": 41,
     "metadata": {},
     "output_type": "execute_result"
    }
   ],
   "source": [
    "6 not in scoops"
   ]
  },
  {
   "cell_type": "code",
   "execution_count": 42,
   "metadata": {},
   "outputs": [
    {
     "data": {
      "text/plain": [
       "True"
      ]
     },
     "execution_count": 42,
     "metadata": {},
     "output_type": "execute_result"
    }
   ],
   "source": [
    "scoops = [1,2,3,4,5]\n",
    "wanted_scoops = 8\n",
    "\n",
    "wanted_scoops not in scoops"
   ]
  },
  {
   "cell_type": "code",
   "execution_count": null,
   "metadata": {},
   "outputs": [],
   "source": []
  },
  {
   "cell_type": "markdown",
   "metadata": {
    "id": "IzQAPkixqMpn",
    "jp-MarkdownHeadingCollapsed": true
   },
   "source": [
    "# Slicing values from list and tuples"
   ]
  },
  {
   "cell_type": "code",
   "execution_count": 43,
   "metadata": {},
   "outputs": [],
   "source": [
    "# just like range [start:stop:step]"
   ]
  },
  {
   "cell_type": "code",
   "execution_count": 44,
   "metadata": {
    "colab": {
     "base_uri": "https://localhost:8080/"
    },
    "executionInfo": {
     "elapsed": 838,
     "status": "ok",
     "timestamp": 1711186499381,
     "user": {
      "displayName": "Shubham Hadeeya",
      "userId": "09113901104055523562"
     },
     "user_tz": -330
    },
    "id": "sOsnb2CHqS8W",
    "outputId": "f16a6094-803d-481d-af4e-059231ba2de0"
   },
   "outputs": [
    {
     "name": "stdout",
     "output_type": "stream",
     "text": [
      "Ajay Akshat sakshi\n"
     ]
    }
   ],
   "source": [
    "print(names_of_students[0], names_of_students[1], names_of_students[2])"
   ]
  },
  {
   "cell_type": "code",
   "execution_count": 45,
   "metadata": {
    "colab": {
     "base_uri": "https://localhost:8080/"
    },
    "executionInfo": {
     "elapsed": 15,
     "status": "ok",
     "timestamp": 1711186572207,
     "user": {
      "displayName": "Shubham Hadeeya",
      "userId": "09113901104055523562"
     },
     "user_tz": -330
    },
    "id": "feW4RVd0qeNt",
    "outputId": "296aa35d-d438-4890-eda2-e411c147c710"
   },
   "outputs": [
    {
     "data": {
      "text/plain": [
       "['Ajay', 'Akshat', 'sakshi']"
      ]
     },
     "execution_count": 45,
     "metadata": {},
     "output_type": "execute_result"
    }
   ],
   "source": [
    "#in slicing 0 is included and 3 is not, means 0,1,2 will be showen and not index value 3\n",
    "names_of_students[0:3]"
   ]
  },
  {
   "cell_type": "code",
   "execution_count": 46,
   "metadata": {
    "executionInfo": {
     "elapsed": 767,
     "status": "ok",
     "timestamp": 1712833180662,
     "user": {
      "displayName": "Shubham Hadeeya",
      "userId": "09113901104055523562"
     },
     "user_tz": -330
    },
    "id": "JBw3neVpq0JY"
   },
   "outputs": [],
   "source": [
    "top_3_students = names_of_students[0:3]"
   ]
  },
  {
   "cell_type": "code",
   "execution_count": 47,
   "metadata": {
    "colab": {
     "base_uri": "https://localhost:8080/"
    },
    "executionInfo": {
     "elapsed": 17,
     "status": "ok",
     "timestamp": 1711186638158,
     "user": {
      "displayName": "Shubham Hadeeya",
      "userId": "09113901104055523562"
     },
     "user_tz": -330
    },
    "id": "gITSCxcdq6J4",
    "outputId": "05d4396b-cd59-481a-9c16-3888a86901e2"
   },
   "outputs": [
    {
     "name": "stdout",
     "output_type": "stream",
     "text": [
      "<class 'list'>\n"
     ]
    }
   ],
   "source": [
    "print(type(top_3_students))"
   ]
  },
  {
   "cell_type": "code",
   "execution_count": 48,
   "metadata": {
    "colab": {
     "base_uri": "https://localhost:8080/"
    },
    "executionInfo": {
     "elapsed": 551,
     "status": "ok",
     "timestamp": 1711191971575,
     "user": {
      "displayName": "Shubham Hadeeya",
      "userId": "09113901104055523562"
     },
     "user_tz": -330
    },
    "id": "AdkHqgGb_RvX",
    "outputId": "a2d28e5b-687d-4f98-cc2f-74547b1b0014"
   },
   "outputs": [
    {
     "data": {
      "text/plain": [
       "list"
      ]
     },
     "execution_count": 48,
     "metadata": {},
     "output_type": "execute_result"
    }
   ],
   "source": [
    "type(top_3_students)"
   ]
  },
  {
   "cell_type": "code",
   "execution_count": 49,
   "metadata": {
    "colab": {
     "base_uri": "https://localhost:8080/"
    },
    "executionInfo": {
     "elapsed": 469,
     "status": "ok",
     "timestamp": 1712833188098,
     "user": {
      "displayName": "Shubham Hadeeya",
      "userId": "09113901104055523562"
     },
     "user_tz": -330
    },
    "id": "QC5iAvUTztJy",
    "outputId": "931a6f55-de41-46f7-cbad-3e04d0cf5b30"
   },
   "outputs": [
    {
     "name": "stdout",
     "output_type": "stream",
     "text": [
      "['Ajay', 'Akshat', 'sakshi']\n"
     ]
    }
   ],
   "source": [
    "print(top_3_students)"
   ]
  },
  {
   "cell_type": "code",
   "execution_count": 50,
   "metadata": {},
   "outputs": [
    {
     "data": {
      "text/plain": [
       "['Ajay', 'sakshi']"
      ]
     },
     "execution_count": 50,
     "metadata": {},
     "output_type": "execute_result"
    }
   ],
   "source": [
    "names_of_students[0:3:2]"
   ]
  },
  {
   "cell_type": "code",
   "execution_count": 51,
   "metadata": {
    "colab": {
     "base_uri": "https://localhost:8080/"
    },
    "executionInfo": {
     "elapsed": 577,
     "status": "ok",
     "timestamp": 1711186809801,
     "user": {
      "displayName": "Shubham Hadeeya",
      "userId": "09113901104055523562"
     },
     "user_tz": -330
    },
    "id": "CAPAZQ2xrlDB",
    "outputId": "94fa0113-dfec-4d45-c008-00811bb7251b"
   },
   "outputs": [
    {
     "data": {
      "text/plain": [
       "('Ajay', 'Priyanka')"
      ]
     },
     "execution_count": 51,
     "metadata": {},
     "output_type": "execute_result"
    }
   ],
   "source": [
    "tuple_of_names[0:2]"
   ]
  },
  {
   "cell_type": "code",
   "execution_count": 58,
   "metadata": {},
   "outputs": [],
   "source": [
    "x = [1,2,3,4,5,6,7,8,9]"
   ]
  },
  {
   "cell_type": "code",
   "execution_count": 59,
   "metadata": {},
   "outputs": [
    {
     "data": {
      "text/plain": [
       "[9, 8, 7, 6, 5, 4, 3, 2, 1]"
      ]
     },
     "execution_count": 59,
     "metadata": {},
     "output_type": "execute_result"
    }
   ],
   "source": [
    "x[::-1] # start from 0, stop at end, and stepping backwards"
   ]
  },
  {
   "cell_type": "code",
   "execution_count": 60,
   "metadata": {},
   "outputs": [
    {
     "data": {
      "text/plain": [
       "'olleh'"
      ]
     },
     "execution_count": 60,
     "metadata": {},
     "output_type": "execute_result"
    }
   ],
   "source": [
    "#reversing like this also works on string\n",
    "s = 'hello'\n",
    "s[::-1]"
   ]
  },
  {
   "cell_type": "code",
   "execution_count": 3,
   "metadata": {},
   "outputs": [
    {
     "data": {
      "text/plain": [
       "('Geeta', 'Sakshi', 'Priyanka', 'Ajay')"
      ]
     },
     "execution_count": 3,
     "metadata": {},
     "output_type": "execute_result"
    }
   ],
   "source": [
    "tuple_of_names[::-1]"
   ]
  },
  {
   "cell_type": "code",
   "execution_count": null,
   "metadata": {},
   "outputs": [],
   "source": []
  },
  {
   "cell_type": "markdown",
   "metadata": {
    "jp-MarkdownHeadingCollapsed": true
   },
   "source": [
    "# Comprehension"
   ]
  },
  {
   "cell_type": "code",
   "execution_count": 61,
   "metadata": {},
   "outputs": [
    {
     "name": "stdout",
     "output_type": "stream",
     "text": [
      "[0, 1, 2, 3, 4]\n"
     ]
    }
   ],
   "source": [
    "x = [x for x in range(5)]\n",
    "print(x)"
   ]
  },
  {
   "cell_type": "code",
   "execution_count": 62,
   "metadata": {},
   "outputs": [
    {
     "name": "stdout",
     "output_type": "stream",
     "text": [
      "[5, 6, 7, 8, 9]\n"
     ]
    }
   ],
   "source": [
    "x = [x +5 for x in range(5)]\n",
    "print(x)"
   ]
  },
  {
   "cell_type": "code",
   "execution_count": 63,
   "metadata": {},
   "outputs": [
    {
     "name": "stdout",
     "output_type": "stream",
     "text": [
      "[0, 0, 0, 0, 0]\n"
     ]
    }
   ],
   "source": [
    "x = [0 for x in range(5)]\n",
    "print(x)"
   ]
  },
  {
   "cell_type": "code",
   "execution_count": 66,
   "metadata": {},
   "outputs": [
    {
     "name": "stdout",
     "output_type": "stream",
     "text": [
      "[0, 1, 2, 3, 4]\n"
     ]
    }
   ],
   "source": [
    "x = [x % 5 for x in range(5)]\n",
    "print(x)"
   ]
  },
  {
   "cell_type": "code",
   "execution_count": 68,
   "metadata": {},
   "outputs": [
    {
     "data": {
      "text/plain": [
       "[0, 5, 10, 15, 20, 25, 30, 35, 40, 45, 50, 55, 60, 65, 70, 75, 80, 85, 90, 95]"
      ]
     },
     "execution_count": 68,
     "metadata": {},
     "output_type": "execute_result"
    }
   ],
   "source": [
    "x = [i for i in range(100) if i%5 == 0]\n",
    "x"
   ]
  },
  {
   "cell_type": "code",
   "execution_count": null,
   "metadata": {},
   "outputs": [],
   "source": []
  },
  {
   "cell_type": "markdown",
   "metadata": {
    "jp-MarkdownHeadingCollapsed": true
   },
   "source": [
    "# extra"
   ]
  },
  {
   "cell_type": "code",
   "execution_count": 52,
   "metadata": {
    "colab": {
     "base_uri": "https://localhost:8080/"
    },
    "executionInfo": {
     "elapsed": 3347,
     "status": "ok",
     "timestamp": 1711189967176,
     "user": {
      "displayName": "Shubham Hadeeya",
      "userId": "09113901104055523562"
     },
     "user_tz": -330
    },
    "id": "_uuAGvnV20-7",
    "outputId": "081f2944-66ab-47f1-d508-e18e0fd6ff31"
   },
   "outputs": [
    {
     "name": "stdin",
     "output_type": "stream",
     "text": [
      "Enter a value:  ll\n"
     ]
    },
    {
     "name": "stdout",
     "output_type": "stream",
     "text": [
      "The entered value is of type: <class 'str'>\n"
     ]
    }
   ],
   "source": [
    "X = input(\"Enter a value: \")\n",
    "\n",
    "# Determine the data type of the value\n",
    "data_type = type(X)\n",
    "\n",
    "# Print a message indicating the data type\n",
    "print(\"The entered value is of type:\", data_type)"
   ]
  },
  {
   "cell_type": "code",
   "execution_count": 53,
   "metadata": {
    "colab": {
     "base_uri": "https://localhost:8080/"
    },
    "executionInfo": {
     "elapsed": 10040,
     "status": "ok",
     "timestamp": 1711189916129,
     "user": {
      "displayName": "Shubham Hadeeya",
      "userId": "09113901104055523562"
     },
     "user_tz": -330
    },
    "id": "RAGcDpYO3cK6",
    "outputId": "0060e96d-02a0-4a67-8605-3f5e9bf35dcb"
   },
   "outputs": [
    {
     "name": "stdin",
     "output_type": "stream",
     "text": [
      "Enter a string:  ttttt\n"
     ]
    },
    {
     "name": "stdout",
     "output_type": "stream",
     "text": [
      "Length of the string: 5\n",
      "Uppercase string: TTTTT\n",
      "Contains only alphabetic characters: True\n"
     ]
    }
   ],
   "source": [
    "# Prompt the user to enter a string\n",
    "string = input(\"Enter a string: \")\n",
    "\n",
    "# Print the length of the string\n",
    "length = len(string)\n",
    "print(\"Length of the string:\", length)\n",
    "\n",
    "# Convert the string to uppercase and print the result\n",
    "uppercase = string.upper()\n",
    "print(\"Uppercase string:\", uppercase)\n",
    "\n",
    "# Check if the string contains only alphabetic characters and print the result\n",
    "is_alphabetic = string.isalpha()\n",
    "print(\"Contains only alphabetic characters:\", is_alphabetic)"
   ]
  },
  {
   "cell_type": "code",
   "execution_count": 54,
   "metadata": {
    "colab": {
     "base_uri": "https://localhost:8080/"
    },
    "executionInfo": {
     "elapsed": 735,
     "status": "ok",
     "timestamp": 1711190159929,
     "user": {
      "displayName": "Shubham Hadeeya",
      "userId": "09113901104055523562"
     },
     "user_tz": -330
    },
    "id": "igaOlP4I4Z5B",
    "outputId": "89ca1ea2-e47e-440e-a339-c22561b5436c"
   },
   "outputs": [
    {
     "name": "stdout",
     "output_type": "stream",
     "text": [
      "Element at index 0: 10\n",
      "Sublist: [30]\n",
      "Sorted list: [10, 30]\n"
     ]
    }
   ],
   "source": [
    "# Create an empty list\n",
    "my_list = []\n",
    "\n",
    "# Append elements to the list\n",
    "my_list.append(10)\n",
    "my_list.append(20)\n",
    "my_list.append(30)\n",
    "\n",
    "# Remove an element from the list\n",
    "my_list.remove(20)\n",
    "\n",
    "# Access elements by index\n",
    "print(\"Element at index 0:\", my_list[0])\n",
    "\n",
    "# Slice the list to extract a sublist\n",
    "sub_list = my_list[1:]\n",
    "print(\"Sublist:\", sub_list)\n",
    "\n",
    "# Sort the list in ascending order\n",
    "my_list.sort()\n",
    "print(\"Sorted list:\", my_list)"
   ]
  },
  {
   "cell_type": "code",
   "execution_count": 55,
   "metadata": {
    "colab": {
     "base_uri": "https://localhost:8080/"
    },
    "executionInfo": {
     "elapsed": 20051,
     "status": "ok",
     "timestamp": 1712833421410,
     "user": {
      "displayName": "Shubham Hadeeya",
      "userId": "09113901104055523562"
     },
     "user_tz": -330
    },
    "id": "wu-jM1_n4-gh",
    "outputId": "6fbe5554-230b-4da5-f187-0d79865a8f50"
   },
   "outputs": [
    {
     "name": "stdin",
     "output_type": "stream",
     "text": [
      "Enter the first tuple elements (separated by commas):  20,30,40\n",
      "Enter the second tuple elements (separated by commas):  20,30,50\n"
     ]
    },
    {
     "name": "stdout",
     "output_type": "stream",
     "text": [
      "Concatenated tuple: ('20', '30', '40', '20', '30', '50')\n"
     ]
    },
    {
     "name": "stdin",
     "output_type": "stream",
     "text": [
      "Enter a specific element to check for its existence:  30\n"
     ]
    },
    {
     "name": "stdout",
     "output_type": "stream",
     "text": [
      "Element exists: True\n"
     ]
    }
   ],
   "source": [
    "# Prompt the user to enter two tuples\n",
    "tuple1 = tuple(input(\"Enter the first tuple elements (separated by commas): \").split(\",\"))\n",
    "tuple2 = tuple(input(\"Enter the second tuple elements (separated by commas): \").split(\",\"))\n",
    "\n",
    "# Concatenate the two tuples\n",
    "concatenated_tuple = tuple1 + tuple2\n",
    "print(\"Concatenated tuple:\", concatenated_tuple)\n",
    "\n",
    "# Prompt the user to enter a specific element\n",
    "element = input(\"Enter a specific element to check for its existence: \")\n",
    "\n",
    "# Check if the specific element exists in either of the tuples\n",
    "element_exists = element in tuple1 or element in tuple2\n",
    "print(\"Element exists:\", element_exists)"
   ]
  }
 ],
 "metadata": {
  "colab": {
   "authorship_tag": "ABX9TyO4Qb26j7+/DE9V7e/Ctp9/",
   "provenance": []
  },
  "kernelspec": {
   "display_name": "Python 3 (ipykernel)",
   "language": "python",
   "name": "python3"
  },
  "language_info": {
   "codemirror_mode": {
    "name": "ipython",
    "version": 3
   },
   "file_extension": ".py",
   "mimetype": "text/x-python",
   "name": "python",
   "nbconvert_exporter": "python",
   "pygments_lexer": "ipython3",
   "version": "3.11.7"
  }
 },
 "nbformat": 4,
 "nbformat_minor": 4
}
