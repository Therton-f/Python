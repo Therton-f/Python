{
 "cells": [
  {
   "cell_type": "code",
   "execution_count": 1,
   "id": "b008258a-87ea-4d94-8482-5d408c76bdea",
   "metadata": {},
   "outputs": [
    {
     "name": "stdout",
     "output_type": "stream",
     "text": [
      "it worked\n"
     ]
    }
   ],
   "source": [
    "if 25 > 10:\n",
    "    print('it worked')"
   ]
  },
  {
   "cell_type": "code",
   "execution_count": 3,
   "id": "22243c63-ce61-45fd-b6b7-4095295f3402",
   "metadata": {},
   "outputs": [
    {
     "name": "stdout",
     "output_type": "stream",
     "text": [
      "it did not worked...\n"
     ]
    }
   ],
   "source": [
    "if 25 <10:\n",
    "    print('it worked')\n",
    "else :\n",
    "    print('it did not worked...')"
   ]
  },
  {
   "cell_type": "code",
   "execution_count": 4,
   "id": "a1b89fb8-40a2-4126-a5b8-a33f37c6f310",
   "metadata": {},
   "outputs": [
    {
     "name": "stdout",
     "output_type": "stream",
     "text": [
      "elif worked\n"
     ]
    }
   ],
   "source": [
    "if 25 <10:\n",
    "    print('it worked')\n",
    "elif 25<30:\n",
    "    print('elif worked')\n",
    "else :\n",
    "    print('it did not worked...')"
   ]
  },
  {
   "cell_type": "code",
   "execution_count": null,
   "id": "a0f751c5-fa90-40b0-8f80-fc96bcf3b7c5",
   "metadata": {},
   "outputs": [],
   "source": []
  },
  {
   "cell_type": "code",
   "execution_count": 6,
   "id": "4413cf1b-8f28-4cbe-9254-5ff568e9b24b",
   "metadata": {},
   "outputs": [
    {
     "name": "stdout",
     "output_type": "stream",
     "text": [
      "it did not worked...\n"
     ]
    }
   ],
   "source": [
    "#one line format\n",
    "print('it worked') if 10>30 else print('it did not worked...') "
   ]
  },
  {
   "cell_type": "code",
   "execution_count": null,
   "id": "73d19c01-44ad-4dbb-9ad5-fc84291ebeb1",
   "metadata": {},
   "outputs": [],
   "source": []
  },
  {
   "cell_type": "code",
   "execution_count": 7,
   "id": "763f4131-52c8-4072-990d-e607f91493b1",
   "metadata": {},
   "outputs": [
    {
     "name": "stdout",
     "output_type": "stream",
     "text": [
      "it worked\n",
      "nested if worked\n"
     ]
    }
   ],
   "source": [
    "#nested if\n",
    "\n",
    "if (25<10) or (1<3):\n",
    "    print('it worked')\n",
    "    if (10>5):\n",
    "        print('nested if worked')\n",
    "elif (25 < 20) :\n",
    "    print('elif 1 worked')\n",
    "elif (25 < 21):\n",
    "    print('elif 2 worked')\n",
    "else:\n",
    "    print('it did not worked')"
   ]
  },
  {
   "cell_type": "code",
   "execution_count": null,
   "id": "e342e4ec-35e4-4f40-928b-7627cc6b2d11",
   "metadata": {},
   "outputs": [],
   "source": []
  },
  {
   "cell_type": "code",
   "execution_count": null,
   "id": "491a46f9-76d6-4a72-a7db-d8e09b2d7525",
   "metadata": {},
   "outputs": [],
   "source": []
  },
  {
   "cell_type": "code",
   "execution_count": null,
   "id": "9715cd65-e92d-41a6-9812-b999879767c0",
   "metadata": {},
   "outputs": [],
   "source": []
  },
  {
   "cell_type": "code",
   "execution_count": null,
   "id": "b2275f7e-a247-40ab-819f-901977537bba",
   "metadata": {},
   "outputs": [],
   "source": []
  }
 ],
 "metadata": {
  "kernelspec": {
   "display_name": "Python 3 (ipykernel)",
   "language": "python",
   "name": "python3"
  },
  "language_info": {
   "codemirror_mode": {
    "name": "ipython",
    "version": 3
   },
   "file_extension": ".py",
   "mimetype": "text/x-python",
   "name": "python",
   "nbconvert_exporter": "python",
   "pygments_lexer": "ipython3",
   "version": "3.11.7"
  }
 },
 "nbformat": 4,
 "nbformat_minor": 5
}
