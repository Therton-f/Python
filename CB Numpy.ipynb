{
 "cells": [
  {
   "cell_type": "code",
   "execution_count": 1,
   "metadata": {
    "executionInfo": {
     "elapsed": 598,
     "status": "ok",
     "timestamp": 1713714565925,
     "user": {
      "displayName": "Shubham Hadeeya",
      "userId": "09113901104055523562"
     },
     "user_tz": -330
    },
    "id": "Ujm8hkDej4Zl"
   },
   "outputs": [],
   "source": [
    "import numpy as np\n",
    "import time\n",
    "import sys"
   ]
  },
  {
   "cell_type": "code",
   "execution_count": 2,
   "metadata": {
    "executionInfo": {
     "elapsed": 38,
     "status": "ok",
     "timestamp": 1713714567355,
     "user": {
      "displayName": "Shubham Hadeeya",
      "userId": "09113901104055523562"
     },
     "user_tz": -330
    },
    "id": "mK_Jmq0Lj8oY"
   },
   "outputs": [],
   "source": [
    "a = np.array"
   ]
  },
  {
   "cell_type": "markdown",
   "metadata": {
    "id": "uykTdy4OkshE"
   },
   "source": [
    "np array similar to python list, but np array faster, smaller size"
   ]
  },
  {
   "cell_type": "code",
   "execution_count": null,
   "metadata": {
    "executionInfo": {
     "elapsed": 37,
     "status": "ok",
     "timestamp": 1713714567356,
     "user": {
      "displayName": "Shubham Hadeeya",
      "userId": "09113901104055523562"
     },
     "user_tz": -330
    },
    "id": "V08JVognj8qE"
   },
   "outputs": [],
   "source": []
  },
  {
   "cell_type": "code",
   "execution_count": 3,
   "metadata": {
    "executionInfo": {
     "elapsed": 37,
     "status": "ok",
     "timestamp": 1713714567357,
     "user": {
      "displayName": "Shubham Hadeeya",
      "userId": "09113901104055523562"
     },
     "user_tz": -330
    },
    "id": "lNuyE3KTj8sM"
   },
   "outputs": [],
   "source": [
    "#creating 2 list\n",
    "\n",
    "SIZE = 1000000\n",
    "l1 = range(SIZE)\n",
    "l2 = range(SIZE)"
   ]
  },
  {
   "cell_type": "code",
   "execution_count": 4,
   "metadata": {
    "executionInfo": {
     "elapsed": 35,
     "status": "ok",
     "timestamp": 1713714567357,
     "user": {
      "displayName": "Shubham Hadeeya",
      "userId": "09113901104055523562"
     },
     "user_tz": -330
    },
    "id": "JRrCMnSfj8uI"
   },
   "outputs": [],
   "source": [
    "#creating 2 np array\n",
    "\n",
    "a1 = np.arange(SIZE)\n",
    "a2 = np.arange(SIZE)"
   ]
  },
  {
   "cell_type": "code",
   "execution_count": 5,
   "metadata": {
    "colab": {
     "base_uri": "https://localhost:8080/"
    },
    "executionInfo": {
     "elapsed": 969,
     "status": "ok",
     "timestamp": 1713714568292,
     "user": {
      "displayName": "Shubham Hadeeya",
      "userId": "09113901104055523562"
     },
     "user_tz": -330
    },
    "id": "p4T3VQjZj8x_",
    "outputId": "8717aaeb-2106-4104-8c82-35dfb546cb40"
   },
   "outputs": [
    {
     "name": "stdout",
     "output_type": "stream",
     "text": [
      "python list took:  151.66974067687988\n",
      "numpy took:  30.374526977539062\n"
     ]
    }
   ],
   "source": [
    "start  = time.time()\n",
    "result = [(x+y) for x,y in zip(l1,l2)]\n",
    "print(\"python list took: \",(time.time()-start)*1000)\n",
    "\n",
    "start = time.time()\n",
    "result = a1 + a2\n",
    "print(\"numpy took: \",(time.time()-start)*1000)"
   ]
  },
  {
   "cell_type": "code",
   "execution_count": null,
   "metadata": {
    "executionInfo": {
     "elapsed": 383,
     "status": "ok",
     "timestamp": 1713714568294,
     "user": {
      "displayName": "Shubham Hadeeya",
      "userId": "09113901104055523562"
     },
     "user_tz": -330
    },
    "id": "IJGA4ijij9Tu"
   },
   "outputs": [],
   "source": []
  },
  {
   "cell_type": "code",
   "execution_count": 6,
   "metadata": {
    "colab": {
     "base_uri": "https://localhost:8080/"
    },
    "executionInfo": {
     "elapsed": 382,
     "status": "ok",
     "timestamp": 1713714568294,
     "user": {
      "displayName": "Shubham Hadeeya",
      "userId": "09113901104055523562"
     },
     "user_tz": -330
    },
    "id": "UUGFvx8-j9Vk",
    "outputId": "00a5843e-5a3e-43ec-8c9f-d1a44d3db848"
   },
   "outputs": [
    {
     "data": {
      "text/plain": [
       "2"
      ]
     },
     "execution_count": 6,
     "metadata": {},
     "output_type": "execute_result"
    }
   ],
   "source": [
    "a1 = np.array([1,2,3])\n",
    "a2 = np.array([4,5,6])\n",
    "\n",
    "#we can acces np array just like list\n",
    "a1[1]"
   ]
  },
  {
   "cell_type": "code",
   "execution_count": 7,
   "metadata": {
    "colab": {
     "base_uri": "https://localhost:8080/"
    },
    "executionInfo": {
     "elapsed": 374,
     "status": "ok",
     "timestamp": 1713714568295,
     "user": {
      "displayName": "Shubham Hadeeya",
      "userId": "09113901104055523562"
     },
     "user_tz": -330
    },
    "id": "S_ya06z7j9Xb",
    "outputId": "cca83a1a-cd30-434c-90a6-f96667d25617"
   },
   "outputs": [
    {
     "data": {
      "text/plain": [
       "array([5, 7, 9])"
      ]
     },
     "execution_count": 7,
     "metadata": {},
     "output_type": "execute_result"
    }
   ],
   "source": [
    "a1+a2"
   ]
  },
  {
   "cell_type": "code",
   "execution_count": 8,
   "metadata": {
    "colab": {
     "base_uri": "https://localhost:8080/"
    },
    "executionInfo": {
     "elapsed": 368,
     "status": "ok",
     "timestamp": 1713714568295,
     "user": {
      "displayName": "Shubham Hadeeya",
      "userId": "09113901104055523562"
     },
     "user_tz": -330
    },
    "id": "5zso3k_Ij9ZQ",
    "outputId": "3a138cb8-4ed6-44cb-f678-59be79e60e46"
   },
   "outputs": [
    {
     "data": {
      "text/plain": [
       "array([-3, -3, -3])"
      ]
     },
     "execution_count": 8,
     "metadata": {},
     "output_type": "execute_result"
    }
   ],
   "source": [
    "a1-a2"
   ]
  },
  {
   "cell_type": "code",
   "execution_count": 9,
   "metadata": {
    "colab": {
     "base_uri": "https://localhost:8080/"
    },
    "executionInfo": {
     "elapsed": 361,
     "status": "ok",
     "timestamp": 1713714568296,
     "user": {
      "displayName": "Shubham Hadeeya",
      "userId": "09113901104055523562"
     },
     "user_tz": -330
    },
    "id": "RRU0PH5Ej9dF",
    "outputId": "505952ab-6501-4f5a-e966-63bad0f09bba"
   },
   "outputs": [
    {
     "data": {
      "text/plain": [
       "array([ 4, 10, 18])"
      ]
     },
     "execution_count": 9,
     "metadata": {},
     "output_type": "execute_result"
    }
   ],
   "source": [
    "a1*a2"
   ]
  },
  {
   "cell_type": "code",
   "execution_count": 10,
   "metadata": {
    "colab": {
     "base_uri": "https://localhost:8080/"
    },
    "executionInfo": {
     "elapsed": 355,
     "status": "ok",
     "timestamp": 1713714568296,
     "user": {
      "displayName": "Shubham Hadeeya",
      "userId": "09113901104055523562"
     },
     "user_tz": -330
    },
    "id": "671c1hnXntRV",
    "outputId": "797033df-65d7-4133-8a4a-62381ed29eb7"
   },
   "outputs": [
    {
     "data": {
      "text/plain": [
       "array([0.25, 0.4 , 0.5 ])"
      ]
     },
     "execution_count": 10,
     "metadata": {},
     "output_type": "execute_result"
    }
   ],
   "source": [
    "a1/a2"
   ]
  },
  {
   "cell_type": "code",
   "execution_count": null,
   "metadata": {
    "executionInfo": {
     "elapsed": 349,
     "status": "ok",
     "timestamp": 1713714568296,
     "user": {
      "displayName": "Shubham Hadeeya",
      "userId": "09113901104055523562"
     },
     "user_tz": -330
    },
    "id": "S2DZc72Znu0M"
   },
   "outputs": [],
   "source": []
  },
  {
   "cell_type": "code",
   "execution_count": 11,
   "metadata": {
    "executionInfo": {
     "elapsed": 347,
     "status": "ok",
     "timestamp": 1713714568297,
     "user": {
      "displayName": "Shubham Hadeeya",
      "userId": "09113901104055523562"
     },
     "user_tz": -330
    },
    "id": "hjgC3eQNzl6d"
   },
   "outputs": [],
   "source": [
    "#2-D array\n",
    "a=np.array([[1,2],[3,4],[5,6]])"
   ]
  },
  {
   "cell_type": "code",
   "execution_count": 12,
   "metadata": {
    "colab": {
     "base_uri": "https://localhost:8080/"
    },
    "executionInfo": {
     "elapsed": 346,
     "status": "ok",
     "timestamp": 1713714568297,
     "user": {
      "displayName": "Shubham Hadeeya",
      "userId": "09113901104055523562"
     },
     "user_tz": -330
    },
    "id": "67g8vjFwzl83",
    "outputId": "d475acd8-7ff3-4aad-db75-4a721882a433"
   },
   "outputs": [
    {
     "data": {
      "text/plain": [
       "2"
      ]
     },
     "execution_count": 12,
     "metadata": {},
     "output_type": "execute_result"
    }
   ],
   "source": [
    "#ndim give dimension\n",
    "a.ndim"
   ]
  },
  {
   "cell_type": "code",
   "execution_count": 13,
   "metadata": {
    "colab": {
     "base_uri": "https://localhost:8080/"
    },
    "executionInfo": {
     "elapsed": 341,
     "status": "ok",
     "timestamp": 1713714568298,
     "user": {
      "displayName": "Shubham Hadeeya",
      "userId": "09113901104055523562"
     },
     "user_tz": -330
    },
    "id": "CDY5AB1Yzl_M",
    "outputId": "3246b4d5-e986-4155-8256-720972c10c0b"
   },
   "outputs": [
    {
     "data": {
      "text/plain": [
       "4"
      ]
     },
     "execution_count": 13,
     "metadata": {},
     "output_type": "execute_result"
    }
   ],
   "source": [
    "#it will give bit size\n",
    "a.itemsize"
   ]
  },
  {
   "cell_type": "code",
   "execution_count": 14,
   "metadata": {
    "colab": {
     "base_uri": "https://localhost:8080/"
    },
    "executionInfo": {
     "elapsed": 336,
     "status": "ok",
     "timestamp": 1713714568299,
     "user": {
      "displayName": "Shubham Hadeeya",
      "userId": "09113901104055523562"
     },
     "user_tz": -330
    },
    "id": "DyBo_F3zzmBw",
    "outputId": "2d8ea3f2-b23c-432d-a423-ce333b1c9004"
   },
   "outputs": [
    {
     "data": {
      "text/plain": [
       "dtype('int32')"
      ]
     },
     "execution_count": 14,
     "metadata": {},
     "output_type": "execute_result"
    }
   ],
   "source": [
    "a.dtype"
   ]
  },
  {
   "cell_type": "code",
   "execution_count": 15,
   "metadata": {
    "executionInfo": {
     "elapsed": 329,
     "status": "ok",
     "timestamp": 1713714568300,
     "user": {
      "displayName": "Shubham Hadeeya",
      "userId": "09113901104055523562"
     },
     "user_tz": -330
    },
    "id": "OvKal6cXzmEM"
   },
   "outputs": [],
   "source": [
    "a2=np.array([[1,2],[3,4],[5,6]], dtype=np.float64)"
   ]
  },
  {
   "cell_type": "code",
   "execution_count": 16,
   "metadata": {
    "colab": {
     "base_uri": "https://localhost:8080/"
    },
    "executionInfo": {
     "elapsed": 329,
     "status": "ok",
     "timestamp": 1713714568301,
     "user": {
      "displayName": "Shubham Hadeeya",
      "userId": "09113901104055523562"
     },
     "user_tz": -330
    },
    "id": "syHUTSlLzmG2",
    "outputId": "574fb289-ca51-4b3c-d730-938a312c3c47"
   },
   "outputs": [
    {
     "data": {
      "text/plain": [
       "dtype('float64')"
      ]
     },
     "execution_count": 16,
     "metadata": {},
     "output_type": "execute_result"
    }
   ],
   "source": [
    "a2.dtype"
   ]
  },
  {
   "cell_type": "code",
   "execution_count": 17,
   "metadata": {
    "colab": {
     "base_uri": "https://localhost:8080/"
    },
    "executionInfo": {
     "elapsed": 324,
     "status": "ok",
     "timestamp": 1713714568302,
     "user": {
      "displayName": "Shubham Hadeeya",
      "userId": "09113901104055523562"
     },
     "user_tz": -330
    },
    "id": "-4v6CCcXzmJ7",
    "outputId": "4910c4b1-71a5-47fd-842b-9d7f88d5f7af"
   },
   "outputs": [
    {
     "data": {
      "text/plain": [
       "array([[1., 2.],\n",
       "       [3., 4.],\n",
       "       [5., 6.]])"
      ]
     },
     "execution_count": 17,
     "metadata": {},
     "output_type": "execute_result"
    }
   ],
   "source": [
    "a2"
   ]
  },
  {
   "cell_type": "code",
   "execution_count": 18,
   "metadata": {
    "colab": {
     "base_uri": "https://localhost:8080/"
    },
    "executionInfo": {
     "elapsed": 316,
     "status": "ok",
     "timestamp": 1713714568302,
     "user": {
      "displayName": "Shubham Hadeeya",
      "userId": "09113901104055523562"
     },
     "user_tz": -330
    },
    "id": "BhUkHgAbzmMa",
    "outputId": "21738d94-fa59-4b19-a321-332fc8bb40ed"
   },
   "outputs": [
    {
     "data": {
      "text/plain": [
       "6"
      ]
     },
     "execution_count": 18,
     "metadata": {},
     "output_type": "execute_result"
    }
   ],
   "source": [
    "a.size"
   ]
  },
  {
   "cell_type": "code",
   "execution_count": 19,
   "metadata": {
    "colab": {
     "base_uri": "https://localhost:8080/"
    },
    "executionInfo": {
     "elapsed": 310,
     "status": "ok",
     "timestamp": 1713714568302,
     "user": {
      "displayName": "Shubham Hadeeya",
      "userId": "09113901104055523562"
     },
     "user_tz": -330
    },
    "id": "5hqmx-guzmOy",
    "outputId": "954c25ef-82ec-4d4f-c8a0-41cf06b85bcd"
   },
   "outputs": [
    {
     "data": {
      "text/plain": [
       "(3, 2)"
      ]
     },
     "execution_count": 19,
     "metadata": {},
     "output_type": "execute_result"
    }
   ],
   "source": [
    "a.shape"
   ]
  },
  {
   "cell_type": "code",
   "execution_count": 20,
   "metadata": {
    "colab": {
     "base_uri": "https://localhost:8080/"
    },
    "executionInfo": {
     "elapsed": 305,
     "status": "ok",
     "timestamp": 1713714568303,
     "user": {
      "displayName": "Shubham Hadeeya",
      "userId": "09113901104055523562"
     },
     "user_tz": -330
    },
    "id": "ujjctUcVzmQU",
    "outputId": "918cfb49-cc92-4517-929c-2e6b6726062f"
   },
   "outputs": [
    {
     "data": {
      "text/plain": [
       "array([[1.+0.j, 2.+0.j],\n",
       "       [3.+0.j, 4.+0.j],\n",
       "       [5.+0.j, 6.+0.j]])"
      ]
     },
     "execution_count": 20,
     "metadata": {},
     "output_type": "execute_result"
    }
   ],
   "source": [
    "np.array([[1,2],[3,4],[5,6]], dtype=complex)\n"
   ]
  },
  {
   "cell_type": "code",
   "execution_count": 21,
   "metadata": {
    "colab": {
     "base_uri": "https://localhost:8080/"
    },
    "executionInfo": {
     "elapsed": 299,
     "status": "ok",
     "timestamp": 1713714568304,
     "user": {
      "displayName": "Shubham Hadeeya",
      "userId": "09113901104055523562"
     },
     "user_tz": -330
    },
    "id": "sH1Vg8WI-vlZ",
    "outputId": "8d115df7-794b-418b-ba68-1b8412ffba41"
   },
   "outputs": [
    {
     "data": {
      "text/plain": [
       "array([[1, 2, 3],\n",
       "       [4, 5, 6]])"
      ]
     },
     "execution_count": 21,
     "metadata": {},
     "output_type": "execute_result"
    }
   ],
   "source": [
    "a.reshape(2,3)"
   ]
  },
  {
   "cell_type": "code",
   "execution_count": 22,
   "metadata": {
    "colab": {
     "base_uri": "https://localhost:8080/"
    },
    "executionInfo": {
     "elapsed": 292,
     "status": "ok",
     "timestamp": 1713714568304,
     "user": {
      "displayName": "Shubham Hadeeya",
      "userId": "09113901104055523562"
     },
     "user_tz": -330
    },
    "id": "SQ1J9RD8_nJL",
    "outputId": "340cee2c-a430-49fe-e1b7-3bcc27a507e3"
   },
   "outputs": [
    {
     "data": {
      "text/plain": [
       "array([1, 2, 3, 4, 5, 6])"
      ]
     },
     "execution_count": 22,
     "metadata": {},
     "output_type": "execute_result"
    }
   ],
   "source": [
    "#ravel fn flatten the array into single row\n",
    "#a.rvael and reshape will not modify array it give generate new array so if we print a again it will normal as before ravel\n",
    "a.ravel()"
   ]
  },
  {
   "cell_type": "code",
   "execution_count": 23,
   "metadata": {
    "colab": {
     "base_uri": "https://localhost:8080/"
    },
    "executionInfo": {
     "elapsed": 285,
     "status": "ok",
     "timestamp": 1713714568304,
     "user": {
      "displayName": "Shubham Hadeeya",
      "userId": "09113901104055523562"
     },
     "user_tz": -330
    },
    "id": "_f0nG_mh_56q",
    "outputId": "50074dc2-0d3e-4bd1-ae90-5c5dad90fff9"
   },
   "outputs": [
    {
     "data": {
      "text/plain": [
       "array([[1, 2],\n",
       "       [3, 4],\n",
       "       [5, 6]])"
      ]
     },
     "execution_count": 23,
     "metadata": {},
     "output_type": "execute_result"
    }
   ],
   "source": [
    "a"
   ]
  },
  {
   "cell_type": "code",
   "execution_count": 24,
   "metadata": {
    "colab": {
     "base_uri": "https://localhost:8080/"
    },
    "executionInfo": {
     "elapsed": 280,
     "status": "ok",
     "timestamp": 1713714568305,
     "user": {
      "displayName": "Shubham Hadeeya",
      "userId": "09113901104055523562"
     },
     "user_tz": -330
    },
    "id": "y3yGe6PrzmSK",
    "outputId": "ae58c429-1d47-40ca-81bb-e9d66085ce14"
   },
   "outputs": [
    {
     "data": {
      "text/plain": [
       "array([[0., 0., 0., 0.],\n",
       "       [0., 0., 0., 0.],\n",
       "       [0., 0., 0., 0.]])"
      ]
     },
     "execution_count": 24,
     "metadata": {},
     "output_type": "execute_result"
    }
   ],
   "source": [
    "#if we want to start with zero values array of 3 rows and 4 column\n",
    "np.zeros((3,4))\n",
    "#np.ones((3,4))"
   ]
  },
  {
   "cell_type": "code",
   "execution_count": 25,
   "metadata": {
    "colab": {
     "base_uri": "https://localhost:8080/"
    },
    "executionInfo": {
     "elapsed": 274,
     "status": "ok",
     "timestamp": 1713714568305,
     "user": {
      "displayName": "Shubham Hadeeya",
      "userId": "09113901104055523562"
     },
     "user_tz": -330
    },
    "id": "98nT7SbK6R-f",
    "outputId": "0e4ad2c5-d505-4802-9f80-3a1ddf73f551"
   },
   "outputs": [
    {
     "data": {
      "text/plain": [
       "array([1, 2, 3, 4])"
      ]
     },
     "execution_count": 25,
     "metadata": {},
     "output_type": "execute_result"
    }
   ],
   "source": [
    "#just like range in list\n",
    "# in np we have arange\n",
    "np.arange(1,5)"
   ]
  },
  {
   "cell_type": "code",
   "execution_count": 26,
   "metadata": {
    "colab": {
     "base_uri": "https://localhost:8080/"
    },
    "executionInfo": {
     "elapsed": 268,
     "status": "ok",
     "timestamp": 1713714568306,
     "user": {
      "displayName": "Shubham Hadeeya",
      "userId": "09113901104055523562"
     },
     "user_tz": -330
    },
    "id": "TXJeHYWf7gHG",
    "outputId": "e0ffbbf4-9c47-49a5-85b7-a317da9c7e7c"
   },
   "outputs": [
    {
     "data": {
      "text/plain": [
       "array([1, 3, 5])"
      ]
     },
     "execution_count": 26,
     "metadata": {},
     "output_type": "execute_result"
    }
   ],
   "source": [
    "#now increment is 2 number\n",
    "np.arange(1,6,2)"
   ]
  },
  {
   "cell_type": "code",
   "execution_count": 27,
   "metadata": {
    "colab": {
     "base_uri": "https://localhost:8080/"
    },
    "executionInfo": {
     "elapsed": 262,
     "status": "ok",
     "timestamp": 1713714568306,
     "user": {
      "displayName": "Shubham Hadeeya",
      "userId": "09113901104055523562"
     },
     "user_tz": -330
    },
    "id": "bged5nPP7sju",
    "outputId": "9647ea0b-0140-43cc-b246-2bd7bd13abdc"
   },
   "outputs": [
    {
     "data": {
      "text/plain": [
       "array([1.        , 1.44444444, 1.88888889, 2.33333333, 2.77777778,\n",
       "       3.22222222, 3.66666667, 4.11111111, 4.55555556, 5.        ])"
      ]
     },
     "execution_count": 27,
     "metadata": {},
     "output_type": "execute_result"
    }
   ],
   "source": [
    "#generating 10 number between 1 and 5 which are linearly spaced\n",
    "np.linspace(1,5,10)"
   ]
  },
  {
   "cell_type": "code",
   "execution_count": null,
   "metadata": {
    "executionInfo": {
     "elapsed": 254,
     "status": "ok",
     "timestamp": 1713714568306,
     "user": {
      "displayName": "Shubham Hadeeya",
      "userId": "09113901104055523562"
     },
     "user_tz": -330
    },
    "id": "sEY4Z9_F92wx"
   },
   "outputs": [],
   "source": []
  },
  {
   "cell_type": "code",
   "execution_count": null,
   "metadata": {
    "executionInfo": {
     "elapsed": 254,
     "status": "ok",
     "timestamp": 1713714568307,
     "user": {
      "displayName": "Shubham Hadeeya",
      "userId": "09113901104055523562"
     },
     "user_tz": -330
    },
    "id": "c-Owc9vMAMlA"
   },
   "outputs": [],
   "source": []
  },
  {
   "cell_type": "code",
   "execution_count": 28,
   "metadata": {
    "colab": {
     "base_uri": "https://localhost:8080/"
    },
    "executionInfo": {
     "elapsed": 253,
     "status": "ok",
     "timestamp": 1713714568307,
     "user": {
      "displayName": "Shubham Hadeeya",
      "userId": "09113901104055523562"
     },
     "user_tz": -330
    },
    "id": "Fh2JTnEOAMoB",
    "outputId": "d3c348d0-f8ce-4413-a19a-31cbbd696769"
   },
   "outputs": [
    {
     "name": "stdout",
     "output_type": "stream",
     "text": [
      "1\n",
      "6\n",
      "21\n"
     ]
    }
   ],
   "source": [
    "print(a.min())\n",
    "print(a.max())\n",
    "print(a.sum())"
   ]
  },
  {
   "cell_type": "code",
   "execution_count": 29,
   "metadata": {
    "executionInfo": {
     "elapsed": 247,
     "status": "ok",
     "timestamp": 1713714568308,
     "user": {
      "displayName": "Shubham Hadeeya",
      "userId": "09113901104055523562"
     },
     "user_tz": -330
    },
    "id": "AlQ59tIiAMqh"
   },
   "outputs": [],
   "source": [
    "#axis 0 is y-axis and axis 1 is x-axis"
   ]
  },
  {
   "cell_type": "code",
   "execution_count": 30,
   "metadata": {
    "colab": {
     "base_uri": "https://localhost:8080/"
    },
    "executionInfo": {
     "elapsed": 246,
     "status": "ok",
     "timestamp": 1713714568308,
     "user": {
      "displayName": "Shubham Hadeeya",
      "userId": "09113901104055523562"
     },
     "user_tz": -330
    },
    "id": "TEmymixGAMtG",
    "outputId": "649fc730-8ced-407c-c165-2a2b4d50d874"
   },
   "outputs": [
    {
     "data": {
      "text/plain": [
       "array([ 9, 12])"
      ]
     },
     "execution_count": 30,
     "metadata": {},
     "output_type": "execute_result"
    }
   ],
   "source": [
    "a.sum(axis=0)"
   ]
  },
  {
   "cell_type": "code",
   "execution_count": 31,
   "metadata": {
    "colab": {
     "base_uri": "https://localhost:8080/"
    },
    "executionInfo": {
     "elapsed": 239,
     "status": "ok",
     "timestamp": 1713714568308,
     "user": {
      "displayName": "Shubham Hadeeya",
      "userId": "09113901104055523562"
     },
     "user_tz": -330
    },
    "id": "lkaJQTsuAMvk",
    "outputId": "ac7e8819-7501-4c2d-829a-33fc0b1cb020"
   },
   "outputs": [
    {
     "data": {
      "text/plain": [
       "array([ 3,  7, 11])"
      ]
     },
     "execution_count": 31,
     "metadata": {},
     "output_type": "execute_result"
    }
   ],
   "source": [
    "a.sum(axis=1)"
   ]
  },
  {
   "cell_type": "code",
   "execution_count": 32,
   "metadata": {
    "executionInfo": {
     "elapsed": 232,
     "status": "ok",
     "timestamp": 1713714568309,
     "user": {
      "displayName": "Shubham Hadeeya",
      "userId": "09113901104055523562"
     },
     "user_tz": -330
    },
    "id": "kBsVrqi6BXVU"
   },
   "outputs": [],
   "source": [
    "#max, min are generic function apply on array\n",
    "#sqrt, std are not generic apply with np."
   ]
  },
  {
   "cell_type": "code",
   "execution_count": 33,
   "metadata": {
    "colab": {
     "base_uri": "https://localhost:8080/"
    },
    "executionInfo": {
     "elapsed": 230,
     "status": "ok",
     "timestamp": 1713714568309,
     "user": {
      "displayName": "Shubham Hadeeya",
      "userId": "09113901104055523562"
     },
     "user_tz": -330
    },
    "id": "nwL9V5pbAMyA",
    "outputId": "a9e232c8-4d32-46a4-c543-755dd1b87025"
   },
   "outputs": [
    {
     "data": {
      "text/plain": [
       "array([[1.        , 1.41421356],\n",
       "       [1.73205081, 2.        ],\n",
       "       [2.23606798, 2.44948974]])"
      ]
     },
     "execution_count": 33,
     "metadata": {},
     "output_type": "execute_result"
    }
   ],
   "source": [
    "np.sqrt(a)"
   ]
  },
  {
   "cell_type": "code",
   "execution_count": 34,
   "metadata": {
    "colab": {
     "base_uri": "https://localhost:8080/"
    },
    "executionInfo": {
     "elapsed": 224,
     "status": "ok",
     "timestamp": 1713714568310,
     "user": {
      "displayName": "Shubham Hadeeya",
      "userId": "09113901104055523562"
     },
     "user_tz": -330
    },
    "id": "MY0iKwXjAM0t",
    "outputId": "8eb36d30-748e-467e-f461-10758e6e2946"
   },
   "outputs": [
    {
     "data": {
      "text/plain": [
       "1.707825127659933"
      ]
     },
     "execution_count": 34,
     "metadata": {},
     "output_type": "execute_result"
    }
   ],
   "source": [
    "np.std(a)"
   ]
  },
  {
   "cell_type": "code",
   "execution_count": null,
   "metadata": {
    "executionInfo": {
     "elapsed": 218,
     "status": "ok",
     "timestamp": 1713714568310,
     "user": {
      "displayName": "Shubham Hadeeya",
      "userId": "09113901104055523562"
     },
     "user_tz": -330
    },
    "id": "vKgvgN-TAM3D"
   },
   "outputs": [],
   "source": []
  },
  {
   "cell_type": "code",
   "execution_count": 35,
   "metadata": {
    "executionInfo": {
     "elapsed": 218,
     "status": "ok",
     "timestamp": 1713714568310,
     "user": {
      "displayName": "Shubham Hadeeya",
      "userId": "09113901104055523562"
     },
     "user_tz": -330
    },
    "id": "_0Z7j7YpCXex"
   },
   "outputs": [],
   "source": [
    "a3 = np.array([[1,2],[3,4]])\n",
    "a4 = np.array([[5,6],[7,8]])"
   ]
  },
  {
   "cell_type": "code",
   "execution_count": 36,
   "metadata": {
    "colab": {
     "base_uri": "https://localhost:8080/"
    },
    "executionInfo": {
     "elapsed": 216,
     "status": "ok",
     "timestamp": 1713714568311,
     "user": {
      "displayName": "Shubham Hadeeya",
      "userId": "09113901104055523562"
     },
     "user_tz": -330
    },
    "id": "zcdJJrTYCXhb",
    "outputId": "1bfda6b5-29a5-42a6-dfef-6bb746a792ee"
   },
   "outputs": [
    {
     "data": {
      "text/plain": [
       "array([[19, 22],\n",
       "       [43, 50]])"
      ]
     },
     "execution_count": 36,
     "metadata": {},
     "output_type": "execute_result"
    }
   ],
   "source": [
    "#matrix multiplication\n",
    "a3.dot(a4)"
   ]
  },
  {
   "cell_type": "code",
   "execution_count": null,
   "metadata": {
    "executionInfo": {
     "elapsed": 206,
     "status": "ok",
     "timestamp": 1713714568311,
     "user": {
      "displayName": "Shubham Hadeeya",
      "userId": "09113901104055523562"
     },
     "user_tz": -330
    },
    "id": "g9h_P1wRCXkC"
   },
   "outputs": [],
   "source": []
  },
  {
   "cell_type": "code",
   "execution_count": 37,
   "metadata": {
    "colab": {
     "base_uri": "https://localhost:8080/"
    },
    "executionInfo": {
     "elapsed": 206,
     "status": "ok",
     "timestamp": 1713714568312,
     "user": {
      "displayName": "Shubham Hadeeya",
      "userId": "09113901104055523562"
     },
     "user_tz": -330
    },
    "id": "taI2ENFOCXmX",
    "outputId": "7f632450-00af-4ae0-909b-fb3dac5ab7ef"
   },
   "outputs": [
    {
     "data": {
      "text/plain": [
       "array([7, 8])"
      ]
     },
     "execution_count": 37,
     "metadata": {},
     "output_type": "execute_result"
    }
   ],
   "source": [
    "#list slicing also work on array\n",
    "a4[-1]"
   ]
  },
  {
   "cell_type": "code",
   "execution_count": 38,
   "metadata": {
    "colab": {
     "base_uri": "https://localhost:8080/"
    },
    "executionInfo": {
     "elapsed": 200,
     "status": "ok",
     "timestamp": 1713714568312,
     "user": {
      "displayName": "Shubham Hadeeya",
      "userId": "09113901104055523562"
     },
     "user_tz": -330
    },
    "id": "mjXuj-82CXou",
    "outputId": "8b74ba98-4673-4d5f-f5f1-93e5f2e9edbc"
   },
   "outputs": [
    {
     "data": {
      "text/plain": [
       "array([[5, 6]])"
      ]
     },
     "execution_count": 38,
     "metadata": {},
     "output_type": "execute_result"
    }
   ],
   "source": [
    "a4[:1]"
   ]
  },
  {
   "cell_type": "code",
   "execution_count": null,
   "metadata": {
    "executionInfo": {
     "elapsed": 193,
     "status": "ok",
     "timestamp": 1713714568312,
     "user": {
      "displayName": "Shubham Hadeeya",
      "userId": "09113901104055523562"
     },
     "user_tz": -330
    },
    "id": "lilHY9VbCXq-"
   },
   "outputs": [],
   "source": []
  },
  {
   "cell_type": "code",
   "execution_count": 39,
   "metadata": {
    "colab": {
     "base_uri": "https://localhost:8080/"
    },
    "executionInfo": {
     "elapsed": 192,
     "status": "ok",
     "timestamp": 1713714568313,
     "user": {
      "displayName": "Shubham Hadeeya",
      "userId": "09113901104055523562"
     },
     "user_tz": -330
    },
    "id": "PjCzHUBDCXti",
    "outputId": "d6d014fd-ab18-48bc-bf82-02da97cdd89f"
   },
   "outputs": [
    {
     "data": {
      "text/plain": [
       "array([[6, 7, 8],\n",
       "       [1, 2, 3],\n",
       "       [9, 3, 2]])"
      ]
     },
     "execution_count": 39,
     "metadata": {},
     "output_type": "execute_result"
    }
   ],
   "source": [
    "a5=np.array([[6,7,8],[1,2,3],[9,3,2]])\n",
    "a5"
   ]
  },
  {
   "cell_type": "code",
   "execution_count": 40,
   "metadata": {
    "colab": {
     "base_uri": "https://localhost:8080/"
    },
    "executionInfo": {
     "elapsed": 186,
     "status": "ok",
     "timestamp": 1713714568313,
     "user": {
      "displayName": "Shubham Hadeeya",
      "userId": "09113901104055523562"
     },
     "user_tz": -330
    },
    "id": "pZfb5FS-CXv-",
    "outputId": "6a821971-83a8-45ed-d0e6-c7dad83e6cbd"
   },
   "outputs": [
    {
     "data": {
      "text/plain": [
       "8"
      ]
     },
     "execution_count": 40,
     "metadata": {},
     "output_type": "execute_result"
    }
   ],
   "source": [
    "#printing element fro array table, with 0th row and 2 column\n",
    "#row and column start from 0 in Py\n",
    "a5[0,2]"
   ]
  },
  {
   "cell_type": "code",
   "execution_count": 41,
   "metadata": {
    "colab": {
     "base_uri": "https://localhost:8080/"
    },
    "executionInfo": {
     "elapsed": 177,
     "status": "ok",
     "timestamp": 1713714568314,
     "user": {
      "displayName": "Shubham Hadeeya",
      "userId": "09113901104055523562"
     },
     "user_tz": -330
    },
    "id": "HT1WOOdbCXy3",
    "outputId": "2267c12b-1a05-4162-b59a-632e82ae20d3"
   },
   "outputs": [
    {
     "data": {
      "text/plain": [
       "array([8, 3])"
      ]
     },
     "execution_count": 41,
     "metadata": {},
     "output_type": "execute_result"
    }
   ],
   "source": [
    "#searching on row 0 and 1 and giving its 2nd column element from both the rows i.e. 3rd in sequence as we start from 0\n",
    "a5[0:2,2]"
   ]
  },
  {
   "cell_type": "code",
   "execution_count": 42,
   "metadata": {
    "colab": {
     "base_uri": "https://localhost:8080/"
    },
    "executionInfo": {
     "elapsed": 172,
     "status": "ok",
     "timestamp": 1713714568314,
     "user": {
      "displayName": "Shubham Hadeeya",
      "userId": "09113901104055523562"
     },
     "user_tz": -330
    },
    "id": "fVIQ1d4mAM5r",
    "outputId": "bc0b5531-78f6-4e3c-89e3-68b664cf7827"
   },
   "outputs": [
    {
     "data": {
      "text/plain": [
       "array([9, 3])"
      ]
     },
     "execution_count": 42,
     "metadata": {},
     "output_type": "execute_result"
    }
   ],
   "source": [
    "#from last row giving 0th and 1st element\n",
    "a5[-1,0:2]"
   ]
  },
  {
   "cell_type": "code",
   "execution_count": 43,
   "metadata": {
    "colab": {
     "base_uri": "https://localhost:8080/"
    },
    "executionInfo": {
     "elapsed": 166,
     "status": "ok",
     "timestamp": 1713714568315,
     "user": {
      "displayName": "Shubham Hadeeya",
      "userId": "09113901104055523562"
     },
     "user_tz": -330
    },
    "id": "EthhjGPnEc8a",
    "outputId": "42e0be3c-3060-46e8-fdb6-9af15f62d629"
   },
   "outputs": [
    {
     "data": {
      "text/plain": [
       "array([[7, 8],\n",
       "       [2, 3],\n",
       "       [3, 2]])"
      ]
     },
     "execution_count": 43,
     "metadata": {},
     "output_type": "execute_result"
    }
   ],
   "source": [
    "a5[:,1:3]"
   ]
  },
  {
   "cell_type": "code",
   "execution_count": 44,
   "metadata": {
    "colab": {
     "base_uri": "https://localhost:8080/"
    },
    "executionInfo": {
     "elapsed": 161,
     "status": "ok",
     "timestamp": 1713714568316,
     "user": {
      "displayName": "Shubham Hadeeya",
      "userId": "09113901104055523562"
     },
     "user_tz": -330
    },
    "id": "DJYKETHeEoom",
    "outputId": "6129e7b1-ec8a-456d-90ba-8c2dc1681f76"
   },
   "outputs": [
    {
     "name": "stdout",
     "output_type": "stream",
     "text": [
      "6\n",
      "7\n",
      "8\n",
      "1\n",
      "2\n",
      "3\n",
      "9\n",
      "3\n",
      "2\n"
     ]
    }
   ],
   "source": [
    "for cell in a5.flat:\n",
    "  print(cell)"
   ]
  },
  {
   "cell_type": "code",
   "execution_count": 45,
   "metadata": {
    "executionInfo": {
     "elapsed": 155,
     "status": "ok",
     "timestamp": 1713714568317,
     "user": {
      "displayName": "Shubham Hadeeya",
      "userId": "09113901104055523562"
     },
     "user_tz": -330
    },
    "id": "l5uoqUk7E3uR"
   },
   "outputs": [],
   "source": [
    "b1=np.arange(6).reshape(3,2)\n",
    "b2=np.arange(6,12).reshape(3,2)"
   ]
  },
  {
   "cell_type": "code",
   "execution_count": 46,
   "metadata": {
    "colab": {
     "base_uri": "https://localhost:8080/"
    },
    "executionInfo": {
     "elapsed": 155,
     "status": "ok",
     "timestamp": 1713714568318,
     "user": {
      "displayName": "Shubham Hadeeya",
      "userId": "09113901104055523562"
     },
     "user_tz": -330
    },
    "id": "zB6sq5O5Fa4P",
    "outputId": "b4a2076b-3ff5-4fea-bb41-59aeac176fa2"
   },
   "outputs": [
    {
     "data": {
      "text/plain": [
       "array([[0, 1],\n",
       "       [2, 3],\n",
       "       [4, 5]])"
      ]
     },
     "execution_count": 46,
     "metadata": {},
     "output_type": "execute_result"
    }
   ],
   "source": [
    "b1"
   ]
  },
  {
   "cell_type": "code",
   "execution_count": 47,
   "metadata": {
    "colab": {
     "base_uri": "https://localhost:8080/"
    },
    "executionInfo": {
     "elapsed": 147,
     "status": "ok",
     "timestamp": 1713714568318,
     "user": {
      "displayName": "Shubham Hadeeya",
      "userId": "09113901104055523562"
     },
     "user_tz": -330
    },
    "id": "ww61-YN2FbkG",
    "outputId": "263ea535-39f0-4f7e-bf58-238e70ec5b21"
   },
   "outputs": [
    {
     "data": {
      "text/plain": [
       "array([[ 6,  7],\n",
       "       [ 8,  9],\n",
       "       [10, 11]])"
      ]
     },
     "execution_count": 47,
     "metadata": {},
     "output_type": "execute_result"
    }
   ],
   "source": [
    "b2"
   ]
  },
  {
   "cell_type": "code",
   "execution_count": 48,
   "metadata": {
    "colab": {
     "base_uri": "https://localhost:8080/"
    },
    "executionInfo": {
     "elapsed": 142,
     "status": "ok",
     "timestamp": 1713714568319,
     "user": {
      "displayName": "Shubham Hadeeya",
      "userId": "09113901104055523562"
     },
     "user_tz": -330
    },
    "id": "pTiKc_RfFbmg",
    "outputId": "3e8a2cc6-db76-4418-f3a4-a50376bc788f"
   },
   "outputs": [
    {
     "data": {
      "text/plain": [
       "array([[ 0,  1],\n",
       "       [ 2,  3],\n",
       "       [ 4,  5],\n",
       "       [ 6,  7],\n",
       "       [ 8,  9],\n",
       "       [10, 11]])"
      ]
     },
     "execution_count": 48,
     "metadata": {},
     "output_type": "execute_result"
    }
   ],
   "source": [
    "np.vstack((b1,b2))"
   ]
  },
  {
   "cell_type": "code",
   "execution_count": 49,
   "metadata": {
    "colab": {
     "base_uri": "https://localhost:8080/"
    },
    "executionInfo": {
     "elapsed": 135,
     "status": "ok",
     "timestamp": 1713714568319,
     "user": {
      "displayName": "Shubham Hadeeya",
      "userId": "09113901104055523562"
     },
     "user_tz": -330
    },
    "id": "-0QHq2ezFbpL",
    "outputId": "fd8629fa-a0ad-486d-fff3-033f9c42685b"
   },
   "outputs": [
    {
     "data": {
      "text/plain": [
       "array([[ 0,  1,  6,  7],\n",
       "       [ 2,  3,  8,  9],\n",
       "       [ 4,  5, 10, 11]])"
      ]
     },
     "execution_count": 49,
     "metadata": {},
     "output_type": "execute_result"
    }
   ],
   "source": [
    "np.hstack((b1,b2))"
   ]
  },
  {
   "cell_type": "code",
   "execution_count": null,
   "metadata": {
    "executionInfo": {
     "elapsed": 128,
     "status": "ok",
     "timestamp": 1713714568319,
     "user": {
      "displayName": "Shubham Hadeeya",
      "userId": "09113901104055523562"
     },
     "user_tz": -330
    },
    "id": "4a0gVC4xFbrs"
   },
   "outputs": [],
   "source": []
  },
  {
   "cell_type": "code",
   "execution_count": 50,
   "metadata": {
    "colab": {
     "base_uri": "https://localhost:8080/"
    },
    "executionInfo": {
     "elapsed": 127,
     "status": "ok",
     "timestamp": 1713714568320,
     "user": {
      "displayName": "Shubham Hadeeya",
      "userId": "09113901104055523562"
     },
     "user_tz": -330
    },
    "id": "_ZQ2_iw3FbuH",
    "outputId": "fdf9725a-039f-476b-e70b-6855bc7ceab0"
   },
   "outputs": [
    {
     "data": {
      "text/plain": [
       "array([[ 0,  1,  2,  3,  4,  5,  6,  7,  8,  9, 10, 11, 12, 13, 14],\n",
       "       [15, 16, 17, 18, 19, 20, 21, 22, 23, 24, 25, 26, 27, 28, 29]])"
      ]
     },
     "execution_count": 50,
     "metadata": {},
     "output_type": "execute_result"
    }
   ],
   "source": [
    "b3=np.arange(30).reshape(2,15)\n",
    "b3"
   ]
  },
  {
   "cell_type": "code",
   "execution_count": 51,
   "metadata": {
    "colab": {
     "base_uri": "https://localhost:8080/"
    },
    "executionInfo": {
     "elapsed": 120,
     "status": "ok",
     "timestamp": 1713714568320,
     "user": {
      "displayName": "Shubham Hadeeya",
      "userId": "09113901104055523562"
     },
     "user_tz": -330
    },
    "id": "fD5ca3XYFbwa",
    "outputId": "ccfce3e8-f9d3-43dc-8681-6cbd86507ff1"
   },
   "outputs": [
    {
     "data": {
      "text/plain": [
       "[array([[ 0,  1,  2,  3,  4],\n",
       "        [15, 16, 17, 18, 19]]),\n",
       " array([[ 5,  6,  7,  8,  9],\n",
       "        [20, 21, 22, 23, 24]]),\n",
       " array([[10, 11, 12, 13, 14],\n",
       "        [25, 26, 27, 28, 29]])]"
      ]
     },
     "execution_count": 51,
     "metadata": {},
     "output_type": "execute_result"
    }
   ],
   "source": [
    "np.hsplit(b3,3)"
   ]
  },
  {
   "cell_type": "code",
   "execution_count": 52,
   "metadata": {
    "colab": {
     "base_uri": "https://localhost:8080/"
    },
    "executionInfo": {
     "elapsed": 114,
     "status": "ok",
     "timestamp": 1713714568321,
     "user": {
      "displayName": "Shubham Hadeeya",
      "userId": "09113901104055523562"
     },
     "user_tz": -330
    },
    "id": "yuwerOG3FbzC",
    "outputId": "e132576f-245f-48a7-c262-8930e2491008"
   },
   "outputs": [
    {
     "data": {
      "text/plain": [
       "[array([[ 0,  1,  2,  3,  4,  5,  6,  7,  8,  9, 10, 11, 12, 13, 14]]),\n",
       " array([[15, 16, 17, 18, 19, 20, 21, 22, 23, 24, 25, 26, 27, 28, 29]])]"
      ]
     },
     "execution_count": 52,
     "metadata": {},
     "output_type": "execute_result"
    }
   ],
   "source": [
    "np.vsplit(b3,2)"
   ]
  },
  {
   "cell_type": "code",
   "execution_count": null,
   "metadata": {
    "executionInfo": {
     "elapsed": 108,
     "status": "ok",
     "timestamp": 1713714568321,
     "user": {
      "displayName": "Shubham Hadeeya",
      "userId": "09113901104055523562"
     },
     "user_tz": -330
    },
    "id": "kDtx8Ty1Fb36"
   },
   "outputs": [],
   "source": []
  },
  {
   "cell_type": "code",
   "execution_count": 53,
   "metadata": {
    "colab": {
     "base_uri": "https://localhost:8080/"
    },
    "executionInfo": {
     "elapsed": 107,
     "status": "ok",
     "timestamp": 1713714568321,
     "user": {
      "displayName": "Shubham Hadeeya",
      "userId": "09113901104055523562"
     },
     "user_tz": -330
    },
    "id": "SorEwIYSFb84",
    "outputId": "b5c58bb5-b639-4717-9b56-a2b2313fca37"
   },
   "outputs": [
    {
     "data": {
      "text/plain": [
       "array([[ 0,  1,  2,  3],\n",
       "       [ 4,  5,  6,  7],\n",
       "       [ 8,  9, 10, 11]])"
      ]
     },
     "execution_count": 53,
     "metadata": {},
     "output_type": "execute_result"
    }
   ],
   "source": [
    "b4=np.arange(12).reshape(3,4)\n",
    "b4"
   ]
  },
  {
   "cell_type": "code",
   "execution_count": 54,
   "metadata": {
    "colab": {
     "base_uri": "https://localhost:8080/"
    },
    "executionInfo": {
     "elapsed": 100,
     "status": "ok",
     "timestamp": 1713714568322,
     "user": {
      "displayName": "Shubham Hadeeya",
      "userId": "09113901104055523562"
     },
     "user_tz": -330
    },
    "id": "sp6MEg86Fb_Q",
    "outputId": "268bc77d-c88e-455f-c67c-b49e0ec13ff4"
   },
   "outputs": [
    {
     "data": {
      "text/plain": [
       "array([[False, False, False, False],\n",
       "       [False,  True,  True,  True],\n",
       "       [ True,  True,  True,  True]])"
      ]
     },
     "execution_count": 54,
     "metadata": {},
     "output_type": "execute_result"
    }
   ],
   "source": [
    "c=b4>4\n",
    "c"
   ]
  },
  {
   "cell_type": "code",
   "execution_count": 55,
   "metadata": {
    "colab": {
     "base_uri": "https://localhost:8080/"
    },
    "executionInfo": {
     "elapsed": 94,
     "status": "ok",
     "timestamp": 1713714568322,
     "user": {
      "displayName": "Shubham Hadeeya",
      "userId": "09113901104055523562"
     },
     "user_tz": -330
    },
    "id": "bUXr6lCtFcQT",
    "outputId": "c0b68a09-40f0-42f3-9fc5-0ce35dab0f1e"
   },
   "outputs": [
    {
     "data": {
      "text/plain": [
       "array([ 5,  6,  7,  8,  9, 10, 11])"
      ]
     },
     "execution_count": 55,
     "metadata": {},
     "output_type": "execute_result"
    }
   ],
   "source": [
    "#will return values from b4 where corresponding values from c is True\n",
    "b4[c]"
   ]
  },
  {
   "cell_type": "code",
   "execution_count": 56,
   "metadata": {
    "colab": {
     "base_uri": "https://localhost:8080/"
    },
    "executionInfo": {
     "elapsed": 87,
     "status": "ok",
     "timestamp": 1713714568323,
     "user": {
      "displayName": "Shubham Hadeeya",
      "userId": "09113901104055523562"
     },
     "user_tz": -330
    },
    "id": "uZE6cdh7FcSo",
    "outputId": "8e7b7f17-c327-45cf-e4c5-a2f190806eb5"
   },
   "outputs": [
    {
     "data": {
      "text/plain": [
       "array([[ 0,  1,  2,  3],\n",
       "       [ 4, -1, -1, -1],\n",
       "       [-1, -1, -1, -1]])"
      ]
     },
     "execution_count": 56,
     "metadata": {},
     "output_type": "execute_result"
    }
   ],
   "source": [
    "#replacing with specific values where c is true\n",
    "b4[c]=-1\n",
    "b4"
   ]
  },
  {
   "cell_type": "code",
   "execution_count": null,
   "metadata": {
    "executionInfo": {
     "elapsed": 81,
     "status": "ok",
     "timestamp": 1713714568323,
     "user": {
      "displayName": "Shubham Hadeeya",
      "userId": "09113901104055523562"
     },
     "user_tz": -330
    },
    "id": "_plHzOODFcVM"
   },
   "outputs": [],
   "source": []
  },
  {
   "cell_type": "code",
   "execution_count": 57,
   "metadata": {
    "colab": {
     "base_uri": "https://localhost:8080/"
    },
    "executionInfo": {
     "elapsed": 496,
     "status": "ok",
     "timestamp": 1713714915611,
     "user": {
      "displayName": "Shubham Hadeeya",
      "userId": "09113901104055523562"
     },
     "user_tz": -330
    },
    "id": "gY6EqS63FcXV",
    "outputId": "ca72bd3b-7b61-441a-cedb-a224bd9c74f3"
   },
   "outputs": [
    {
     "data": {
      "text/plain": [
       "array([[ 0,  1,  2,  3],\n",
       "       [ 4,  5,  6,  7],\n",
       "       [ 8,  9, 10, 11]])"
      ]
     },
     "execution_count": 57,
     "metadata": {},
     "output_type": "execute_result"
    }
   ],
   "source": [
    "c1=np.arange(12).reshape(3,4)\n",
    "c1"
   ]
  },
  {
   "cell_type": "code",
   "execution_count": 58,
   "metadata": {
    "colab": {
     "base_uri": "https://localhost:8080/"
    },
    "executionInfo": {
     "elapsed": 477,
     "status": "ok",
     "timestamp": 1713714969372,
     "user": {
      "displayName": "Shubham Hadeeya",
      "userId": "09113901104055523562"
     },
     "user_tz": -330
    },
    "id": "_I-0K43ZFcaG",
    "outputId": "48bf63c2-da88-4bce-e236-085728c03d36"
   },
   "outputs": [
    {
     "name": "stdout",
     "output_type": "stream",
     "text": [
      "0\n",
      "1\n",
      "2\n",
      "3\n",
      "4\n",
      "5\n",
      "6\n",
      "7\n",
      "8\n",
      "9\n",
      "10\n",
      "11\n"
     ]
    }
   ],
   "source": [
    "for row in c1:\n",
    "  for cell in row:\n",
    "    print(cell)"
   ]
  },
  {
   "cell_type": "code",
   "execution_count": 59,
   "metadata": {
    "colab": {
     "base_uri": "https://localhost:8080/"
    },
    "executionInfo": {
     "elapsed": 580,
     "status": "ok",
     "timestamp": 1713715056926,
     "user": {
      "displayName": "Shubham Hadeeya",
      "userId": "09113901104055523562"
     },
     "user_tz": -330
    },
    "id": "rGAbBuaGFccc",
    "outputId": "d8680d64-78d6-4788-e641-1116f1d0d5e4"
   },
   "outputs": [
    {
     "name": "stdout",
     "output_type": "stream",
     "text": [
      "0\n",
      "1\n",
      "2\n",
      "3\n",
      "4\n",
      "5\n",
      "6\n",
      "7\n",
      "8\n",
      "9\n",
      "10\n",
      "11\n"
     ]
    }
   ],
   "source": [
    "#with flatten fn no need for 2 for loops\n",
    "for cell in c1.flatten():\n",
    "    print(cell)"
   ]
  },
  {
   "cell_type": "code",
   "execution_count": 60,
   "metadata": {
    "colab": {
     "base_uri": "https://localhost:8080/"
    },
    "executionInfo": {
     "elapsed": 502,
     "status": "ok",
     "timestamp": 1713715136812,
     "user": {
      "displayName": "Shubham Hadeeya",
      "userId": "09113901104055523562"
     },
     "user_tz": -330
    },
    "id": "lTKwEKGQFcfC",
    "outputId": "7fe72066-1a72-4d95-b39f-9503536e7fb0"
   },
   "outputs": [
    {
     "name": "stdout",
     "output_type": "stream",
     "text": [
      "0\n",
      "1\n",
      "2\n",
      "3\n",
      "4\n",
      "5\n",
      "6\n",
      "7\n",
      "8\n",
      "9\n",
      "10\n",
      "11\n"
     ]
    }
   ],
   "source": [
    "#we are going row by row and in each row by order of column elements will be printed\n",
    "for x in np.nditer(c1,order='C'):\n",
    "  print(x)"
   ]
  },
  {
   "cell_type": "code",
   "execution_count": 61,
   "metadata": {
    "colab": {
     "base_uri": "https://localhost:8080/"
    },
    "executionInfo": {
     "elapsed": 466,
     "status": "ok",
     "timestamp": 1713715197663,
     "user": {
      "displayName": "Shubham Hadeeya",
      "userId": "09113901104055523562"
     },
     "user_tz": -330
    },
    "id": "yYQBCEGmFchb",
    "outputId": "71b6ccd5-1398-4617-a13c-ba9a3e3e5119"
   },
   "outputs": [
    {
     "name": "stdout",
     "output_type": "stream",
     "text": [
      "0\n",
      "4\n",
      "8\n",
      "1\n",
      "5\n",
      "9\n",
      "2\n",
      "6\n",
      "10\n",
      "3\n",
      "7\n",
      "11\n"
     ]
    }
   ],
   "source": [
    "#now it will go by row 1to 3 with element 1 then again row 1 to 3 2nd element\n",
    "for x in np.nditer(c1,order='F'):\n",
    "  print(x)"
   ]
  },
  {
   "cell_type": "code",
   "execution_count": 62,
   "metadata": {
    "colab": {
     "base_uri": "https://localhost:8080/"
    },
    "executionInfo": {
     "elapsed": 514,
     "status": "ok",
     "timestamp": 1713715368518,
     "user": {
      "displayName": "Shubham Hadeeya",
      "userId": "09113901104055523562"
     },
     "user_tz": -330
    },
    "id": "JY4PnlykFckI",
    "outputId": "f11dd774-1b65-4458-c027-592712cefb5c"
   },
   "outputs": [
    {
     "name": "stdout",
     "output_type": "stream",
     "text": [
      "[0 4 8]\n",
      "[1 5 9]\n",
      "[ 2  6 10]\n",
      "[ 3  7 11]\n"
     ]
    }
   ],
   "source": [
    "#printing F order but entire column\n",
    "for x in np.nditer(c1,order='F',flags=['external_loop']):\n",
    "  print(x)"
   ]
  },
  {
   "cell_type": "code",
   "execution_count": 63,
   "metadata": {
    "colab": {
     "base_uri": "https://localhost:8080/"
    },
    "executionInfo": {
     "elapsed": 489,
     "status": "ok",
     "timestamp": 1713715808074,
     "user": {
      "displayName": "Shubham Hadeeya",
      "userId": "09113901104055523562"
     },
     "user_tz": -330
    },
    "id": "Kj8VPpcXFcma",
    "outputId": "40e56d32-101c-4e38-dae4-0ce9bb54e8b7"
   },
   "outputs": [
    {
     "data": {
      "text/plain": [
       "array([[  0,   1,   4,   9],\n",
       "       [ 16,  25,  36,  49],\n",
       "       [ 64,  81, 100, 121]])"
      ]
     },
     "execution_count": 63,
     "metadata": {},
     "output_type": "execute_result"
    }
   ],
   "source": [
    "for x in np.nditer(c1,op_flags=['readwrite']):\n",
    "  x[...]=x*x\n",
    "c1"
   ]
  },
  {
   "cell_type": "code",
   "execution_count": 64,
   "metadata": {
    "colab": {
     "base_uri": "https://localhost:8080/"
    },
    "executionInfo": {
     "elapsed": 511,
     "status": "ok",
     "timestamp": 1713715850771,
     "user": {
      "displayName": "Shubham Hadeeya",
      "userId": "09113901104055523562"
     },
     "user_tz": -330
    },
    "id": "3LGY7nOrFcpR",
    "outputId": "b42e891f-c1ae-4a72-f009-8a09fbcd735e"
   },
   "outputs": [
    {
     "data": {
      "text/plain": [
       "array([[ 3],\n",
       "       [ 7],\n",
       "       [11]])"
      ]
     },
     "execution_count": 64,
     "metadata": {},
     "output_type": "execute_result"
    }
   ],
   "source": [
    "c2 = np.arange(3,15,4).reshape(3,1)\n",
    "c2"
   ]
  },
  {
   "cell_type": "code",
   "execution_count": 65,
   "metadata": {
    "colab": {
     "base_uri": "https://localhost:8080/"
    },
    "executionInfo": {
     "elapsed": 450,
     "status": "ok",
     "timestamp": 1713715899417,
     "user": {
      "displayName": "Shubham Hadeeya",
      "userId": "09113901104055523562"
     },
     "user_tz": -330
    },
    "id": "y4pXuFXJFcrh",
    "outputId": "9aa0332c-d929-4c71-f6eb-9946aa74675e"
   },
   "outputs": [
    {
     "name": "stdout",
     "output_type": "stream",
     "text": [
      "0 3\n",
      "1 3\n",
      "4 3\n",
      "9 3\n",
      "16 7\n",
      "25 7\n",
      "36 7\n",
      "49 7\n",
      "64 11\n",
      "81 11\n",
      "100 11\n",
      "121 11\n"
     ]
    }
   ],
   "source": [
    "for (x,y) in np.nditer([c1,c2]):\n",
    "  print(x,y)\n",
    "#for this to work both the array should be same or one of them should be 1"
   ]
  },
  {
   "cell_type": "code",
   "execution_count": null,
   "metadata": {
    "executionInfo": {
     "elapsed": 13,
     "status": "ok",
     "timestamp": 1713714569015,
     "user": {
      "displayName": "Shubham Hadeeya",
      "userId": "09113901104055523562"
     },
     "user_tz": -330
    },
    "id": "VEn-hkiYFcuH"
   },
   "outputs": [],
   "source": []
  },
  {
   "cell_type": "code",
   "execution_count": 1,
   "metadata": {
    "executionInfo": {
     "elapsed": 13,
     "status": "ok",
     "timestamp": 1713714569016,
     "user": {
      "displayName": "Shubham Hadeeya",
      "userId": "09113901104055523562"
     },
     "user_tz": -330
    },
    "id": "DdyT12IzFcwm"
   },
   "outputs": [
    {
     "ename": "KeyboardInterrupt",
     "evalue": "Interrupted by user",
     "output_type": "error",
     "traceback": [
      "\u001b[1;31m---------------------------------------------------------------------------\u001b[0m",
      "\u001b[1;31mKeyboardInterrupt\u001b[0m                         Traceback (most recent call last)",
      "Cell \u001b[1;32mIn[1], line 3\u001b[0m\n\u001b[0;32m      1\u001b[0m \u001b[38;5;28;01mimport\u001b[39;00m \u001b[38;5;21;01mnumpy\u001b[39;00m \u001b[38;5;28;01mas\u001b[39;00m \u001b[38;5;21;01mnp\u001b[39;00m\n\u001b[1;32m----> 3\u001b[0m data \u001b[38;5;241m=\u001b[39m \u001b[38;5;28mlist\u001b[39m(\u001b[38;5;28mmap\u001b[39m(\u001b[38;5;28mint\u001b[39m, \u001b[38;5;28minput\u001b[39m()\u001b[38;5;241m.\u001b[39msplit()))\n\u001b[0;32m      4\u001b[0m data \u001b[38;5;241m=\u001b[39m np\u001b[38;5;241m.\u001b[39marray(data, \u001b[38;5;28mint\u001b[39m)\n\u001b[0;32m      5\u001b[0m \u001b[38;5;28mprint\u001b[39m(data\u001b[38;5;241m.\u001b[39mreshape(\u001b[38;5;241m3\u001b[39m,\u001b[38;5;241m3\u001b[39m))\n",
      "File \u001b[1;32m~\\anaconda3\\Lib\\site-packages\\ipykernel\\kernelbase.py:1262\u001b[0m, in \u001b[0;36mKernel.raw_input\u001b[1;34m(self, prompt)\u001b[0m\n\u001b[0;32m   1260\u001b[0m     msg \u001b[38;5;241m=\u001b[39m \u001b[38;5;124m\"\u001b[39m\u001b[38;5;124mraw_input was called, but this frontend does not support input requests.\u001b[39m\u001b[38;5;124m\"\u001b[39m\n\u001b[0;32m   1261\u001b[0m     \u001b[38;5;28;01mraise\u001b[39;00m StdinNotImplementedError(msg)\n\u001b[1;32m-> 1262\u001b[0m \u001b[38;5;28;01mreturn\u001b[39;00m \u001b[38;5;28mself\u001b[39m\u001b[38;5;241m.\u001b[39m_input_request(\n\u001b[0;32m   1263\u001b[0m     \u001b[38;5;28mstr\u001b[39m(prompt),\n\u001b[0;32m   1264\u001b[0m     \u001b[38;5;28mself\u001b[39m\u001b[38;5;241m.\u001b[39m_parent_ident[\u001b[38;5;124m\"\u001b[39m\u001b[38;5;124mshell\u001b[39m\u001b[38;5;124m\"\u001b[39m],\n\u001b[0;32m   1265\u001b[0m     \u001b[38;5;28mself\u001b[39m\u001b[38;5;241m.\u001b[39mget_parent(\u001b[38;5;124m\"\u001b[39m\u001b[38;5;124mshell\u001b[39m\u001b[38;5;124m\"\u001b[39m),\n\u001b[0;32m   1266\u001b[0m     password\u001b[38;5;241m=\u001b[39m\u001b[38;5;28;01mFalse\u001b[39;00m,\n\u001b[0;32m   1267\u001b[0m )\n",
      "File \u001b[1;32m~\\anaconda3\\Lib\\site-packages\\ipykernel\\kernelbase.py:1305\u001b[0m, in \u001b[0;36mKernel._input_request\u001b[1;34m(self, prompt, ident, parent, password)\u001b[0m\n\u001b[0;32m   1302\u001b[0m \u001b[38;5;28;01mexcept\u001b[39;00m \u001b[38;5;167;01mKeyboardInterrupt\u001b[39;00m:\n\u001b[0;32m   1303\u001b[0m     \u001b[38;5;66;03m# re-raise KeyboardInterrupt, to truncate traceback\u001b[39;00m\n\u001b[0;32m   1304\u001b[0m     msg \u001b[38;5;241m=\u001b[39m \u001b[38;5;124m\"\u001b[39m\u001b[38;5;124mInterrupted by user\u001b[39m\u001b[38;5;124m\"\u001b[39m\n\u001b[1;32m-> 1305\u001b[0m     \u001b[38;5;28;01mraise\u001b[39;00m \u001b[38;5;167;01mKeyboardInterrupt\u001b[39;00m(msg) \u001b[38;5;28;01mfrom\u001b[39;00m \u001b[38;5;28;01mNone\u001b[39;00m\n\u001b[0;32m   1306\u001b[0m \u001b[38;5;28;01mexcept\u001b[39;00m \u001b[38;5;167;01mException\u001b[39;00m:\n\u001b[0;32m   1307\u001b[0m     \u001b[38;5;28mself\u001b[39m\u001b[38;5;241m.\u001b[39mlog\u001b[38;5;241m.\u001b[39mwarning(\u001b[38;5;124m\"\u001b[39m\u001b[38;5;124mInvalid Message:\u001b[39m\u001b[38;5;124m\"\u001b[39m, exc_info\u001b[38;5;241m=\u001b[39m\u001b[38;5;28;01mTrue\u001b[39;00m)\n",
      "\u001b[1;31mKeyboardInterrupt\u001b[0m: Interrupted by user"
     ]
    }
   ],
   "source": [
    "import numpy as np\n",
    "\n",
    "data = list(map(int, input().split()))\n",
    "data = np.array(data, int)\n",
    "print(data.reshape(3,3))"
   ]
  },
  {
   "cell_type": "code",
   "execution_count": null,
   "metadata": {
    "executionInfo": {
     "elapsed": 13,
     "status": "ok",
     "timestamp": 1713714569017,
     "user": {
      "displayName": "Shubham Hadeeya",
      "userId": "09113901104055523562"
     },
     "user_tz": -330
    },
    "id": "V76T1fl1FczQ"
   },
   "outputs": [],
   "source": [
    "import numpy as np\n",
    "\n",
    "a1 = np.array([int(n) for n in input().split(' ')])\n",
    "print(a1.reshape(3, 3))"
   ]
  },
  {
   "cell_type": "code",
   "execution_count": null,
   "metadata": {
    "executionInfo": {
     "elapsed": 12,
     "status": "ok",
     "timestamp": 1713714569017,
     "user": {
      "displayName": "Shubham Hadeeya",
      "userId": "09113901104055523562"
     },
     "user_tz": -330
    },
    "id": "9atNNzZbFc2u"
   },
   "outputs": [],
   "source": []
  }
 ],
 "metadata": {
  "colab": {
   "authorship_tag": "ABX9TyP0OjWr+48rscIhPbyC0IUR",
   "provenance": []
  },
  "kernelspec": {
   "display_name": "Python 3 (ipykernel)",
   "language": "python",
   "name": "python3"
  },
  "language_info": {
   "codemirror_mode": {
    "name": "ipython",
    "version": 3
   },
   "file_extension": ".py",
   "mimetype": "text/x-python",
   "name": "python",
   "nbconvert_exporter": "python",
   "pygments_lexer": "ipython3",
   "version": "3.11.7"
  }
 },
 "nbformat": 4,
 "nbformat_minor": 4
}
