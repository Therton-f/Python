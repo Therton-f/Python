{
 "cells": [
  {
   "cell_type": "code",
   "execution_count": null,
   "metadata": {
    "id": "EEKtHcT4thip"
   },
   "outputs": [],
   "source": [
    "# Open a file in write mode\n",
    "with open(\"C:\\\\Users\\\\Therton_F\\\\Downloads\\\\DA\\Python\\\\CB\\\\funny.txt\", \"w\") as f:\n",
    "    # Write a line to the file\n",
    "    f.write(\"This is the first line in my file.\\n\")\n",
    "    # Write another line to the file\n",
    "    f.write(\"This is the second line in my file.\")\n",
    "\n",
    "#with this fromat you dont have to close the file at the end"
   ]
  },
  {
   "cell_type": "code",
   "execution_count": null,
   "metadata": {
    "id": "EuAw68HiHdi-"
   },
   "outputs": [],
   "source": [
    "from google.colab import drive\n",
    "drive.mount('/content/drive')"
   ]
  },
  {
   "cell_type": "code",
   "execution_count": null,
   "metadata": {
    "id": "YQNCb-BAv0U3"
   },
   "outputs": [],
   "source": []
  },
  {
   "cell_type": "code",
   "execution_count": null,
   "metadata": {
    "id": "enbAEOsEv0FE"
   },
   "outputs": [],
   "source": [
    "#print(f.closed) will return status on wether file is closed or not"
   ]
  },
  {
   "cell_type": "code",
   "execution_count": null,
   "metadata": {
    "id": "pN_Ia0Gzr035"
   },
   "outputs": [],
   "source": [
    "f=open(\"C:\\\\Users\\\\Therton_F\\\\Downloads\\\\DA\\Python\\\\CB\\\\funny.txt\", \"w\")\n",
    "f.write(\"I love Python\")\n",
    "f.close()"
   ]
  },
  {
   "cell_type": "code",
   "execution_count": null,
   "metadata": {
    "id": "CvxF9-uv0tL-"
   },
   "outputs": [],
   "source": [
    "f=open(\"C:\\\\Users\\\\Therton_F\\\\Downloads\\\\DA\\Python\\\\CB\\\\funny.txt\", \"a\")\n",
    "f.write(\"\\nI love therton\")\n",
    "f.close()"
   ]
  },
  {
   "cell_type": "markdown",
   "metadata": {
    "id": "iLq1HaQJvZqR"
   },
   "source": [
    "\n",
    "\n",
    "1.   to append file use \"a\" instead of \"w\"\n",
    "2.   for appending in new line use \"\\n\" at the end of previous line or at strat of new line\n",
    "3. r+ for read and write both\n",
    "4. w+ for read and write both, if file not exist then create it and if exist it can overwrite it\n",
    "\n",
    "\n",
    "\n",
    "\n",
    "\n",
    "\n"
   ]
  },
  {
   "cell_type": "code",
   "execution_count": null,
   "metadata": {
    "colab": {
     "base_uri": "https://localhost:8080/"
    },
    "executionInfo": {
     "elapsed": 20,
     "status": "ok",
     "timestamp": 1713610141947,
     "user": {
      "displayName": "Shubham Hadeeya",
      "userId": "09113901104055523562"
     },
     "user_tz": -330
    },
    "id": "7_rlhAZrtfEQ",
    "outputId": "9fc3eba6-0584-416a-b842-89dd3bfa49ef"
   },
   "outputs": [
    {
     "name": "stdout",
     "output_type": "stream",
     "text": [
      "I love Python\n",
      "I love therton\n"
     ]
    }
   ],
   "source": [
    "f=open(\"C:\\\\Users\\\\Therton_F\\\\Downloads\\\\DA\\Python\\\\CB\\\\funny.txt\", \"r\")\n",
    "print(f.read())\n",
    "f.close()"
   ]
  },
  {
   "cell_type": "code",
   "execution_count": null,
   "metadata": {
    "colab": {
     "base_uri": "https://localhost:8080/"
    },
    "executionInfo": {
     "elapsed": 629,
     "status": "ok",
     "timestamp": 1713610151424,
     "user": {
      "displayName": "Shubham Hadeeya",
      "userId": "09113901104055523562"
     },
     "user_tz": -330
    },
    "id": "OrSQrrr508Ui",
    "outputId": "a6390e07-e00a-4941-bc1f-e9e8b516d2c6"
   },
   "outputs": [
    {
     "name": "stdout",
     "output_type": "stream",
     "text": [
      "I love Python\n",
      "\n",
      "I love therton\n"
     ]
    }
   ],
   "source": [
    "f=open(\"C:\\\\Users\\\\Therton_F\\\\Downloads\\\\DA\\Python\\\\CB\\\\funny.txt\", \"r\")\n",
    "for line in f:\n",
    "   print(line)\n",
    "f.close()"
   ]
  },
  {
   "cell_type": "code",
   "execution_count": null,
   "metadata": {
    "colab": {
     "base_uri": "https://localhost:8080/"
    },
    "executionInfo": {
     "elapsed": 442,
     "status": "ok",
     "timestamp": 1712918136592,
     "user": {
      "displayName": "Shubham Hadeeya",
      "userId": "09113901104055523562"
     },
     "user_tz": -330
    },
    "id": "qCJS9jzu1KsK",
    "outputId": "ba7083a9-78b6-464f-9175-5abeefbfad13"
   },
   "outputs": [
    {
     "name": "stdout",
     "output_type": "stream",
     "text": [
      "['I', 'love', 'Python\\n']\n",
      "3\n",
      "['I', 'love', 'therton']\n",
      "3\n"
     ]
    }
   ],
   "source": [
    "#separating each line with blank space in it\n",
    "\n",
    "f=open(\"C:\\\\Users\\\\Therton_F\\\\Downloads\\\\DA\\Python\\\\CB\\\\funny.txt\", \"r\")\n",
    "for line in f:\n",
    "   tokens = line.split(' ')\n",
    "   print(tokens)\n",
    "   print(len(tokens))\n",
    "f.close()"
   ]
  },
  {
   "cell_type": "code",
   "execution_count": null,
   "metadata": {
    "colab": {
     "base_uri": "https://localhost:8080/"
    },
    "executionInfo": {
     "elapsed": 814,
     "status": "ok",
     "timestamp": 1713610319581,
     "user": {
      "displayName": "Shubham Hadeeya",
      "userId": "09113901104055523562"
     },
     "user_tz": -330
    },
    "id": "z_2e2v382cOs",
    "outputId": "ab8982e7-6b1e-4bf2-a84b-6a34b4a7a7b3"
   },
   "outputs": [
    {
     "name": "stdout",
     "output_type": "stream",
     "text": [
      "['I', 'love', 'Python\\n']\n",
      "3\n",
      "['I', 'love', 'therton']\n",
      "3\n"
     ]
    }
   ],
   "source": [
    "f=open(\"C:\\\\Users\\\\Therton_F\\\\Downloads\\\\DA\\Python\\\\CB\\\\funny.txt\", \"r\")\n",
    "f_out=open(\"C:\\\\Users\\\\Therton_F\\\\Downloads\\\\DA\\Python\\\\CB\\\\funny_wc.txt\", \"w\")\n",
    "for line in f:\n",
    "   tokens = line.split(' ')\n",
    "   f_out.write('word count is '+str(len(tokens))+' for '+line)\n",
    "   print(tokens)\n",
    "   print(len(tokens))\n",
    "f.close()\n",
    "f_out.close()"
   ]
  },
  {
   "cell_type": "code",
   "execution_count": null,
   "metadata": {
    "id": "HXsuuLq3-htp"
   },
   "outputs": [],
   "source": []
  },
  {
   "cell_type": "markdown",
   "metadata": {
    "id": "YD5HmRXl-hpM"
   },
   "source": [
    "#### Exception Handling"
   ]
  },
  {
   "cell_type": "code",
   "execution_count": null,
   "metadata": {
    "id": "CWjtBjRd-hWH"
   },
   "outputs": [],
   "source": [
    "#exceptions/error chances to be taken care, bcz error will not run program further\n",
    "#instead use detour to make sure program run"
   ]
  },
  {
   "cell_type": "code",
   "execution_count": null,
   "metadata": {
    "colab": {
     "base_uri": "https://localhost:8080/"
    },
    "executionInfo": {
     "elapsed": 3645,
     "status": "ok",
     "timestamp": 1712920265263,
     "user": {
      "displayName": "Shubham Hadeeya",
      "userId": "09113901104055523562"
     },
     "user_tz": -330
    },
    "id": "pj0S0R3_-hRG",
    "outputId": "e3640ae2-758b-42d1-9d19-bf3a36c86ab3"
   },
   "outputs": [
    {
     "name": "stdout",
     "output_type": "stream",
     "text": [
      "enter number 1 :2\n",
      "enter number 2 :0\n",
      "Division by zero exception\n",
      "Division is :  None\n"
     ]
    }
   ],
   "source": [
    "x = input(\"enter number 1 :\")\n",
    "y = input(\"enter number 2 :\")\n",
    "\n",
    "try:\n",
    "  z = \"None\"\n",
    "  z = int(x)/int(y)\n",
    "except ZeroDivisionError as e:\n",
    "  print('Division by zero exception')\n",
    "\n",
    "\n",
    "print('Division is : ', z)\n",
    "\n",
    "\n",
    "#to find error name\n",
    "#   except errorname as e\n",
    "#     print(type(e))\n",
    "\n",
    "#then give that name to error name ex. zeroDivisionError\n",
    "\n",
    "#add more than one error with adding except conditions"
   ]
  },
  {
   "cell_type": "code",
   "execution_count": null,
   "metadata": {
    "colab": {
     "base_uri": "https://localhost:8080/"
    },
    "executionInfo": {
     "elapsed": 5733,
     "status": "ok",
     "timestamp": 1712920800916,
     "user": {
      "displayName": "Shubham Hadeeya",
      "userId": "09113901104055523562"
     },
     "user_tz": -330
    },
    "id": "iHjEgbZkBxQH",
    "outputId": "6a58652f-3dd4-4bb9-a204-6b55c233b7bf"
   },
   "outputs": [
    {
     "name": "stdout",
     "output_type": "stream",
     "text": [
      "enter number 1 :2\n",
      "enter number 2 :4\n",
      "Type error expression\n",
      "Division is :  None\n"
     ]
    }
   ],
   "source": [
    "x = input(\"enter number 1 :\")\n",
    "y = input(\"enter number 2 :\")\n",
    "\n",
    "try:\n",
    "  z = \"None\"\n",
    "  z = x/int(y)\n",
    "except ZeroDivisionError as e:\n",
    "  print('Division by zero exception')\n",
    "except TypeError as e:\n",
    "  print('Type error expression')\n",
    "\n",
    "print('Division is : ', z)"
   ]
  },
  {
   "cell_type": "code",
   "execution_count": 4,
   "metadata": {},
   "outputs": [
    {
     "name": "stdin",
     "output_type": "stream",
     "text": [
      "enter number 1 : int(2)\n",
      "enter number 2 : 4\n"
     ]
    },
    {
     "name": "stdout",
     "output_type": "stream",
     "text": [
      "Type error expression\n",
      "no matter waht it will print always\n",
      "Division is :  None\n"
     ]
    }
   ],
   "source": [
    "x = input(\"enter number 1 :\")\n",
    "y = input(\"enter number 2 :\")\n",
    "try:\n",
    "  z = \"None\"\n",
    "  z = x/int(y)\n",
    "except ZeroDivisionError as e:\n",
    "  print('Division by zero exception')\n",
    "except TypeError as e:\n",
    "  print('Type error expression')\n",
    "finally :\n",
    "    print('no matter waht it will print always')\n",
    "\n",
    "print('Division is : ', z)"
   ]
  },
  {
   "cell_type": "code",
   "execution_count": null,
   "metadata": {},
   "outputs": [],
   "source": []
  }
 ],
 "metadata": {
  "colab": {
   "authorship_tag": "ABX9TyPcQZvBjs9sue1ycn9wGD7J",
   "provenance": []
  },
  "kernelspec": {
   "display_name": "Python 3 (ipykernel)",
   "language": "python",
   "name": "python3"
  },
  "language_info": {
   "codemirror_mode": {
    "name": "ipython",
    "version": 3
   },
   "file_extension": ".py",
   "mimetype": "text/x-python",
   "name": "python",
   "nbconvert_exporter": "python",
   "pygments_lexer": "ipython3",
   "version": "3.11.7"
  }
 },
 "nbformat": 4,
 "nbformat_minor": 4
}
