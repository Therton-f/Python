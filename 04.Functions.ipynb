{
 "cells": [
  {
   "cell_type": "markdown",
   "id": "71941b73-638b-4fbb-bfb4-d5e762340782",
   "metadata": {
    "jp-MarkdownHeadingCollapsed": true
   },
   "source": [
    "### Basic"
   ]
  },
  {
   "cell_type": "code",
   "execution_count": 1,
   "id": "2a8fbc1e-cba9-4cdb-b3dc-12333316c136",
   "metadata": {},
   "outputs": [],
   "source": [
    "def first_fn():\n",
    "    print('we did it!')"
   ]
  },
  {
   "cell_type": "code",
   "execution_count": 2,
   "id": "eea9c0c7-5911-4b78-8f5f-fc774291b6f5",
   "metadata": {},
   "outputs": [
    {
     "name": "stdout",
     "output_type": "stream",
     "text": [
      "we did it!\n"
     ]
    }
   ],
   "source": [
    "first_fn()"
   ]
  },
  {
   "cell_type": "code",
   "execution_count": null,
   "id": "f9ff6cc0-c57b-43bd-a4c9-1e5b71614935",
   "metadata": {},
   "outputs": [],
   "source": []
  },
  {
   "cell_type": "code",
   "execution_count": 3,
   "id": "ca6a8fa1-6c12-4c1d-bc02-a3369721ca42",
   "metadata": {},
   "outputs": [],
   "source": [
    "# **2 means power of 2\n",
    "\n",
    "def number_squared(number):\n",
    "    print(number**2)\n",
    "    "
   ]
  },
  {
   "cell_type": "code",
   "execution_count": 4,
   "id": "bc743e34-f0e8-4aaa-8f2a-9dd969104447",
   "metadata": {},
   "outputs": [
    {
     "name": "stdout",
     "output_type": "stream",
     "text": [
      "25\n"
     ]
    }
   ],
   "source": [
    "number_squared(5)"
   ]
  },
  {
   "cell_type": "code",
   "execution_count": null,
   "id": "34010b7e-7d74-4907-b73d-2f432344433c",
   "metadata": {},
   "outputs": [],
   "source": []
  },
  {
   "cell_type": "code",
   "execution_count": 5,
   "id": "e45e5db6-cc3e-4ff0-9ae0-eb55a2a3cea9",
   "metadata": {},
   "outputs": [],
   "source": [
    "def number_squared_cust(number, power):\n",
    "    print(number**power)"
   ]
  },
  {
   "cell_type": "code",
   "execution_count": 6,
   "id": "ced33cd3-7dd7-44aa-91b8-58d9261072ea",
   "metadata": {},
   "outputs": [
    {
     "name": "stdout",
     "output_type": "stream",
     "text": [
      "125\n"
     ]
    }
   ],
   "source": [
    "number_squared_cust(5,3)"
   ]
  },
  {
   "cell_type": "code",
   "execution_count": 22,
   "id": "e28c1b90-e6d4-41fa-aea2-d2a1d0853aa2",
   "metadata": {},
   "outputs": [],
   "source": [
    "def number_squared_cust(number, power):\n",
    "    print(number**power)"
   ]
  },
  {
   "cell_type": "code",
   "execution_count": 23,
   "id": "eb8c00fc-cca7-4713-a2bf-157dd25d7362",
   "metadata": {},
   "outputs": [
    {
     "name": "stdout",
     "output_type": "stream",
     "text": [
      "243\n"
     ]
    }
   ],
   "source": [
    "number_squared_cust(power = 5,number = 3)"
   ]
  },
  {
   "cell_type": "code",
   "execution_count": null,
   "id": "b191d478-c708-4b93-8058-fe47dc71b952",
   "metadata": {},
   "outputs": [],
   "source": []
  },
  {
   "cell_type": "markdown",
   "id": "973576f3-8286-4c2e-b350-72f9bcd1a933",
   "metadata": {
    "jp-MarkdownHeadingCollapsed": true
   },
   "source": [
    "### for separation purpose\n",
    "#single * used for list/tuple, ** used for dict"
   ]
  },
  {
   "cell_type": "code",
   "execution_count": 8,
   "id": "049773fb-396a-4258-b9a8-0a431db1d250",
   "metadata": {},
   "outputs": [
    {
     "name": "stdout",
     "output_type": "stream",
     "text": [
      "1 2 3 4 555\n"
     ]
    }
   ],
   "source": [
    "x=[1,2,3,4,555]\n",
    "print(*x)\n",
    "#  *X will separate each element from the list"
   ]
  },
  {
   "cell_type": "code",
   "execution_count": 21,
   "id": "439a70df-4bd4-4dd7-a5bf-50412cbe1d55",
   "metadata": {},
   "outputs": [
    {
     "name": "stdout",
     "output_type": "stream",
     "text": [
      "(1, 2) (3, 4)\n",
      "(1, 2) (3, 4)\n",
      "1 2\n",
      "3 4\n"
     ]
    }
   ],
   "source": [
    "def func(x,y):\n",
    "    print(x,y)\n",
    "\n",
    "pairs = [(1,2),(3,4)]\n",
    " # this pair cant be used individually inside function, and function will not take entire list\n",
    "print(*pairs)\n",
    "\n",
    "func(*pairs)\n",
    "\n",
    "for element in pairs:\n",
    "    print(*element)"
   ]
  },
  {
   "cell_type": "code",
   "execution_count": 15,
   "id": "1391e36c-fde3-44c4-ac1b-4680481f7732",
   "metadata": {},
   "outputs": [
    {
     "name": "stdout",
     "output_type": "stream",
     "text": [
      "dict_items([('name', 'SKH'), ('age', '13')])\n",
      "('name', 'SKH') ('age', '13')\n",
      "name SKH\n",
      "age 13\n"
     ]
    }
   ],
   "source": [
    "dict = {'name':'SKH', 'age':'13'}\n",
    "dict\n",
    "print(dict.items())\n",
    "print(*dict.items())\n",
    "\n",
    "for element in dict.items():\n",
    "    print(*element)"
   ]
  },
  {
   "cell_type": "code",
   "execution_count": null,
   "id": "6df914bb-7b1d-4198-942b-92491b8c045c",
   "metadata": {},
   "outputs": [],
   "source": []
  },
  {
   "cell_type": "code",
   "execution_count": null,
   "id": "473b4231-ed01-4728-ad7c-f799ec777fec",
   "metadata": {},
   "outputs": [],
   "source": []
  },
  {
   "cell_type": "markdown",
   "id": "27d05891-ea87-4874-98af-f13f20ac584a",
   "metadata": {
    "jp-MarkdownHeadingCollapsed": true
   },
   "source": [
    "### for argument purpose * & ** used inside func defination"
   ]
  },
  {
   "cell_type": "code",
   "execution_count": 8,
   "id": "15278e2c-e1e6-40f9-ae1f-eb005cd6a396",
   "metadata": {},
   "outputs": [],
   "source": [
    "# *when we dont know the how many input arguments will be there\n",
    "def number_args(*number):\n",
    "    print(number[0]*number[1])\n",
    "    "
   ]
  },
  {
   "cell_type": "code",
   "execution_count": 9,
   "id": "4c6eae85-6f08-48f9-b630-a8d9d3f28bb1",
   "metadata": {},
   "outputs": [
    {
     "name": "stdout",
     "output_type": "stream",
     "text": [
      "30\n"
     ]
    }
   ],
   "source": [
    "number_args(5,6,1,2,8)"
   ]
  },
  {
   "cell_type": "code",
   "execution_count": 14,
   "id": "8d028603-a5ba-4e1b-9739-5bddb2c7a376",
   "metadata": {},
   "outputs": [
    {
     "name": "stdout",
     "output_type": "stream",
     "text": [
      "30\n"
     ]
    }
   ],
   "source": [
    "#can get arguments from tuples also\n",
    "# bur have to used * for calling tuples in fn\n",
    "#bcz * will unpack items as separate from tuple so that it can be individually used by function\n",
    "args_tuples = (5,6,1,2,8)\n",
    "number_args(*args_tuples)"
   ]
  },
  {
   "cell_type": "code",
   "execution_count": 1,
   "id": "9c0cb18c-d06c-4881-8b54-a191c493222e",
   "metadata": {},
   "outputs": [],
   "source": [
    "# ** when we dont know the how many key arguments we are going to input\n",
    "\n",
    "def number_kwarg(**number):\n",
    "    print('My number is: ' + number['integer'] + ' My other number: ' + number['integer2'])"
   ]
  },
  {
   "cell_type": "code",
   "execution_count": 2,
   "id": "8d5a8916-e997-4961-91aa-e6def861402e",
   "metadata": {},
   "outputs": [
    {
     "name": "stdout",
     "output_type": "stream",
     "text": [
      "My number is: 2309 My other number: 349\n"
     ]
    }
   ],
   "source": [
    "number_kwarg(integer = '2309', integer2 = '349')"
   ]
  },
  {
   "cell_type": "code",
   "execution_count": null,
   "id": "5aac70f6-804f-4219-9211-18319975b43e",
   "metadata": {},
   "outputs": [],
   "source": []
  },
  {
   "cell_type": "code",
   "execution_count": null,
   "id": "b35fb77c-2f6b-4ada-8002-2c45a356a701",
   "metadata": {},
   "outputs": [],
   "source": [
    "#with print it will only print output that cant be used\n",
    "#but with reutrn fn the output can be used"
   ]
  },
  {
   "cell_type": "code",
   "execution_count": 25,
   "id": "72d23937-62ec-4b1a-9f77-28947a5f6a74",
   "metadata": {},
   "outputs": [],
   "source": [
    "def func(x,y):\n",
    "    print('run', x,y)\n",
    "    return x*y, x/y"
   ]
  },
  {
   "cell_type": "code",
   "execution_count": 26,
   "id": "7b87747c-ae1f-42d7-9e69-9b3bb613b8d1",
   "metadata": {},
   "outputs": [
    {
     "name": "stdout",
     "output_type": "stream",
     "text": [
      "run 5 6\n"
     ]
    },
    {
     "data": {
      "text/plain": [
       "(30, 0.8333333333333334)"
      ]
     },
     "execution_count": 26,
     "metadata": {},
     "output_type": "execute_result"
    }
   ],
   "source": [
    "func(5,6)"
   ]
  },
  {
   "cell_type": "code",
   "execution_count": 27,
   "id": "24db85e4-e783-47f5-b588-1406eb45ef1e",
   "metadata": {},
   "outputs": [
    {
     "name": "stdout",
     "output_type": "stream",
     "text": [
      "run 5 6\n"
     ]
    }
   ],
   "source": [
    "#by this way we can assign output values\n",
    "r1, r2 = func(5,6)"
   ]
  },
  {
   "cell_type": "code",
   "execution_count": 7,
   "id": "826fb6d5-1fd0-4d64-acc0-6ff1de70ead4",
   "metadata": {},
   "outputs": [
    {
     "data": {
      "text/plain": [
       "(30, 0.8333333333333334)"
      ]
     },
     "execution_count": 7,
     "metadata": {},
     "output_type": "execute_result"
    }
   ],
   "source": [
    "r1, r2"
   ]
  },
  {
   "cell_type": "code",
   "execution_count": null,
   "id": "14f0457e-5d5f-4e69-b131-e333de0d2553",
   "metadata": {},
   "outputs": [],
   "source": []
  },
  {
   "cell_type": "markdown",
   "id": "307c0177-a03a-4853-967d-7eec02c71c97",
   "metadata": {
    "jp-MarkdownHeadingCollapsed": true
   },
   "source": [
    "### Scope & Global"
   ]
  },
  {
   "cell_type": "code",
   "execution_count": 10,
   "id": "352ec184-f305-4f44-a4a3-7936bac805a9",
   "metadata": {},
   "outputs": [
    {
     "name": "stdout",
     "output_type": "stream",
     "text": [
      "tim\n",
      "tim\n"
     ]
    }
   ],
   "source": [
    "x = 'tim'\n",
    "\n",
    "def func(name):\n",
    "    x = name\n",
    "\n",
    "print(x)\n",
    "func('changed')\n",
    "print(x)\n",
    "# x is local variable inside func, so it cant change x value set to tim outside"
   ]
  },
  {
   "cell_type": "code",
   "execution_count": 13,
   "id": "f3b31b53-75eb-4366-8ba1-b27cbd704dda",
   "metadata": {},
   "outputs": [
    {
     "name": "stdout",
     "output_type": "stream",
     "text": [
      "tim\n",
      "changed\n"
     ]
    }
   ],
   "source": [
    "x = 'tim'\n",
    "\n",
    "def func(name):\n",
    "    global x\n",
    "    x = name\n",
    "\n",
    "print(x)\n",
    "func('changed')\n",
    "print(x)"
   ]
  },
  {
   "cell_type": "code",
   "execution_count": null,
   "id": "bb9bd3cb-5afa-4c54-b87b-8aa1f06854ec",
   "metadata": {},
   "outputs": [],
   "source": []
  },
  {
   "cell_type": "markdown",
   "id": "d53df374-3486-4a91-845b-5d1a74f430ea",
   "metadata": {},
   "source": [
    "### Lambda fn w/ map and filter"
   ]
  },
  {
   "cell_type": "code",
   "execution_count": 28,
   "id": "85313f2a-3c33-4bec-988d-005244b29580",
   "metadata": {},
   "outputs": [
    {
     "name": "stdout",
     "output_type": "stream",
     "text": [
      "[3, 4, 5, 47, 89, 71, 27, 17, 25, 46, 130, 866, 270]\n"
     ]
    }
   ],
   "source": [
    "x = [1,2,3,45,87,69,25,15,23,44,128,864,268]\n",
    "\n",
    "mp = map(lambda i : i+2, x)\n",
    "\n",
    "print(list(mp))"
   ]
  },
  {
   "cell_type": "code",
   "execution_count": 16,
   "id": "b0b85ff4-28b5-447c-b2bb-156ffac21c1a",
   "metadata": {},
   "outputs": [
    {
     "name": "stdout",
     "output_type": "stream",
     "text": [
      "[2, 44, 128, 864, 268]\n"
     ]
    }
   ],
   "source": [
    "#filter out only those values that satisfy conditions\n",
    "mp = filter(lambda i : i%2 == 0 , x)\n",
    "print(list(mp))"
   ]
  },
  {
   "cell_type": "code",
   "execution_count": null,
   "id": "5e9952e6-1cde-4e99-bd66-59b9dc6b907f",
   "metadata": {},
   "outputs": [],
   "source": []
  },
  {
   "cell_type": "markdown",
   "id": "05614c7a-047b-44a0-83a5-d512d482143f",
   "metadata": {},
   "source": [
    "### F string"
   ]
  },
  {
   "cell_type": "code",
   "execution_count": 18,
   "id": "22b8b461-e8e6-4e7a-9245-21609cee7059",
   "metadata": {},
   "outputs": [
    {
     "data": {
      "text/plain": [
       "'hello 16 11'"
      ]
     },
     "execution_count": 18,
     "metadata": {},
     "output_type": "execute_result"
    }
   ],
   "source": [
    "#it 1st evaluate within {} then print it as string\n",
    "x = f'hello {7+9} {8+3}'\n",
    "x"
   ]
  },
  {
   "cell_type": "code",
   "execution_count": null,
   "id": "9c9e592f-94fb-40b5-9412-4eff681fa520",
   "metadata": {},
   "outputs": [],
   "source": []
  },
  {
   "cell_type": "code",
   "execution_count": null,
   "id": "cc3d77db-b9f9-4c2f-a05a-2d279023b3ae",
   "metadata": {},
   "outputs": [],
   "source": []
  }
 ],
 "metadata": {
  "kernelspec": {
   "display_name": "Python 3 (ipykernel)",
   "language": "python",
   "name": "python3"
  },
  "language_info": {
   "codemirror_mode": {
    "name": "ipython",
    "version": 3
   },
   "file_extension": ".py",
   "mimetype": "text/x-python",
   "name": "python",
   "nbconvert_exporter": "python",
   "pygments_lexer": "ipython3",
   "version": "3.11.7"
  }
 },
 "nbformat": 4,
 "nbformat_minor": 5
}
