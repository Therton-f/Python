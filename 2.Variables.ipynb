{
 "cells": [
  {
   "cell_type": "code",
   "execution_count": 1,
   "id": "ceaa0398-d867-49ee-9378-e03681c10a98",
   "metadata": {},
   "outputs": [
    {
     "name": "stdout",
     "output_type": "stream",
     "text": [
      "Hellow world\n"
     ]
    }
   ],
   "source": [
    "print(\"Hellow world\")"
   ]
  },
  {
   "cell_type": "code",
   "execution_count": 2,
   "id": "84432df6-faa6-4d5f-9bab-ec35132192c7",
   "metadata": {},
   "outputs": [
    {
     "name": "stdout",
     "output_type": "stream",
     "text": [
      "13\n"
     ]
    }
   ],
   "source": [
    "# demonstration of arithmetic operators in python\n",
    "print(10+3)"
   ]
  },
  {
   "cell_type": "code",
   "execution_count": 3,
   "id": "02e8e6e7-34a5-4ef1-950a-399ba6695a22",
   "metadata": {},
   "outputs": [
    {
     "name": "stdout",
     "output_type": "stream",
     "text": [
      "1\n"
     ]
    }
   ],
   "source": [
    "# %- odulo which gives remainder while dividing\n",
    "\n",
    "print(5 % 2)"
   ]
  },
  {
   "cell_type": "code",
   "execution_count": 5,
   "id": "920b8b0a-c0cc-484a-a282-7a017726275e",
   "metadata": {},
   "outputs": [
    {
     "name": "stdout",
     "output_type": "stream",
     "text": [
      "True\n",
      "True\n"
     ]
    }
   ],
   "source": [
    "# demonstration of comparison operators\n",
    "# >, <, <=, >= , ==, !=(not equal to)\n",
    "\n",
    "print(3 == 3)\n",
    "print(2 != 3)"
   ]
  },
  {
   "cell_type": "code",
   "execution_count": 9,
   "id": "e7cdb83c-3a39-487b-918f-3212445cdf13",
   "metadata": {},
   "outputs": [
    {
     "data": {
      "text/plain": [
       "False"
      ]
     },
     "execution_count": 9,
     "metadata": {},
     "output_type": "execute_result"
    }
   ],
   "source": [
    "# logical operators\n",
    "# and or\n",
    "\n",
    "(3 < 2) and (5 < 10)\n"
   ]
  },
  {
   "cell_type": "code",
   "execution_count": 10,
   "id": "323fbf7a-ac50-43f8-ac74-9746d06177f4",
   "metadata": {},
   "outputs": [
    {
     "data": {
      "text/plain": [
       "True"
      ]
     },
     "execution_count": 10,
     "metadata": {},
     "output_type": "execute_result"
    }
   ],
   "source": [
    "(3 < 2) or (5 < 10)"
   ]
  },
  {
   "cell_type": "code",
   "execution_count": 12,
   "id": "236f7d11-556b-446b-b0b5-91c663f5365a",
   "metadata": {},
   "outputs": [
    {
     "data": {
      "text/plain": [
       "False"
      ]
     },
     "execution_count": 12,
     "metadata": {},
     "output_type": "execute_result"
    }
   ],
   "source": [
    "#not changes values to opposites\n",
    "not (3 > 2)"
   ]
  },
  {
   "cell_type": "code",
   "execution_count": null,
   "id": "c59eee94-ac03-4bb8-b0ef-9b5c12b71b70",
   "metadata": {},
   "outputs": [],
   "source": [
    "# if you assign new value to existing variable it will be updated and on printing latest value appear"
   ]
  },
  {
   "cell_type": "code",
   "execution_count": 3,
   "id": "42b65ac5-e13d-4d0b-8e3d-3645488aea6f",
   "metadata": {},
   "outputs": [
    {
     "name": "stdout",
     "output_type": "stream",
     "text": [
      "chocolate\n",
      "vanilla\n",
      "rocky road\n"
     ]
    }
   ],
   "source": [
    "#multiple variable value assigning\n",
    "x,y,z = 'chocolate', 'vanilla', 'rocky road'\n",
    "\n",
    "print(x)\n",
    "print(y)\n",
    "print(z)"
   ]
  },
  {
   "cell_type": "code",
   "execution_count": 4,
   "id": "272a5984-0114-43a3-a9cd-20de91c89825",
   "metadata": {},
   "outputs": [
    {
     "name": "stdout",
     "output_type": "stream",
     "text": [
      "root beer float\n",
      "root beer float\n",
      "root beer float\n"
     ]
    }
   ],
   "source": [
    "#assign same value to multiple variable\n",
    "x = y = z = 'root beer float'\n",
    "print(x)\n",
    "print(y)\n",
    "print(z)"
   ]
  },
  {
   "cell_type": "code",
   "execution_count": 6,
   "id": "757d96de-3adb-4998-b6b0-5fcc7c1d2e6d",
   "metadata": {},
   "outputs": [
    {
     "name": "stdout",
     "output_type": "stream",
     "text": [
      "chocolate\n",
      "vanilla\n",
      "rocky road\n"
     ]
    }
   ],
   "source": [
    "#extracting values out of list and assigning to variable\n",
    "ice_cream = ['chocolate', 'vanilla', 'rocky road']\n",
    "\n",
    "x,y,z = ice_cream\n",
    "\n",
    "print(x)\n",
    "print(y)\n",
    "print(z)"
   ]
  },
  {
   "cell_type": "code",
   "execution_count": null,
   "id": "b9b005e3-0e06-455a-a45e-62416f0e2a13",
   "metadata": {},
   "outputs": [],
   "source": []
  },
  {
   "cell_type": "code",
   "execution_count": null,
   "id": "7ee2a567-3f9f-41a9-8a9b-020f1ba7a8fb",
   "metadata": {},
   "outputs": [],
   "source": [
    "#camel case\n",
    "#Test Variable case\n",
    "testVariableCase = 'Vanilla swirl'"
   ]
  },
  {
   "cell_type": "code",
   "execution_count": null,
   "id": "8cd789d8-39f5-4727-ae54-294dcf6efc5b",
   "metadata": {},
   "outputs": [],
   "source": [
    "#Pascal case\n",
    "#Test Variable case\n",
    "TestVariableCase = 'Vanilla swirl'"
   ]
  },
  {
   "cell_type": "code",
   "execution_count": null,
   "id": "cc043649-1e4b-4e71-9f4c-a084e2ed0d40",
   "metadata": {},
   "outputs": [],
   "source": [
    "#snake case\n",
    "#Test Variable case\n",
    "test_variable_case = 'Vanilla swirl'"
   ]
  },
  {
   "cell_type": "code",
   "execution_count": null,
   "id": "03a154f1-0b85-4998-a2f4-73de0d280adc",
   "metadata": {},
   "outputs": [],
   "source": []
  },
  {
   "cell_type": "code",
   "execution_count": null,
   "id": "a3d4d1b0-9064-496c-afdd-b21f7f6c3006",
   "metadata": {},
   "outputs": [],
   "source": [
    "#allowed variable naming\n",
    "testvar='Vanilla'\n",
    "test_var='Vanilla'\n",
    "_test_var='Vanilla'\n",
    "Testvar='Vanilla'\n",
    "testvar2='Vanilla'"
   ]
  },
  {
   "cell_type": "code",
   "execution_count": null,
   "id": "5a215c2f-94e6-432d-a0ed-87d4447d99df",
   "metadata": {},
   "outputs": [],
   "source": [
    "#not allowed variable naming\n",
    "2testvar='Vanilla'\n",
    "test var='Vanilla'\n",
    "test-var='Vanilla'\n",
    "test,var='Vanilla'"
   ]
  },
  {
   "cell_type": "code",
   "execution_count": null,
   "id": "4032b9f5-d558-45a5-84d2-6c798e337fb2",
   "metadata": {},
   "outputs": [],
   "source": []
  },
  {
   "cell_type": "code",
   "execution_count": 7,
   "id": "0ef595d7-775f-4660-af78-68f626720044",
   "metadata": {},
   "outputs": [
    {
     "name": "stdout",
     "output_type": "stream",
     "text": [
      "Icecream is my fav.\n"
     ]
    }
   ],
   "source": [
    "x = 'Icecream is my fav' + '.'\n",
    "print(x)"
   ]
  },
  {
   "cell_type": "code",
   "execution_count": 9,
   "id": "69028bff-f37a-45c2-90fd-9e66bac58c2f",
   "metadata": {},
   "outputs": [
    {
     "ename": "TypeError",
     "evalue": "can only concatenate str (not \"int\") to str",
     "output_type": "error",
     "traceback": [
      "\u001b[1;31m---------------------------------------------------------------------------\u001b[0m",
      "\u001b[1;31mTypeError\u001b[0m                                 Traceback (most recent call last)",
      "Cell \u001b[1;32mIn[9], line 2\u001b[0m\n\u001b[0;32m      1\u001b[0m \u001b[38;5;66;03m#we can add str and str, int and int, but not str and number\u001b[39;00m\n\u001b[1;32m----> 2\u001b[0m x \u001b[38;5;241m=\u001b[39m \u001b[38;5;124m'\u001b[39m\u001b[38;5;124mIcecream is my fav\u001b[39m\u001b[38;5;124m'\u001b[39m \u001b[38;5;241m+\u001b[39m \u001b[38;5;241m2\u001b[39m\n\u001b[0;32m      3\u001b[0m \u001b[38;5;28mprint\u001b[39m(x)\n",
      "\u001b[1;31mTypeError\u001b[0m: can only concatenate str (not \"int\") to str"
     ]
    }
   ],
   "source": [
    "#we can add str and str, int and int, but not str and number\n",
    "x = 'Icecream is my fav' + 2\n",
    "print(x)"
   ]
  },
  {
   "cell_type": "code",
   "execution_count": null,
   "id": "e51e3848-2778-4685-947f-68edc98b1ed3",
   "metadata": {},
   "outputs": [],
   "source": []
  },
  {
   "cell_type": "code",
   "execution_count": 10,
   "id": "7623abcc-3f88-4fa6-8613-73276cdebe46",
   "metadata": {},
   "outputs": [
    {
     "name": "stdout",
     "output_type": "stream",
     "text": [
      "Ice Cream is my fav.\n"
     ]
    }
   ],
   "source": [
    "x= 'Ice Cream'\n",
    "y= ' is'\n",
    "z= ' my fav.'\n",
    "print(x+y+z)"
   ]
  },
  {
   "cell_type": "code",
   "execution_count": 11,
   "id": "5a46dac5-b893-49e3-a2b7-5f4571b30356",
   "metadata": {},
   "outputs": [
    {
     "ename": "TypeError",
     "evalue": "can only concatenate str (not \"int\") to str",
     "output_type": "error",
     "traceback": [
      "\u001b[1;31m---------------------------------------------------------------------------\u001b[0m",
      "\u001b[1;31mTypeError\u001b[0m                                 Traceback (most recent call last)",
      "Cell \u001b[1;32mIn[11], line 3\u001b[0m\n\u001b[0;32m      1\u001b[0m x \u001b[38;5;241m=\u001b[39m \u001b[38;5;124m'\u001b[39m\u001b[38;5;124mice\u001b[39m\u001b[38;5;124m'\u001b[39m\n\u001b[0;32m      2\u001b[0m y \u001b[38;5;241m=\u001b[39m \u001b[38;5;241m2\u001b[39m\n\u001b[1;32m----> 3\u001b[0m \u001b[38;5;28mprint\u001b[39m(x\u001b[38;5;241m+\u001b[39my)\n",
      "\u001b[1;31mTypeError\u001b[0m: can only concatenate str (not \"int\") to str"
     ]
    }
   ],
   "source": [
    "x = 'ice'\n",
    "y = 2\n",
    "print(x+y)"
   ]
  },
  {
   "cell_type": "code",
   "execution_count": 12,
   "id": "c2f8f0dc-4d1e-41a6-a9f9-d149ad0f892d",
   "metadata": {},
   "outputs": [
    {
     "name": "stdout",
     "output_type": "stream",
     "text": [
      "ice 2\n"
     ]
    }
   ],
   "source": [
    "x = 'ice'\n",
    "y = 2\n",
    "print(x,y)"
   ]
  },
  {
   "cell_type": "code",
   "execution_count": null,
   "id": "a3779baa-e612-4f59-af09-932d7dc7ef10",
   "metadata": {},
   "outputs": [],
   "source": []
  },
  {
   "cell_type": "code",
   "execution_count": null,
   "id": "6f799230-1a84-4fd4-8954-dc6ca5e2bed7",
   "metadata": {},
   "outputs": [],
   "source": []
  },
  {
   "cell_type": "code",
   "execution_count": null,
   "id": "023b5649-12cb-4db3-97ca-7f0aadc0bb7c",
   "metadata": {},
   "outputs": [],
   "source": []
  },
  {
   "cell_type": "code",
   "execution_count": null,
   "id": "32153a72-a0b3-44de-bc81-d2c915b716c7",
   "metadata": {},
   "outputs": [],
   "source": []
  },
  {
   "cell_type": "code",
   "execution_count": null,
   "id": "48481ee3-0709-43f4-81ec-79d203546df2",
   "metadata": {},
   "outputs": [],
   "source": []
  },
  {
   "cell_type": "code",
   "execution_count": null,
   "id": "9d11fa74-b49c-4ad3-96d7-965f9241b553",
   "metadata": {},
   "outputs": [],
   "source": []
  }
 ],
 "metadata": {
  "kernelspec": {
   "display_name": "Python 3 (ipykernel)",
   "language": "python",
   "name": "python3"
  },
  "language_info": {
   "codemirror_mode": {
    "name": "ipython",
    "version": 3
   },
   "file_extension": ".py",
   "mimetype": "text/x-python",
   "name": "python",
   "nbconvert_exporter": "python",
   "pygments_lexer": "ipython3",
   "version": "3.11.7"
  }
 },
 "nbformat": 4,
 "nbformat_minor": 5
}
