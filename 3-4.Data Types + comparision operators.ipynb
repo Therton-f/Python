{
 "cells": [
  {
   "cell_type": "code",
   "execution_count": 1,
   "id": "b9b0804a-f554-4316-9fe5-f705ccdc71d8",
   "metadata": {},
   "outputs": [
    {
     "data": {
      "text/plain": [
       "int"
      ]
     },
     "execution_count": 1,
     "metadata": {},
     "output_type": "execute_result"
    }
   ],
   "source": [
    "type(-12 + 100)"
   ]
  },
  {
   "cell_type": "code",
   "execution_count": 2,
   "id": "5eec5f2b-1f3c-4adc-b8b7-583ae351e235",
   "metadata": {},
   "outputs": [
    {
     "data": {
      "text/plain": [
       "complex"
      ]
     },
     "execution_count": 2,
     "metadata": {},
     "output_type": "execute_result"
    }
   ],
   "source": [
    "#cpmplex values use j only other alphabet will give error\n",
    "type(12 + 3j)"
   ]
  },
  {
   "cell_type": "code",
   "execution_count": null,
   "id": "4694c4cc-de60-49d2-af41-17bfc9fb3d36",
   "metadata": {},
   "outputs": [],
   "source": []
  },
  {
   "cell_type": "code",
   "execution_count": 5,
   "id": "9d73f316-2ca8-4a99-90d9-e3fbdcbd904b",
   "metadata": {},
   "outputs": [],
   "source": [
    "multiline = \"\"\"\n",
    "the ice cream vanquished\n",
    "my longing for sweets,\n",
    "upon this diet i look away\n",
    "it no longer exists\n",
    "\"\"\""
   ]
  },
  {
   "cell_type": "code",
   "execution_count": 6,
   "id": "3246da9e-69a8-42d4-8c1c-3516bb0975b3",
   "metadata": {},
   "outputs": [
    {
     "name": "stdout",
     "output_type": "stream",
     "text": [
      "\n",
      "the ice cream vanquished\n",
      "my longing for sweets,\n",
      "upon this diet i look away\n",
      "it no longer exists\n",
      "\n"
     ]
    }
   ],
   "source": [
    "print(multiline)"
   ]
  },
  {
   "cell_type": "code",
   "execution_count": 7,
   "id": "91673d40-3155-4d27-8b7c-9c3509c40813",
   "metadata": {},
   "outputs": [
    {
     "data": {
      "text/plain": [
       "' ice cream is \"good\" . '"
      ]
     },
     "execution_count": 7,
     "metadata": {},
     "output_type": "execute_result"
    }
   ],
   "source": [
    "#  \" will priorotise above '.....\n",
    "#if we want to use ' in sentence then for that string use \", any thing between \"\" will be print inc. '\n",
    "#if we want to use \" in sentence then for that string use \"\"\", any thing between \"\"\" \"\"\" will be print inc. \"\n",
    "\n",
    "\"\"\" ice cream is \"good\" . \"\"\""
   ]
  },
  {
   "cell_type": "code",
   "execution_count": null,
   "id": "74ca1767-a21c-4d28-bf06-5c5bcd4cf2d1",
   "metadata": {},
   "outputs": [],
   "source": []
  },
  {
   "cell_type": "code",
   "execution_count": 2,
   "id": "db06f5c9-b1f9-4bfe-8b84-6bcef3ba3b36",
   "metadata": {},
   "outputs": [],
   "source": [
    "a = 'Hello World!'"
   ]
  },
  {
   "cell_type": "code",
   "execution_count": 3,
   "id": "95b7d75b-1591-4e10-8cd0-3aaa522037ff",
   "metadata": {},
   "outputs": [
    {
     "name": "stdout",
     "output_type": "stream",
     "text": [
      "Hello\n",
      "llo\n",
      " \n",
      "W\n",
      "l\n"
     ]
    }
   ],
   "source": [
    "#printing from index 0 to index 4\n",
    "print(a[:5])\n",
    "#printing from index 2 to index 4\n",
    "print(a[2:5])\n",
    "#printing specific index position letter\n",
    "print(a[5])\n",
    "print(a[6])\n",
    "\n",
    "#printing from backword\n",
    "print(a[-3])"
   ]
  },
  {
   "cell_type": "code",
   "execution_count": 12,
   "id": "0553ee60-9dc0-4bc5-bc9a-363da0def642",
   "metadata": {},
   "outputs": [
    {
     "data": {
      "text/plain": [
       "'Hello World!Hello World!Hello World!'"
      ]
     },
     "execution_count": 12,
     "metadata": {},
     "output_type": "execute_result"
    }
   ],
   "source": [
    "a*3"
   ]
  },
  {
   "cell_type": "code",
   "execution_count": 13,
   "id": "7595a270-47d8-4d64-952b-363c4f9067e1",
   "metadata": {},
   "outputs": [
    {
     "data": {
      "text/plain": [
       "'Hello World!Hello World!'"
      ]
     },
     "execution_count": 13,
     "metadata": {},
     "output_type": "execute_result"
    }
   ],
   "source": [
    "a+a"
   ]
  },
  {
   "cell_type": "code",
   "execution_count": null,
   "id": "15351ff3-d7f8-45ff-8f36-985f1390de51",
   "metadata": {},
   "outputs": [],
   "source": []
  },
  {
   "cell_type": "code",
   "execution_count": null,
   "id": "f9cb9ac5-6645-4642-80fb-ef873ea2b16a",
   "metadata": {},
   "outputs": [],
   "source": []
  },
  {
   "cell_type": "code",
   "execution_count": null,
   "id": "23f30617-0b38-4015-ade8-be2d9d7bfe4c",
   "metadata": {},
   "outputs": [],
   "source": []
  },
  {
   "cell_type": "code",
   "execution_count": null,
   "id": "715c9820-930e-4f34-8c7c-a6789e169ac1",
   "metadata": {},
   "outputs": [],
   "source": []
  },
  {
   "cell_type": "code",
   "execution_count": 14,
   "id": "4f8ea339-ea2a-4cdf-85b1-674a414a4a98",
   "metadata": {},
   "outputs": [],
   "source": [
    "#list or #tuple\n",
    "\n",
    "nest_list = ['vanilla' , 3, ['scoops', 'spoon'], True]"
   ]
  },
  {
   "cell_type": "code",
   "execution_count": 17,
   "id": "b65199d9-f579-49c8-8a79-ec7097f08d46",
   "metadata": {},
   "outputs": [
    {
     "data": {
      "text/plain": [
       "['scoops', 'spoon']"
      ]
     },
     "execution_count": 17,
     "metadata": {},
     "output_type": "execute_result"
    }
   ],
   "source": [
    "nest_list[2]\n"
   ]
  },
  {
   "cell_type": "code",
   "execution_count": 18,
   "id": "d47d6bb3-d705-4223-a67c-8ab3bd086650",
   "metadata": {},
   "outputs": [
    {
     "data": {
      "text/plain": [
       "'spoon'"
      ]
     },
     "execution_count": 18,
     "metadata": {},
     "output_type": "execute_result"
    }
   ],
   "source": [
    "nest_list[2][1]"
   ]
  },
  {
   "cell_type": "code",
   "execution_count": null,
   "id": "1a9ba666-4b76-4a71-8262-583b56416d37",
   "metadata": {},
   "outputs": [],
   "source": []
  },
  {
   "cell_type": "code",
   "execution_count": null,
   "id": "66eb22c4-9be1-4e77-816c-2cd7b79943c4",
   "metadata": {},
   "outputs": [],
   "source": []
  },
  {
   "cell_type": "code",
   "execution_count": null,
   "id": "96c703fb-a275-4c49-adf3-5807ec98d6fe",
   "metadata": {},
   "outputs": [],
   "source": []
  },
  {
   "cell_type": "code",
   "execution_count": null,
   "id": "faace4cc-d228-4b4c-bff8-b5317df9439f",
   "metadata": {},
   "outputs": [],
   "source": []
  },
  {
   "cell_type": "code",
   "execution_count": 19,
   "id": "31eff3dc-0fbe-4e3d-b0b0-b874b4adcbef",
   "metadata": {},
   "outputs": [],
   "source": [
    "#set\n",
    "# cant have duplicate values and not ordered\n",
    "#on printing set only unique values will be returned\n",
    "\n",
    "daily_pints = {1,2,3}"
   ]
  },
  {
   "cell_type": "code",
   "execution_count": 20,
   "id": "5cca1e9c-569d-4c66-a53d-e1a48653a21e",
   "metadata": {},
   "outputs": [
    {
     "data": {
      "text/plain": [
       "set"
      ]
     },
     "execution_count": 20,
     "metadata": {},
     "output_type": "execute_result"
    }
   ],
   "source": [
    "type(daily_pints)"
   ]
  },
  {
   "cell_type": "code",
   "execution_count": 21,
   "id": "254c4306-bf28-4db5-b64f-fe44bceb48a2",
   "metadata": {},
   "outputs": [
    {
     "name": "stdout",
     "output_type": "stream",
     "text": [
      "{1, 2, 3, 4, 5, 6, 31}\n"
     ]
    }
   ],
   "source": [
    "daily_pints_log = {1,2,31,4,2,3,5,6,3}\n",
    "print(daily_pints_log)"
   ]
  },
  {
   "cell_type": "code",
   "execution_count": 22,
   "id": "e2fd8e50-2194-4369-943c-e4442bda2380",
   "metadata": {},
   "outputs": [],
   "source": [
    "wifes_daily_pints_log = {1,3,5,7,3,24,5,7,3,2,0}"
   ]
  },
  {
   "cell_type": "code",
   "execution_count": 23,
   "id": "ddb55720-0696-4769-92fc-6bf416e20dc7",
   "metadata": {},
   "outputs": [
    {
     "name": "stdout",
     "output_type": "stream",
     "text": [
      "{0, 1, 2, 3, 4, 5, 6, 7, 24, 31}\n"
     ]
    }
   ],
   "source": [
    "#cobine unique values from either sets\n",
    "\n",
    "print(daily_pints_log |wifes_daily_pints_log )"
   ]
  },
  {
   "cell_type": "code",
   "execution_count": 25,
   "id": "5db4b7d6-b8e2-4c24-87d0-f5f03811b0c8",
   "metadata": {},
   "outputs": [
    {
     "name": "stdout",
     "output_type": "stream",
     "text": [
      "{1, 2, 3, 5}\n"
     ]
    }
   ],
   "source": [
    "#cobine unique values from 2 sets\n",
    "\n",
    "print(daily_pints_log & wifes_daily_pints_log )"
   ]
  },
  {
   "cell_type": "code",
   "execution_count": 26,
   "id": "bb77949a-f5cd-490f-94d1-df34c2d344bd",
   "metadata": {},
   "outputs": [
    {
     "name": "stdout",
     "output_type": "stream",
     "text": [
      "{4, 6, 31}\n"
     ]
    }
   ],
   "source": [
    "#values that are in daily pints but not in wifes daily pints i.e. non-commmon values from daily_pints_log\n",
    "\n",
    "print(daily_pints_log - wifes_daily_pints_log )"
   ]
  },
  {
   "cell_type": "code",
   "execution_count": 27,
   "id": "8350fdcb-77e6-43f8-8f62-dd894a6f2821",
   "metadata": {},
   "outputs": [
    {
     "name": "stdout",
     "output_type": "stream",
     "text": [
      "{0, 24, 7}\n"
     ]
    }
   ],
   "source": [
    "#values that are in daily pints but not in wifes daily pints i.e. non-commmon values from wifes_daily_pints_log\n",
    "\n",
    "\n",
    "print( wifes_daily_pints_log - daily_pints_log )"
   ]
  },
  {
   "cell_type": "code",
   "execution_count": 28,
   "id": "e92b31a3-b3c3-4b68-a505-72b746445398",
   "metadata": {},
   "outputs": [
    {
     "name": "stdout",
     "output_type": "stream",
     "text": [
      "{0, 4, 6, 7, 24, 31}\n"
     ]
    }
   ],
   "source": [
    "#printing all values that are not coomon from both sets\n",
    "\n",
    "print( wifes_daily_pints_log ^ daily_pints_log )"
   ]
  },
  {
   "cell_type": "code",
   "execution_count": null,
   "id": "c4f1af8b-52a1-41fa-a30a-5ec05b32d6b8",
   "metadata": {},
   "outputs": [],
   "source": []
  },
  {
   "cell_type": "code",
   "execution_count": null,
   "id": "f02153e0-e00c-4553-b7e7-c5f753d139f6",
   "metadata": {},
   "outputs": [],
   "source": []
  },
  {
   "cell_type": "code",
   "execution_count": null,
   "id": "5dff1e2d-0016-464a-a459-9577d2e28b4d",
   "metadata": {},
   "outputs": [],
   "source": []
  },
  {
   "cell_type": "code",
   "execution_count": null,
   "id": "34d596a0-b06c-4579-abf7-dbccb26f6cd3",
   "metadata": {},
   "outputs": [],
   "source": []
  },
  {
   "cell_type": "code",
   "execution_count": null,
   "id": "543a6b11-e341-4544-80c4-2b23c6b15a02",
   "metadata": {},
   "outputs": [],
   "source": []
  },
  {
   "cell_type": "code",
   "execution_count": 31,
   "id": "aa540f1d-eaa9-4153-af71-a6ab4b96a198",
   "metadata": {},
   "outputs": [],
   "source": [
    "#dictionaries -  can be updated\n",
    "#key/value pair\n",
    "\n",
    "\n",
    "dict_cream = {'name': 'Alex freberg', 'Weekly intake': 5, 'favourite ice creams': ['MCC','Chocolate']}"
   ]
  },
  {
   "cell_type": "code",
   "execution_count": 32,
   "id": "441c2844-133b-496c-a584-c6fb25b5d77f",
   "metadata": {},
   "outputs": [
    {
     "data": {
      "text/plain": [
       "dict"
      ]
     },
     "execution_count": 32,
     "metadata": {},
     "output_type": "execute_result"
    }
   ],
   "source": [
    "type(dict_cream)"
   ]
  },
  {
   "cell_type": "code",
   "execution_count": 33,
   "id": "3170e02d-40f3-4de1-8892-68f7f5ff96eb",
   "metadata": {},
   "outputs": [
    {
     "data": {
      "text/plain": [
       "dict_values(['Alex freberg', 5, ['MCC', 'Chocolate']])"
      ]
     },
     "execution_count": 33,
     "metadata": {},
     "output_type": "execute_result"
    }
   ],
   "source": [
    "dict_cream.values()"
   ]
  },
  {
   "cell_type": "code",
   "execution_count": 34,
   "id": "c43ccc38-7030-4e51-8dfe-c47b51a6ce44",
   "metadata": {},
   "outputs": [
    {
     "data": {
      "text/plain": [
       "dict_keys(['name', 'Weekly intake', 'favourite ice creams'])"
      ]
     },
     "execution_count": 34,
     "metadata": {},
     "output_type": "execute_result"
    }
   ],
   "source": [
    "dict_cream.keys()"
   ]
  },
  {
   "cell_type": "code",
   "execution_count": 35,
   "id": "625b8ee4-5bc6-4d2a-b3e5-ba92d9d86fba",
   "metadata": {},
   "outputs": [
    {
     "data": {
      "text/plain": [
       "dict_items([('name', 'Alex freberg'), ('Weekly intake', 5), ('favourite ice creams', ['MCC', 'Chocolate'])])"
      ]
     },
     "execution_count": 35,
     "metadata": {},
     "output_type": "execute_result"
    }
   ],
   "source": [
    "dict_cream.items()"
   ]
  },
  {
   "cell_type": "code",
   "execution_count": 36,
   "id": "6294c202-0f84-47e2-abd4-0c642c709b1a",
   "metadata": {},
   "outputs": [
    {
     "ename": "KeyError",
     "evalue": "0",
     "output_type": "error",
     "traceback": [
      "\u001b[1;31m---------------------------------------------------------------------------\u001b[0m",
      "\u001b[1;31mKeyError\u001b[0m                                  Traceback (most recent call last)",
      "Cell \u001b[1;32mIn[36], line 2\u001b[0m\n\u001b[0;32m      1\u001b[0m \u001b[38;5;66;03m#in dictionaries index type system not work\u001b[39;00m\n\u001b[1;32m----> 2\u001b[0m dict_cream[\u001b[38;5;241m0\u001b[39m]\n",
      "\u001b[1;31mKeyError\u001b[0m: 0"
     ]
    }
   ],
   "source": [
    "#in dictionaries index type system not work\n",
    "dict_cream[0]"
   ]
  },
  {
   "cell_type": "code",
   "execution_count": 37,
   "id": "ad4c710a-1502-4c4a-a5ef-0baad3bef802",
   "metadata": {},
   "outputs": [
    {
     "data": {
      "text/plain": [
       "'Alex freberg'"
      ]
     },
     "execution_count": 37,
     "metadata": {},
     "output_type": "execute_result"
    }
   ],
   "source": [
    "dict_cream['name']"
   ]
  },
  {
   "cell_type": "code",
   "execution_count": 39,
   "id": "7f034ede-45bf-4ddf-ac82-1f72a7720490",
   "metadata": {},
   "outputs": [
    {
     "name": "stdout",
     "output_type": "stream",
     "text": [
      "{'name': 'chris freberg', 'Weekly intake': 5, 'favourite ice creams': ['MCC', 'Chocolate']}\n"
     ]
    }
   ],
   "source": [
    "dict_cream['name'] = 'chris freberg'\n",
    "print(dict_cream)"
   ]
  },
  {
   "cell_type": "code",
   "execution_count": 43,
   "id": "c2aa9bbf-c857-4c63-bda4-0fcb5aca370d",
   "metadata": {},
   "outputs": [
    {
     "name": "stdout",
     "output_type": "stream",
     "text": [
      "{'name': 'chris freberg', 'Weekly intake': 10, 'favourite ice creams': ['MCC', 'Chocolate'], 'weight': 300}\n"
     ]
    }
   ],
   "source": [
    "#update \n",
    "# using update you cant replace key/values just add the key/value pair at the end\n",
    "# but if you just change values for the same key then it will only update that value and not key\n",
    "\n",
    "dict_cream.update({'name': 'chris freberg', 'Weekly intake': 10, 'weight': 300})\n",
    "print(dict_cream)"
   ]
  },
  {
   "cell_type": "code",
   "execution_count": 44,
   "id": "97fec340-d33f-4377-9cac-d72296eb4015",
   "metadata": {},
   "outputs": [
    {
     "name": "stdout",
     "output_type": "stream",
     "text": [
      "{'name': 'chris freberg', 'Weekly intake': 10, 'favourite ice creams': ['MCC', 'Chocolate']}\n"
     ]
    }
   ],
   "source": [
    "del dict_cream['weight']\n",
    "print(dict_cream)"
   ]
  },
  {
   "cell_type": "code",
   "execution_count": null,
   "id": "f4fa6257-a87b-41e6-9a23-904a5bd427a6",
   "metadata": {},
   "outputs": [],
   "source": []
  },
  {
   "cell_type": "code",
   "execution_count": null,
   "id": "4dbf0b08-71b3-4820-9c92-80413fea1140",
   "metadata": {},
   "outputs": [],
   "source": []
  },
  {
   "cell_type": "code",
   "execution_count": 45,
   "id": "45522980-c049-41b6-8413-66038ad94917",
   "metadata": {},
   "outputs": [
    {
     "data": {
      "text/plain": [
       "True"
      ]
     },
     "execution_count": 45,
     "metadata": {},
     "output_type": "execute_result"
    }
   ],
   "source": [
    "#membership operators\n",
    "#values present in the object or not\n",
    "\n",
    "ice_cream = 'i love chocolate ice cream'\n",
    "\n",
    "'love' in ice_cream"
   ]
  },
  {
   "cell_type": "code",
   "execution_count": 47,
   "id": "62c4be77-0c28-4260-a4bc-cbff31b56994",
   "metadata": {},
   "outputs": [],
   "source": [
    "scoops = [1,2,3,4,5]\n"
   ]
  },
  {
   "cell_type": "code",
   "execution_count": 48,
   "id": "61c00ea6-78c7-463c-abae-9b6d360248ce",
   "metadata": {},
   "outputs": [
    {
     "data": {
      "text/plain": [
       "True"
      ]
     },
     "execution_count": 48,
     "metadata": {},
     "output_type": "execute_result"
    }
   ],
   "source": [
    "6 not in scoops"
   ]
  },
  {
   "cell_type": "code",
   "execution_count": 50,
   "id": "2ec965dc-7ff6-4ccd-a0bc-4680c8f20aa8",
   "metadata": {},
   "outputs": [
    {
     "data": {
      "text/plain": [
       "True"
      ]
     },
     "execution_count": 50,
     "metadata": {},
     "output_type": "execute_result"
    }
   ],
   "source": [
    "scoops = [1,2,3,4,5]\n",
    "wanted_scoops = 8\n",
    "\n",
    "wanted_scoops not in scoops"
   ]
  },
  {
   "cell_type": "code",
   "execution_count": null,
   "id": "75e92d3f-e83e-4417-9ca1-53a5b00710f1",
   "metadata": {},
   "outputs": [],
   "source": []
  }
 ],
 "metadata": {
  "kernelspec": {
   "display_name": "Python 3 (ipykernel)",
   "language": "python",
   "name": "python3"
  },
  "language_info": {
   "codemirror_mode": {
    "name": "ipython",
    "version": 3
   },
   "file_extension": ".py",
   "mimetype": "text/x-python",
   "name": "python",
   "nbconvert_exporter": "python",
   "pygments_lexer": "ipython3",
   "version": "3.11.7"
  }
 },
 "nbformat": 4,
 "nbformat_minor": 5
}
