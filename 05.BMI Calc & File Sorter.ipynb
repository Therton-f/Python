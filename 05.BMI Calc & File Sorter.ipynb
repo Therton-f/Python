{
 "cells": [
  {
   "cell_type": "markdown",
   "id": "38729399-bd5d-4304-9d1b-627f006d94a2",
   "metadata": {
    "jp-MarkdownHeadingCollapsed": true
   },
   "source": [
    "### BMI Calc"
   ]
  },
  {
   "cell_type": "code",
   "execution_count": 1,
   "id": "cf92b3a2-0f07-4126-99c2-a695dd987c30",
   "metadata": {},
   "outputs": [
    {
     "name": "stdin",
     "output_type": "stream",
     "text": [
      "Enter your name:  alex\n",
      "Enter your weight in pounds:  170\n",
      "Enter your height in inches:  69\n"
     ]
    },
    {
     "name": "stdout",
     "output_type": "stream",
     "text": [
      "25.101869355177485\n",
      "alex, You are over-weight.\n"
     ]
    }
   ],
   "source": [
    "name =  input(\"Enter your name: \")\n",
    "\n",
    "weight = int(input(\"Enter your weight in pounds: \"))\n",
    "\n",
    "height = int(input(\"Enter your height in inches: \"))\n",
    "\n",
    "BMI = (weight * 703) / (height  * height)\n",
    "\n",
    "print(BMI)\n",
    "\n",
    "if BMI > 0:\n",
    "    if(BMI < 18.5):\n",
    "        print(name + \", You are under-weight.\")\n",
    "    elif(BMI <= 24.9):\n",
    "        print(name + \", You are normal-weight.\")\n",
    "    elif(BMI <= 29.9):\n",
    "        print(name + \", You are over-weight.\")\n",
    "    elif(BMI <= 34.9):\n",
    "        print(name + \", You are obese.\")\n",
    "    elif(BMI <= 39.9):\n",
    "        print(name + \", You are severely obese.\")\n",
    "    else:\n",
    "        print(name + \", you are morbidly obese.\")\n",
    "else:\n",
    "    print('enter valid input')"
   ]
  },
  {
   "cell_type": "code",
   "execution_count": null,
   "id": "fc954249-2a6a-48d0-b90b-cea64d08eacf",
   "metadata": {},
   "outputs": [],
   "source": []
  },
  {
   "cell_type": "markdown",
   "id": "4d9e6998-88b0-445c-bedf-a9efa7bccca0",
   "metadata": {},
   "source": [
    "### Auto File Sorter"
   ]
  },
  {
   "cell_type": "code",
   "execution_count": 2,
   "id": "c4996469-b164-47e0-8559-dd2cc3326f35",
   "metadata": {},
   "outputs": [],
   "source": [
    "import os, shutil"
   ]
  },
  {
   "cell_type": "code",
   "execution_count": 17,
   "id": "02b6f19d-d574-4a79-a5e5-b7586b515f83",
   "metadata": {},
   "outputs": [],
   "source": [
    "path = r\"C:\\Users\\Therton_F\\Downloads\\DA\\Python\\Project 0 File Sorter\""
   ]
  },
  {
   "cell_type": "code",
   "execution_count": 18,
   "id": "51ceead3-a97e-46cd-affb-eab2ba259e15",
   "metadata": {},
   "outputs": [
    {
     "data": {
      "text/plain": [
       "['ALEX Bike Sales.csv',\n",
       " 'Fake file.txt',\n",
       " 'Screenshot (1).png',\n",
       " 'Screenshot (2).png']"
      ]
     },
     "execution_count": 18,
     "metadata": {},
     "output_type": "execute_result"
    }
   ],
   "source": [
    "os.listdir(path)\n",
    "#this shows everything present in the folder"
   ]
  },
  {
   "cell_type": "code",
   "execution_count": 19,
   "id": "41d2fc8f-8e4e-4741-8ed6-df1ec067a529",
   "metadata": {},
   "outputs": [],
   "source": [
    "file_name = os.listdir(path)"
   ]
  },
  {
   "cell_type": "code",
   "execution_count": 24,
   "id": "3b1571b1-5f8d-4c70-8435-0c8f11ba3e3e",
   "metadata": {},
   "outputs": [],
   "source": [
    "#creating folders\n",
    "folder_names = ['\\\\csv files', '\\\\image files', '\\\\text files']\n",
    "\n",
    "for loop in range(0,3):\n",
    "   if not os.path.exists(path + folder_names[loop]):\n",
    "        os.makedirs(path + folder_names[loop])\n",
    "\n"
   ]
  },
  {
   "cell_type": "code",
   "execution_count": 29,
   "id": "1aaba227-23a8-43a4-821f-3cec311dd10f",
   "metadata": {},
   "outputs": [],
   "source": [
    "#check for any csv file present in in our path plus also ensuring no csv file in created folder\n",
    "for file in file_name:\n",
    "    if \".csv\" in file and not os.path.exists(path + \"\\\\csv files\\\\\" + file):\n",
    "        shutil.move(path + \"\\\\\" + file, path + \"\\\\csv files\\\\\" + file)\n",
    "    elif \".png\" in file and not os.path.exists(path + \"\\\\image files\\\\\" + file):\n",
    "        shutil.move(path + \"\\\\\" + file, path + \"\\\\image files\\\\\" + file)\n",
    "    elif \".txt\" in file and not os.path.exists(path + \"\\\\text files\\\\\" + file):\n",
    "        shutil.move(path + \"\\\\\" + file, path + \"\\\\text files\\\\\" + file)"
   ]
  },
  {
   "cell_type": "code",
   "execution_count": 6,
   "id": "5f6f16d1-8779-4cad-8344-e905c23b54e6",
   "metadata": {},
   "outputs": [
    {
     "data": {
      "text/plain": [
       "False"
      ]
     },
     "execution_count": 6,
     "metadata": {},
     "output_type": "execute_result"
    }
   ],
   "source": [
    "#checking if csv files folder exists\n",
    "os.path.exists(path + 'csv files')"
   ]
  }
 ],
 "metadata": {
  "kernelspec": {
   "display_name": "Python 3 (ipykernel)",
   "language": "python",
   "name": "python3"
  },
  "language_info": {
   "codemirror_mode": {
    "name": "ipython",
    "version": 3
   },
   "file_extension": ".py",
   "mimetype": "text/x-python",
   "name": "python",
   "nbconvert_exporter": "python",
   "pygments_lexer": "ipython3",
   "version": "3.11.7"
  }
 },
 "nbformat": 4,
 "nbformat_minor": 5
}
