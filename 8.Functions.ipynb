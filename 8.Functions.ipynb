{
 "cells": [
  {
   "cell_type": "code",
   "execution_count": 1,
   "id": "2a8fbc1e-cba9-4cdb-b3dc-12333316c136",
   "metadata": {},
   "outputs": [],
   "source": [
    "def first_fn():\n",
    "    print('we did it!')"
   ]
  },
  {
   "cell_type": "code",
   "execution_count": 2,
   "id": "eea9c0c7-5911-4b78-8f5f-fc774291b6f5",
   "metadata": {},
   "outputs": [
    {
     "name": "stdout",
     "output_type": "stream",
     "text": [
      "we did it!\n"
     ]
    }
   ],
   "source": [
    "first_fn()"
   ]
  },
  {
   "cell_type": "code",
   "execution_count": null,
   "id": "f9ff6cc0-c57b-43bd-a4c9-1e5b71614935",
   "metadata": {},
   "outputs": [],
   "source": []
  },
  {
   "cell_type": "code",
   "execution_count": 3,
   "id": "ca6a8fa1-6c12-4c1d-bc02-a3369721ca42",
   "metadata": {},
   "outputs": [],
   "source": [
    "# **2 means power of 2\n",
    "\n",
    "def number_squared(number):\n",
    "    print(number**2)\n",
    "    "
   ]
  },
  {
   "cell_type": "code",
   "execution_count": 4,
   "id": "bc743e34-f0e8-4aaa-8f2a-9dd969104447",
   "metadata": {},
   "outputs": [
    {
     "name": "stdout",
     "output_type": "stream",
     "text": [
      "25\n"
     ]
    }
   ],
   "source": [
    "number_squared(5)"
   ]
  },
  {
   "cell_type": "code",
   "execution_count": null,
   "id": "34010b7e-7d74-4907-b73d-2f432344433c",
   "metadata": {},
   "outputs": [],
   "source": []
  },
  {
   "cell_type": "code",
   "execution_count": 5,
   "id": "e45e5db6-cc3e-4ff0-9ae0-eb55a2a3cea9",
   "metadata": {},
   "outputs": [],
   "source": [
    "def number_squared_cust(number, power):\n",
    "    print(number**power)"
   ]
  },
  {
   "cell_type": "code",
   "execution_count": 6,
   "id": "ced33cd3-7dd7-44aa-91b8-58d9261072ea",
   "metadata": {},
   "outputs": [
    {
     "name": "stdout",
     "output_type": "stream",
     "text": [
      "125\n"
     ]
    }
   ],
   "source": [
    "number_squared_cust(5,3)"
   ]
  },
  {
   "cell_type": "code",
   "execution_count": null,
   "id": "049773fb-396a-4258-b9a8-0a431db1d250",
   "metadata": {},
   "outputs": [],
   "source": []
  },
  {
   "cell_type": "code",
   "execution_count": 8,
   "id": "15278e2c-e1e6-40f9-ae1f-eb005cd6a396",
   "metadata": {},
   "outputs": [],
   "source": [
    "# *when we dont know the hoe many input arguments will be there\n",
    "def number_args(*number):\n",
    "    print(number[0]*number[1])\n",
    "    "
   ]
  },
  {
   "cell_type": "code",
   "execution_count": 9,
   "id": "4c6eae85-6f08-48f9-b630-a8d9d3f28bb1",
   "metadata": {},
   "outputs": [
    {
     "name": "stdout",
     "output_type": "stream",
     "text": [
      "30\n"
     ]
    }
   ],
   "source": [
    "number_args(5,6,1,2,8)"
   ]
  },
  {
   "cell_type": "code",
   "execution_count": 14,
   "id": "8d028603-a5ba-4e1b-9739-5bddb2c7a376",
   "metadata": {},
   "outputs": [
    {
     "name": "stdout",
     "output_type": "stream",
     "text": [
      "30\n"
     ]
    }
   ],
   "source": [
    "#can get arguments from tuples also\n",
    "# bur have to used * for calling tuples in fn\n",
    "args_tuples = (5,6,1,2,8)\n",
    "number_args(*args_tuples)"
   ]
  },
  {
   "cell_type": "code",
   "execution_count": null,
   "id": "752ee0f3-3fd9-4e37-b5ec-f2597e7f9631",
   "metadata": {},
   "outputs": [],
   "source": []
  },
  {
   "cell_type": "code",
   "execution_count": null,
   "id": "28342716-5ed0-4c0e-a058-26ae0fb31452",
   "metadata": {},
   "outputs": [],
   "source": [
    "def number_squared_cust(number, power):\n",
    "    print(number**power)"
   ]
  },
  {
   "cell_type": "code",
   "execution_count": 15,
   "id": "30d16816-469f-4b19-a4e6-63a4445a9c60",
   "metadata": {},
   "outputs": [
    {
     "name": "stdout",
     "output_type": "stream",
     "text": [
      "243\n"
     ]
    }
   ],
   "source": [
    "number_squared_cust(power = 5,number = 3)"
   ]
  },
  {
   "cell_type": "code",
   "execution_count": null,
   "id": "322a1ee2-5030-4dd2-abcd-5f95e4bd6431",
   "metadata": {},
   "outputs": [],
   "source": []
  },
  {
   "cell_type": "code",
   "execution_count": 20,
   "id": "9c0cb18c-d06c-4881-8b54-a191c493222e",
   "metadata": {},
   "outputs": [],
   "source": [
    "# ** when we dont know the how many key arguments we are going to input\n",
    "\n",
    "def number_kwarg(**number):\n",
    "    print('My number is: ' + number['integer'] + 'My other number: ' + number['integer2'])"
   ]
  },
  {
   "cell_type": "code",
   "execution_count": 21,
   "id": "8d5a8916-e997-4961-91aa-e6def861402e",
   "metadata": {},
   "outputs": [
    {
     "name": "stdout",
     "output_type": "stream",
     "text": [
      "My number is: 2309My other number: 349\n"
     ]
    }
   ],
   "source": [
    "number_kwarg(integer = '2309', integer2 = '349')"
   ]
  },
  {
   "cell_type": "code",
   "execution_count": null,
   "id": "b35fb77c-2f6b-4ada-8002-2c45a356a701",
   "metadata": {},
   "outputs": [],
   "source": []
  },
  {
   "cell_type": "code",
   "execution_count": null,
   "id": "72d23937-62ec-4b1a-9f77-28947a5f6a74",
   "metadata": {},
   "outputs": [],
   "source": []
  },
  {
   "cell_type": "code",
   "execution_count": null,
   "id": "7b87747c-ae1f-42d7-9e69-9b3bb613b8d1",
   "metadata": {},
   "outputs": [],
   "source": []
  },
  {
   "cell_type": "code",
   "execution_count": null,
   "id": "24db85e4-e783-47f5-b588-1406eb45ef1e",
   "metadata": {},
   "outputs": [],
   "source": []
  },
  {
   "cell_type": "code",
   "execution_count": null,
   "id": "826fb6d5-1fd0-4d64-acc0-6ff1de70ead4",
   "metadata": {},
   "outputs": [],
   "source": []
  },
  {
   "cell_type": "code",
   "execution_count": null,
   "id": "14f0457e-5d5f-4e69-b131-e333de0d2553",
   "metadata": {},
   "outputs": [],
   "source": []
  },
  {
   "cell_type": "code",
   "execution_count": null,
   "id": "6129bfc2-b18f-467f-a9a1-ac6850d47db2",
   "metadata": {},
   "outputs": [],
   "source": []
  },
  {
   "cell_type": "code",
   "execution_count": null,
   "id": "352ec184-f305-4f44-a4a3-7936bac805a9",
   "metadata": {},
   "outputs": [],
   "source": []
  },
  {
   "cell_type": "code",
   "execution_count": null,
   "id": "f3b31b53-75eb-4366-8ba1-b27cbd704dda",
   "metadata": {},
   "outputs": [],
   "source": []
  },
  {
   "cell_type": "code",
   "execution_count": null,
   "id": "bb9bd3cb-5afa-4c54-b87b-8aa1f06854ec",
   "metadata": {},
   "outputs": [],
   "source": []
  },
  {
   "cell_type": "code",
   "execution_count": null,
   "id": "ed423291-afed-47b3-b32d-b90f3c14f00c",
   "metadata": {},
   "outputs": [],
   "source": []
  },
  {
   "cell_type": "code",
   "execution_count": null,
   "id": "5405352b-378d-43e8-a0cf-aeba2ca73d7c",
   "metadata": {},
   "outputs": [],
   "source": []
  },
  {
   "cell_type": "code",
   "execution_count": null,
   "id": "b0b85ff4-28b5-447c-b2bb-156ffac21c1a",
   "metadata": {},
   "outputs": [],
   "source": []
  }
 ],
 "metadata": {
  "kernelspec": {
   "display_name": "Python 3 (ipykernel)",
   "language": "python",
   "name": "python3"
  },
  "language_info": {
   "codemirror_mode": {
    "name": "ipython",
    "version": 3
   },
   "file_extension": ".py",
   "mimetype": "text/x-python",
   "name": "python",
   "nbconvert_exporter": "python",
   "pygments_lexer": "ipython3",
   "version": "3.11.7"
  }
 },
 "nbformat": 4,
 "nbformat_minor": 5
}
