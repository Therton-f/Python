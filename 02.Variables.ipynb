{
 "cells": [
  {
   "cell_type": "code",
   "execution_count": null,
   "id": "c59eee94-ac03-4bb8-b0ef-9b5c12b71b70",
   "metadata": {},
   "outputs": [],
   "source": [
    "# if you assign new value to existing variable it will be updated and on printing latest value appear"
   ]
  },
  {
   "cell_type": "code",
   "execution_count": 3,
   "id": "42b65ac5-e13d-4d0b-8e3d-3645488aea6f",
   "metadata": {},
   "outputs": [
    {
     "name": "stdout",
     "output_type": "stream",
     "text": [
      "chocolate\n",
      "vanilla\n",
      "rocky road\n"
     ]
    }
   ],
   "source": [
    "#multiple variable value assigning\n",
    "x,y,z = 'chocolate', 'vanilla', 'rocky road'\n",
    "\n",
    "print(x)\n",
    "print(y)\n",
    "print(z)"
   ]
  },
  {
   "cell_type": "code",
   "execution_count": 4,
   "id": "272a5984-0114-43a3-a9cd-20de91c89825",
   "metadata": {},
   "outputs": [
    {
     "name": "stdout",
     "output_type": "stream",
     "text": [
      "root beer float\n",
      "root beer float\n",
      "root beer float\n"
     ]
    }
   ],
   "source": [
    "#assign same value to multiple variable\n",
    "x = y = z = 'root beer float'\n",
    "print(x)\n",
    "print(y)\n",
    "print(z)"
   ]
  },
  {
   "cell_type": "code",
   "execution_count": 6,
   "id": "757d96de-3adb-4998-b6b0-5fcc7c1d2e6d",
   "metadata": {},
   "outputs": [
    {
     "name": "stdout",
     "output_type": "stream",
     "text": [
      "chocolate\n",
      "vanilla\n",
      "rocky road\n"
     ]
    }
   ],
   "source": [
    "#extracting values out of list and assigning to variable\n",
    "ice_cream = ['chocolate', 'vanilla', 'rocky road']\n",
    "\n",
    "x,y,z = ice_cream\n",
    "\n",
    "print(x)\n",
    "print(y)\n",
    "print(z)"
   ]
  },
  {
   "cell_type": "code",
   "execution_count": null,
   "id": "b9b005e3-0e06-455a-a45e-62416f0e2a13",
   "metadata": {},
   "outputs": [],
   "source": []
  },
  {
   "cell_type": "code",
   "execution_count": null,
   "id": "7ee2a567-3f9f-41a9-8a9b-020f1ba7a8fb",
   "metadata": {},
   "outputs": [],
   "source": [
    "#camel case\n",
    "#Test Variable case\n",
    "testVariableCase = 'Vanilla swirl'"
   ]
  },
  {
   "cell_type": "code",
   "execution_count": null,
   "id": "8cd789d8-39f5-4727-ae54-294dcf6efc5b",
   "metadata": {},
   "outputs": [],
   "source": [
    "#Pascal case\n",
    "#Test Variable case\n",
    "TestVariableCase = 'Vanilla swirl'"
   ]
  },
  {
   "cell_type": "code",
   "execution_count": null,
   "id": "cc043649-1e4b-4e71-9f4c-a084e2ed0d40",
   "metadata": {},
   "outputs": [],
   "source": [
    "#snake case\n",
    "#Test Variable case\n",
    "test_variable_case = 'Vanilla swirl'"
   ]
  },
  {
   "cell_type": "code",
   "execution_count": null,
   "id": "03a154f1-0b85-4998-a2f4-73de0d280adc",
   "metadata": {},
   "outputs": [],
   "source": []
  },
  {
   "cell_type": "code",
   "execution_count": null,
   "id": "a3d4d1b0-9064-496c-afdd-b21f7f6c3006",
   "metadata": {},
   "outputs": [],
   "source": [
    "#allowed variable naming\n",
    "testvar='Vanilla'\n",
    "test_var='Vanilla'\n",
    "_test_var='Vanilla'\n",
    "Testvar='Vanilla'\n",
    "testvar2='Vanilla'"
   ]
  },
  {
   "cell_type": "code",
   "execution_count": null,
   "id": "5a215c2f-94e6-432d-a0ed-87d4447d99df",
   "metadata": {},
   "outputs": [],
   "source": [
    "#not allowed variable naming\n",
    "2testvar='Vanilla'\n",
    "test var='Vanilla'\n",
    "test-var='Vanilla'\n",
    "test,var='Vanilla'"
   ]
  },
  {
   "cell_type": "code",
   "execution_count": null,
   "id": "4032b9f5-d558-45a5-84d2-6c798e337fb2",
   "metadata": {},
   "outputs": [],
   "source": []
  },
  {
   "cell_type": "code",
   "execution_count": 7,
   "id": "0ef595d7-775f-4660-af78-68f626720044",
   "metadata": {},
   "outputs": [
    {
     "name": "stdout",
     "output_type": "stream",
     "text": [
      "Icecream is my fav.\n"
     ]
    }
   ],
   "source": [
    "x = 'Icecream is my fav' + '.'\n",
    "print(x)"
   ]
  },
  {
   "cell_type": "code",
   "execution_count": 9,
   "id": "69028bff-f37a-45c2-90fd-9e66bac58c2f",
   "metadata": {},
   "outputs": [
    {
     "ename": "TypeError",
     "evalue": "can only concatenate str (not \"int\") to str",
     "output_type": "error",
     "traceback": [
      "\u001b[1;31m---------------------------------------------------------------------------\u001b[0m",
      "\u001b[1;31mTypeError\u001b[0m                                 Traceback (most recent call last)",
      "Cell \u001b[1;32mIn[9], line 2\u001b[0m\n\u001b[0;32m      1\u001b[0m \u001b[38;5;66;03m#we can add str and str, int and int, but not str and number\u001b[39;00m\n\u001b[1;32m----> 2\u001b[0m x \u001b[38;5;241m=\u001b[39m \u001b[38;5;124m'\u001b[39m\u001b[38;5;124mIcecream is my fav\u001b[39m\u001b[38;5;124m'\u001b[39m \u001b[38;5;241m+\u001b[39m \u001b[38;5;241m2\u001b[39m\n\u001b[0;32m      3\u001b[0m \u001b[38;5;28mprint\u001b[39m(x)\n",
      "\u001b[1;31mTypeError\u001b[0m: can only concatenate str (not \"int\") to str"
     ]
    }
   ],
   "source": [
    "#we can add str and str, int and int, but not str and number\n",
    "x = 'Icecream is my fav' + 2\n",
    "print(x)"
   ]
  },
  {
   "cell_type": "code",
   "execution_count": null,
   "id": "e51e3848-2778-4685-947f-68edc98b1ed3",
   "metadata": {},
   "outputs": [],
   "source": []
  },
  {
   "cell_type": "code",
   "execution_count": 10,
   "id": "7623abcc-3f88-4fa6-8613-73276cdebe46",
   "metadata": {},
   "outputs": [
    {
     "name": "stdout",
     "output_type": "stream",
     "text": [
      "Ice Cream is my fav.\n"
     ]
    }
   ],
   "source": [
    "x= 'Ice Cream'\n",
    "y= ' is'\n",
    "z= ' my fav.'\n",
    "print(x+y+z)"
   ]
  },
  {
   "cell_type": "code",
   "execution_count": 11,
   "id": "5a46dac5-b893-49e3-a2b7-5f4571b30356",
   "metadata": {},
   "outputs": [
    {
     "ename": "TypeError",
     "evalue": "can only concatenate str (not \"int\") to str",
     "output_type": "error",
     "traceback": [
      "\u001b[1;31m---------------------------------------------------------------------------\u001b[0m",
      "\u001b[1;31mTypeError\u001b[0m                                 Traceback (most recent call last)",
      "Cell \u001b[1;32mIn[11], line 3\u001b[0m\n\u001b[0;32m      1\u001b[0m x \u001b[38;5;241m=\u001b[39m \u001b[38;5;124m'\u001b[39m\u001b[38;5;124mice\u001b[39m\u001b[38;5;124m'\u001b[39m\n\u001b[0;32m      2\u001b[0m y \u001b[38;5;241m=\u001b[39m \u001b[38;5;241m2\u001b[39m\n\u001b[1;32m----> 3\u001b[0m \u001b[38;5;28mprint\u001b[39m(x\u001b[38;5;241m+\u001b[39my)\n",
      "\u001b[1;31mTypeError\u001b[0m: can only concatenate str (not \"int\") to str"
     ]
    }
   ],
   "source": [
    "x = 'ice'\n",
    "y = 2\n",
    "print(x+y)"
   ]
  },
  {
   "cell_type": "code",
   "execution_count": 12,
   "id": "c2f8f0dc-4d1e-41a6-a9f9-d149ad0f892d",
   "metadata": {},
   "outputs": [
    {
     "name": "stdout",
     "output_type": "stream",
     "text": [
      "ice 2\n"
     ]
    }
   ],
   "source": [
    "x = 'ice'\n",
    "y = 2\n",
    "print(x,y)"
   ]
  },
  {
   "cell_type": "markdown",
   "id": "8e5dafdf-0270-42e6-839b-1dec142fe7da",
   "metadata": {
    "jp-MarkdownHeadingCollapsed": true
   },
   "source": [
    "#### string methods\n",
    "methods applied to string vlues only"
   ]
  },
  {
   "cell_type": "code",
   "execution_count": 4,
   "id": "32153a72-a0b3-44de-bc81-d2c915b716c7",
   "metadata": {},
   "outputs": [
    {
     "name": "stdout",
     "output_type": "stream",
     "text": [
      "HELLO\n"
     ]
    }
   ],
   "source": [
    "x = 'hello'.upper()\n",
    "print(x)"
   ]
  },
  {
   "cell_type": "code",
   "execution_count": 5,
   "id": "48481ee3-0709-43f4-81ec-79d203546df2",
   "metadata": {},
   "outputs": [
    {
     "name": "stdout",
     "output_type": "stream",
     "text": [
      "HELLO\n"
     ]
    }
   ],
   "source": [
    "x = 'hello'\n",
    "print(x.upper())"
   ]
  },
  {
   "cell_type": "code",
   "execution_count": null,
   "id": "9d11fa74-b49c-4ad3-96d7-965f9241b553",
   "metadata": {},
   "outputs": [],
   "source": [
    "# .capitalize() -> 1st letter capital\n",
    "# .count('ll') -> count the number of times double l used in string, -> itis case sensitive while counting"
   ]
  },
  {
   "cell_type": "code",
   "execution_count": 6,
   "id": "dcd99906-95d9-4ed1-be77-5c241343b0dc",
   "metadata": {},
   "outputs": [
    {
     "name": "stdout",
     "output_type": "stream",
     "text": [
      "1\n"
     ]
    }
   ],
   "source": [
    "print(x.count('ll'))"
   ]
  },
  {
   "cell_type": "code",
   "execution_count": 7,
   "id": "71c8bb90-8ec3-4074-93d4-d28fb055c1af",
   "metadata": {},
   "outputs": [
    {
     "name": "stdout",
     "output_type": "stream",
     "text": [
      "2\n"
     ]
    }
   ],
   "source": [
    "y = 'heLLO World'\n",
    "print(y.lower().count('o'))"
   ]
  },
  {
   "cell_type": "markdown",
   "id": "0fefa15b-8935-4a0e-a3e0-e42db446cf6c",
   "metadata": {
    "jp-MarkdownHeadingCollapsed": true
   },
   "source": [
    "#### other"
   ]
  },
  {
   "cell_type": "code",
   "execution_count": 1,
   "id": "583edac5-0897-44c0-9ecb-bbe36f79cd50",
   "metadata": {},
   "outputs": [],
   "source": [
    "multiline = \"\"\"\n",
    "the ice cream vanquished\n",
    "my longing for sweets,\n",
    "upon this diet i look away\n",
    "it no longer exists\n",
    "\"\"\""
   ]
  },
  {
   "cell_type": "code",
   "execution_count": 2,
   "id": "fa47a86d-c200-4f8a-b222-e924b440c8cc",
   "metadata": {},
   "outputs": [
    {
     "name": "stdout",
     "output_type": "stream",
     "text": [
      "\n",
      "the ice cream vanquished\n",
      "my longing for sweets,\n",
      "upon this diet i look away\n",
      "it no longer exists\n",
      "\n"
     ]
    }
   ],
   "source": [
    "print(multiline)"
   ]
  },
  {
   "cell_type": "code",
   "execution_count": 3,
   "id": "8e061ad5-d6a0-490e-b7b8-07116470e01d",
   "metadata": {},
   "outputs": [
    {
     "data": {
      "text/plain": [
       "' ice cream is \"good\" . '"
      ]
     },
     "execution_count": 3,
     "metadata": {},
     "output_type": "execute_result"
    }
   ],
   "source": [
    "#  \" will priorotise above '.....\n",
    "#if we want to use ' in sentence then for that string use \", any thing between \"\" will be print inc. '\n",
    "#if we want to use \" in sentence then for that string use \"\"\", any thing between \"\"\" \"\"\" will be print inc. \"\n",
    "\n",
    "\"\"\" ice cream is \"good\" . \"\"\""
   ]
  },
  {
   "cell_type": "code",
   "execution_count": 4,
   "id": "f7a736d1-69ef-4912-8e9e-aa173fb29561",
   "metadata": {},
   "outputs": [],
   "source": [
    "a = 'Hello World!'"
   ]
  },
  {
   "cell_type": "code",
   "execution_count": 5,
   "id": "d41fa167-ce59-4913-8d40-089ea90205b7",
   "metadata": {},
   "outputs": [
    {
     "name": "stdout",
     "output_type": "stream",
     "text": [
      "Hello\n",
      "llo\n",
      " \n",
      "W\n",
      "l\n"
     ]
    }
   ],
   "source": [
    "#printing from index 0 to index 4\n",
    "print(a[:5])\n",
    "#printing from index 2 to index 4\n",
    "print(a[2:5])\n",
    "#printing specific index position letter\n",
    "print(a[5])\n",
    "print(a[6])\n",
    "\n",
    "#printing from backword\n",
    "print(a[-3])"
   ]
  },
  {
   "cell_type": "code",
   "execution_count": 6,
   "id": "5f86d9e0-7e0b-40aa-942f-b74fc514f965",
   "metadata": {},
   "outputs": [],
   "source": [
    "# generally arithmetic operations dont work b/w string & number,but with string on left and *by number works"
   ]
  },
  {
   "cell_type": "code",
   "execution_count": 7,
   "id": "75f81f05-05de-40db-9d8a-f1932816a4a0",
   "metadata": {},
   "outputs": [
    {
     "data": {
      "text/plain": [
       "'Hello World!Hello World!Hello World!'"
      ]
     },
     "execution_count": 7,
     "metadata": {},
     "output_type": "execute_result"
    }
   ],
   "source": [
    "a*3"
   ]
  },
  {
   "cell_type": "code",
   "execution_count": 8,
   "id": "525891f5-ec66-496c-b0a0-3b0857559d1e",
   "metadata": {},
   "outputs": [
    {
     "data": {
      "text/plain": [
       "'Hello World!Hello World!'"
      ]
     },
     "execution_count": 8,
     "metadata": {},
     "output_type": "execute_result"
    }
   ],
   "source": [
    "a+a"
   ]
  },
  {
   "cell_type": "code",
   "execution_count": null,
   "id": "53016123-d5c6-4f55-a302-3d9e4ce9c853",
   "metadata": {},
   "outputs": [],
   "source": []
  }
 ],
 "metadata": {
  "kernelspec": {
   "display_name": "Python 3 (ipykernel)",
   "language": "python",
   "name": "python3"
  },
  "language_info": {
   "codemirror_mode": {
    "name": "ipython",
    "version": 3
   },
   "file_extension": ".py",
   "mimetype": "text/x-python",
   "name": "python",
   "nbconvert_exporter": "python",
   "pygments_lexer": "ipython3",
   "version": "3.11.7"
  }
 },
 "nbformat": 4,
 "nbformat_minor": 5
}
